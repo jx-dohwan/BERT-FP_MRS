{
  "nbformat": 4,
  "nbformat_minor": 0,
  "metadata": {
    "colab": {
      "provenance": [],
      "mount_file_id": "13CXwgPpD6te_DMFC65rtkNcRwj6hk3Pn",
      "authorship_tag": "ABX9TyMQTg45cjRaOp4xtu5yr9A1",
      "include_colab_link": true
    },
    "kernelspec": {
      "name": "python3",
      "display_name": "Python 3"
    },
    "language_info": {
      "name": "python"
    },
    "widgets": {
      "application/vnd.jupyter.widget-state+json": {
        "b545f4167c1e4c7f9b6ff9b3d12b77f2": {
          "model_module": "@jupyter-widgets/controls",
          "model_name": "HBoxModel",
          "model_module_version": "1.5.0",
          "state": {
            "_dom_classes": [],
            "_model_module": "@jupyter-widgets/controls",
            "_model_module_version": "1.5.0",
            "_model_name": "HBoxModel",
            "_view_count": null,
            "_view_module": "@jupyter-widgets/controls",
            "_view_module_version": "1.5.0",
            "_view_name": "HBoxView",
            "box_style": "",
            "children": [
              "IPY_MODEL_abd800b88b8f42f7865bd57f3bf3bc97",
              "IPY_MODEL_743b2a3b9e2c4729b3397216c2702252",
              "IPY_MODEL_3c925f64b6cd4143b29986886c32fedf"
            ],
            "layout": "IPY_MODEL_2ec3a79fede04f8fb750b543069fe661"
          }
        },
        "abd800b88b8f42f7865bd57f3bf3bc97": {
          "model_module": "@jupyter-widgets/controls",
          "model_name": "HTMLModel",
          "model_module_version": "1.5.0",
          "state": {
            "_dom_classes": [],
            "_model_module": "@jupyter-widgets/controls",
            "_model_module_version": "1.5.0",
            "_model_name": "HTMLModel",
            "_view_count": null,
            "_view_module": "@jupyter-widgets/controls",
            "_view_module_version": "1.5.0",
            "_view_name": "HTMLView",
            "description": "",
            "description_tooltip": null,
            "layout": "IPY_MODEL_2e428371470344d0995463db5533e46e",
            "placeholder": "​",
            "style": "IPY_MODEL_9756439aa0fd46d6a342bc0b5dd89aa8",
            "value": "Downloading (…)lve/main/config.json: 100%"
          }
        },
        "743b2a3b9e2c4729b3397216c2702252": {
          "model_module": "@jupyter-widgets/controls",
          "model_name": "FloatProgressModel",
          "model_module_version": "1.5.0",
          "state": {
            "_dom_classes": [],
            "_model_module": "@jupyter-widgets/controls",
            "_model_module_version": "1.5.0",
            "_model_name": "FloatProgressModel",
            "_view_count": null,
            "_view_module": "@jupyter-widgets/controls",
            "_view_module_version": "1.5.0",
            "_view_name": "ProgressView",
            "bar_style": "success",
            "description": "",
            "description_tooltip": null,
            "layout": "IPY_MODEL_b62e93dc48cd43968dcddb9c3e246eb6",
            "max": 546,
            "min": 0,
            "orientation": "horizontal",
            "style": "IPY_MODEL_a6964d4aad53476b96ebfc81b7f1f7b8",
            "value": 546
          }
        },
        "3c925f64b6cd4143b29986886c32fedf": {
          "model_module": "@jupyter-widgets/controls",
          "model_name": "HTMLModel",
          "model_module_version": "1.5.0",
          "state": {
            "_dom_classes": [],
            "_model_module": "@jupyter-widgets/controls",
            "_model_module_version": "1.5.0",
            "_model_name": "HTMLModel",
            "_view_count": null,
            "_view_module": "@jupyter-widgets/controls",
            "_view_module_version": "1.5.0",
            "_view_name": "HTMLView",
            "description": "",
            "description_tooltip": null,
            "layout": "IPY_MODEL_ac2f954285af42dc860eb214018a199c",
            "placeholder": "​",
            "style": "IPY_MODEL_6611200695c94330adc9289b11a9cb2b",
            "value": " 546/546 [00:00&lt;00:00, 6.65kB/s]"
          }
        },
        "2ec3a79fede04f8fb750b543069fe661": {
          "model_module": "@jupyter-widgets/base",
          "model_name": "LayoutModel",
          "model_module_version": "1.2.0",
          "state": {
            "_model_module": "@jupyter-widgets/base",
            "_model_module_version": "1.2.0",
            "_model_name": "LayoutModel",
            "_view_count": null,
            "_view_module": "@jupyter-widgets/base",
            "_view_module_version": "1.2.0",
            "_view_name": "LayoutView",
            "align_content": null,
            "align_items": null,
            "align_self": null,
            "border": null,
            "bottom": null,
            "display": null,
            "flex": null,
            "flex_flow": null,
            "grid_area": null,
            "grid_auto_columns": null,
            "grid_auto_flow": null,
            "grid_auto_rows": null,
            "grid_column": null,
            "grid_gap": null,
            "grid_row": null,
            "grid_template_areas": null,
            "grid_template_columns": null,
            "grid_template_rows": null,
            "height": null,
            "justify_content": null,
            "justify_items": null,
            "left": null,
            "margin": null,
            "max_height": null,
            "max_width": null,
            "min_height": null,
            "min_width": null,
            "object_fit": null,
            "object_position": null,
            "order": null,
            "overflow": null,
            "overflow_x": null,
            "overflow_y": null,
            "padding": null,
            "right": null,
            "top": null,
            "visibility": null,
            "width": null
          }
        },
        "2e428371470344d0995463db5533e46e": {
          "model_module": "@jupyter-widgets/base",
          "model_name": "LayoutModel",
          "model_module_version": "1.2.0",
          "state": {
            "_model_module": "@jupyter-widgets/base",
            "_model_module_version": "1.2.0",
            "_model_name": "LayoutModel",
            "_view_count": null,
            "_view_module": "@jupyter-widgets/base",
            "_view_module_version": "1.2.0",
            "_view_name": "LayoutView",
            "align_content": null,
            "align_items": null,
            "align_self": null,
            "border": null,
            "bottom": null,
            "display": null,
            "flex": null,
            "flex_flow": null,
            "grid_area": null,
            "grid_auto_columns": null,
            "grid_auto_flow": null,
            "grid_auto_rows": null,
            "grid_column": null,
            "grid_gap": null,
            "grid_row": null,
            "grid_template_areas": null,
            "grid_template_columns": null,
            "grid_template_rows": null,
            "height": null,
            "justify_content": null,
            "justify_items": null,
            "left": null,
            "margin": null,
            "max_height": null,
            "max_width": null,
            "min_height": null,
            "min_width": null,
            "object_fit": null,
            "object_position": null,
            "order": null,
            "overflow": null,
            "overflow_x": null,
            "overflow_y": null,
            "padding": null,
            "right": null,
            "top": null,
            "visibility": null,
            "width": null
          }
        },
        "9756439aa0fd46d6a342bc0b5dd89aa8": {
          "model_module": "@jupyter-widgets/controls",
          "model_name": "DescriptionStyleModel",
          "model_module_version": "1.5.0",
          "state": {
            "_model_module": "@jupyter-widgets/controls",
            "_model_module_version": "1.5.0",
            "_model_name": "DescriptionStyleModel",
            "_view_count": null,
            "_view_module": "@jupyter-widgets/base",
            "_view_module_version": "1.2.0",
            "_view_name": "StyleView",
            "description_width": ""
          }
        },
        "b62e93dc48cd43968dcddb9c3e246eb6": {
          "model_module": "@jupyter-widgets/base",
          "model_name": "LayoutModel",
          "model_module_version": "1.2.0",
          "state": {
            "_model_module": "@jupyter-widgets/base",
            "_model_module_version": "1.2.0",
            "_model_name": "LayoutModel",
            "_view_count": null,
            "_view_module": "@jupyter-widgets/base",
            "_view_module_version": "1.2.0",
            "_view_name": "LayoutView",
            "align_content": null,
            "align_items": null,
            "align_self": null,
            "border": null,
            "bottom": null,
            "display": null,
            "flex": null,
            "flex_flow": null,
            "grid_area": null,
            "grid_auto_columns": null,
            "grid_auto_flow": null,
            "grid_auto_rows": null,
            "grid_column": null,
            "grid_gap": null,
            "grid_row": null,
            "grid_template_areas": null,
            "grid_template_columns": null,
            "grid_template_rows": null,
            "height": null,
            "justify_content": null,
            "justify_items": null,
            "left": null,
            "margin": null,
            "max_height": null,
            "max_width": null,
            "min_height": null,
            "min_width": null,
            "object_fit": null,
            "object_position": null,
            "order": null,
            "overflow": null,
            "overflow_x": null,
            "overflow_y": null,
            "padding": null,
            "right": null,
            "top": null,
            "visibility": null,
            "width": null
          }
        },
        "a6964d4aad53476b96ebfc81b7f1f7b8": {
          "model_module": "@jupyter-widgets/controls",
          "model_name": "ProgressStyleModel",
          "model_module_version": "1.5.0",
          "state": {
            "_model_module": "@jupyter-widgets/controls",
            "_model_module_version": "1.5.0",
            "_model_name": "ProgressStyleModel",
            "_view_count": null,
            "_view_module": "@jupyter-widgets/base",
            "_view_module_version": "1.2.0",
            "_view_name": "StyleView",
            "bar_color": null,
            "description_width": ""
          }
        },
        "ac2f954285af42dc860eb214018a199c": {
          "model_module": "@jupyter-widgets/base",
          "model_name": "LayoutModel",
          "model_module_version": "1.2.0",
          "state": {
            "_model_module": "@jupyter-widgets/base",
            "_model_module_version": "1.2.0",
            "_model_name": "LayoutModel",
            "_view_count": null,
            "_view_module": "@jupyter-widgets/base",
            "_view_module_version": "1.2.0",
            "_view_name": "LayoutView",
            "align_content": null,
            "align_items": null,
            "align_self": null,
            "border": null,
            "bottom": null,
            "display": null,
            "flex": null,
            "flex_flow": null,
            "grid_area": null,
            "grid_auto_columns": null,
            "grid_auto_flow": null,
            "grid_auto_rows": null,
            "grid_column": null,
            "grid_gap": null,
            "grid_row": null,
            "grid_template_areas": null,
            "grid_template_columns": null,
            "grid_template_rows": null,
            "height": null,
            "justify_content": null,
            "justify_items": null,
            "left": null,
            "margin": null,
            "max_height": null,
            "max_width": null,
            "min_height": null,
            "min_width": null,
            "object_fit": null,
            "object_position": null,
            "order": null,
            "overflow": null,
            "overflow_x": null,
            "overflow_y": null,
            "padding": null,
            "right": null,
            "top": null,
            "visibility": null,
            "width": null
          }
        },
        "6611200695c94330adc9289b11a9cb2b": {
          "model_module": "@jupyter-widgets/controls",
          "model_name": "DescriptionStyleModel",
          "model_module_version": "1.5.0",
          "state": {
            "_model_module": "@jupyter-widgets/controls",
            "_model_module_version": "1.5.0",
            "_model_name": "DescriptionStyleModel",
            "_view_count": null,
            "_view_module": "@jupyter-widgets/base",
            "_view_module_version": "1.2.0",
            "_view_name": "StyleView",
            "description_width": ""
          }
        },
        "e2d46b384e90456c97a261d891b164c3": {
          "model_module": "@jupyter-widgets/controls",
          "model_name": "HBoxModel",
          "model_module_version": "1.5.0",
          "state": {
            "_dom_classes": [],
            "_model_module": "@jupyter-widgets/controls",
            "_model_module_version": "1.5.0",
            "_model_name": "HBoxModel",
            "_view_count": null,
            "_view_module": "@jupyter-widgets/controls",
            "_view_module_version": "1.5.0",
            "_view_name": "HBoxView",
            "box_style": "",
            "children": [
              "IPY_MODEL_2b42fcc57cd94b3dab61b2c414a619d6",
              "IPY_MODEL_ab2058e37729449e9639d0ef79b4ab51",
              "IPY_MODEL_138d07fa14d34719a3f19a56388c927c"
            ],
            "layout": "IPY_MODEL_42328df2cd34453d85c91c8366169c83"
          }
        },
        "2b42fcc57cd94b3dab61b2c414a619d6": {
          "model_module": "@jupyter-widgets/controls",
          "model_name": "HTMLModel",
          "model_module_version": "1.5.0",
          "state": {
            "_dom_classes": [],
            "_model_module": "@jupyter-widgets/controls",
            "_model_module_version": "1.5.0",
            "_model_name": "HTMLModel",
            "_view_count": null,
            "_view_module": "@jupyter-widgets/controls",
            "_view_module_version": "1.5.0",
            "_view_name": "HTMLView",
            "description": "",
            "description_tooltip": null,
            "layout": "IPY_MODEL_1010f2b763f445698427fb0f65d23dfe",
            "placeholder": "​",
            "style": "IPY_MODEL_96d33f083dba496a84af01a374f1df12",
            "value": "Downloading (…)&quot;pytorch_model.bin&quot;;: 100%"
          }
        },
        "ab2058e37729449e9639d0ef79b4ab51": {
          "model_module": "@jupyter-widgets/controls",
          "model_name": "FloatProgressModel",
          "model_module_version": "1.5.0",
          "state": {
            "_dom_classes": [],
            "_model_module": "@jupyter-widgets/controls",
            "_model_module_version": "1.5.0",
            "_model_name": "FloatProgressModel",
            "_view_count": null,
            "_view_module": "@jupyter-widgets/controls",
            "_view_module_version": "1.5.0",
            "_view_name": "ProgressView",
            "bar_style": "success",
            "description": "",
            "description_tooltip": null,
            "layout": "IPY_MODEL_49704e99451444c9976332a38a9f1487",
            "max": 442694866,
            "min": 0,
            "orientation": "horizontal",
            "style": "IPY_MODEL_54f13807344147c7bd74fae1eab687c1",
            "value": 442694866
          }
        },
        "138d07fa14d34719a3f19a56388c927c": {
          "model_module": "@jupyter-widgets/controls",
          "model_name": "HTMLModel",
          "model_module_version": "1.5.0",
          "state": {
            "_dom_classes": [],
            "_model_module": "@jupyter-widgets/controls",
            "_model_module_version": "1.5.0",
            "_model_name": "HTMLModel",
            "_view_count": null,
            "_view_module": "@jupyter-widgets/controls",
            "_view_module_version": "1.5.0",
            "_view_name": "HTMLView",
            "description": "",
            "description_tooltip": null,
            "layout": "IPY_MODEL_0c6955701ed345ab80488185d8cea824",
            "placeholder": "​",
            "style": "IPY_MODEL_0ed901ba64e441619e017bb10fedf77b",
            "value": " 443M/443M [00:06&lt;00:00, 77.4MB/s]"
          }
        },
        "42328df2cd34453d85c91c8366169c83": {
          "model_module": "@jupyter-widgets/base",
          "model_name": "LayoutModel",
          "model_module_version": "1.2.0",
          "state": {
            "_model_module": "@jupyter-widgets/base",
            "_model_module_version": "1.2.0",
            "_model_name": "LayoutModel",
            "_view_count": null,
            "_view_module": "@jupyter-widgets/base",
            "_view_module_version": "1.2.0",
            "_view_name": "LayoutView",
            "align_content": null,
            "align_items": null,
            "align_self": null,
            "border": null,
            "bottom": null,
            "display": null,
            "flex": null,
            "flex_flow": null,
            "grid_area": null,
            "grid_auto_columns": null,
            "grid_auto_flow": null,
            "grid_auto_rows": null,
            "grid_column": null,
            "grid_gap": null,
            "grid_row": null,
            "grid_template_areas": null,
            "grid_template_columns": null,
            "grid_template_rows": null,
            "height": null,
            "justify_content": null,
            "justify_items": null,
            "left": null,
            "margin": null,
            "max_height": null,
            "max_width": null,
            "min_height": null,
            "min_width": null,
            "object_fit": null,
            "object_position": null,
            "order": null,
            "overflow": null,
            "overflow_x": null,
            "overflow_y": null,
            "padding": null,
            "right": null,
            "top": null,
            "visibility": null,
            "width": null
          }
        },
        "1010f2b763f445698427fb0f65d23dfe": {
          "model_module": "@jupyter-widgets/base",
          "model_name": "LayoutModel",
          "model_module_version": "1.2.0",
          "state": {
            "_model_module": "@jupyter-widgets/base",
            "_model_module_version": "1.2.0",
            "_model_name": "LayoutModel",
            "_view_count": null,
            "_view_module": "@jupyter-widgets/base",
            "_view_module_version": "1.2.0",
            "_view_name": "LayoutView",
            "align_content": null,
            "align_items": null,
            "align_self": null,
            "border": null,
            "bottom": null,
            "display": null,
            "flex": null,
            "flex_flow": null,
            "grid_area": null,
            "grid_auto_columns": null,
            "grid_auto_flow": null,
            "grid_auto_rows": null,
            "grid_column": null,
            "grid_gap": null,
            "grid_row": null,
            "grid_template_areas": null,
            "grid_template_columns": null,
            "grid_template_rows": null,
            "height": null,
            "justify_content": null,
            "justify_items": null,
            "left": null,
            "margin": null,
            "max_height": null,
            "max_width": null,
            "min_height": null,
            "min_width": null,
            "object_fit": null,
            "object_position": null,
            "order": null,
            "overflow": null,
            "overflow_x": null,
            "overflow_y": null,
            "padding": null,
            "right": null,
            "top": null,
            "visibility": null,
            "width": null
          }
        },
        "96d33f083dba496a84af01a374f1df12": {
          "model_module": "@jupyter-widgets/controls",
          "model_name": "DescriptionStyleModel",
          "model_module_version": "1.5.0",
          "state": {
            "_model_module": "@jupyter-widgets/controls",
            "_model_module_version": "1.5.0",
            "_model_name": "DescriptionStyleModel",
            "_view_count": null,
            "_view_module": "@jupyter-widgets/base",
            "_view_module_version": "1.2.0",
            "_view_name": "StyleView",
            "description_width": ""
          }
        },
        "49704e99451444c9976332a38a9f1487": {
          "model_module": "@jupyter-widgets/base",
          "model_name": "LayoutModel",
          "model_module_version": "1.2.0",
          "state": {
            "_model_module": "@jupyter-widgets/base",
            "_model_module_version": "1.2.0",
            "_model_name": "LayoutModel",
            "_view_count": null,
            "_view_module": "@jupyter-widgets/base",
            "_view_module_version": "1.2.0",
            "_view_name": "LayoutView",
            "align_content": null,
            "align_items": null,
            "align_self": null,
            "border": null,
            "bottom": null,
            "display": null,
            "flex": null,
            "flex_flow": null,
            "grid_area": null,
            "grid_auto_columns": null,
            "grid_auto_flow": null,
            "grid_auto_rows": null,
            "grid_column": null,
            "grid_gap": null,
            "grid_row": null,
            "grid_template_areas": null,
            "grid_template_columns": null,
            "grid_template_rows": null,
            "height": null,
            "justify_content": null,
            "justify_items": null,
            "left": null,
            "margin": null,
            "max_height": null,
            "max_width": null,
            "min_height": null,
            "min_width": null,
            "object_fit": null,
            "object_position": null,
            "order": null,
            "overflow": null,
            "overflow_x": null,
            "overflow_y": null,
            "padding": null,
            "right": null,
            "top": null,
            "visibility": null,
            "width": null
          }
        },
        "54f13807344147c7bd74fae1eab687c1": {
          "model_module": "@jupyter-widgets/controls",
          "model_name": "ProgressStyleModel",
          "model_module_version": "1.5.0",
          "state": {
            "_model_module": "@jupyter-widgets/controls",
            "_model_module_version": "1.5.0",
            "_model_name": "ProgressStyleModel",
            "_view_count": null,
            "_view_module": "@jupyter-widgets/base",
            "_view_module_version": "1.2.0",
            "_view_name": "StyleView",
            "bar_color": null,
            "description_width": ""
          }
        },
        "0c6955701ed345ab80488185d8cea824": {
          "model_module": "@jupyter-widgets/base",
          "model_name": "LayoutModel",
          "model_module_version": "1.2.0",
          "state": {
            "_model_module": "@jupyter-widgets/base",
            "_model_module_version": "1.2.0",
            "_model_name": "LayoutModel",
            "_view_count": null,
            "_view_module": "@jupyter-widgets/base",
            "_view_module_version": "1.2.0",
            "_view_name": "LayoutView",
            "align_content": null,
            "align_items": null,
            "align_self": null,
            "border": null,
            "bottom": null,
            "display": null,
            "flex": null,
            "flex_flow": null,
            "grid_area": null,
            "grid_auto_columns": null,
            "grid_auto_flow": null,
            "grid_auto_rows": null,
            "grid_column": null,
            "grid_gap": null,
            "grid_row": null,
            "grid_template_areas": null,
            "grid_template_columns": null,
            "grid_template_rows": null,
            "height": null,
            "justify_content": null,
            "justify_items": null,
            "left": null,
            "margin": null,
            "max_height": null,
            "max_width": null,
            "min_height": null,
            "min_width": null,
            "object_fit": null,
            "object_position": null,
            "order": null,
            "overflow": null,
            "overflow_x": null,
            "overflow_y": null,
            "padding": null,
            "right": null,
            "top": null,
            "visibility": null,
            "width": null
          }
        },
        "0ed901ba64e441619e017bb10fedf77b": {
          "model_module": "@jupyter-widgets/controls",
          "model_name": "DescriptionStyleModel",
          "model_module_version": "1.5.0",
          "state": {
            "_model_module": "@jupyter-widgets/controls",
            "_model_module_version": "1.5.0",
            "_model_name": "DescriptionStyleModel",
            "_view_count": null,
            "_view_module": "@jupyter-widgets/base",
            "_view_module_version": "1.2.0",
            "_view_name": "StyleView",
            "description_width": ""
          }
        }
      }
    }
  },
  "cells": [
    {
      "cell_type": "markdown",
      "metadata": {
        "id": "view-in-github",
        "colab_type": "text"
      },
      "source": [
        "<a href=\"https://colab.research.google.com/github/jx-dohwan/BERT-FP_MRS/blob/main/fine_tuning/fine_tuning.ipynb\" target=\"_parent\"><img src=\"https://colab.research.google.com/assets/colab-badge.svg\" alt=\"Open In Colab\"/></a>"
      ]
    },
    {
      "cell_type": "markdown",
      "source": [
        "# fine-tuning"
      ],
      "metadata": {
        "id": "9OwEcL8qCDXm"
      }
    },
    {
      "cell_type": "code",
      "source": [
        "\n",
        "!pip install torch\n",
        "!pip install transformers==4.25.1"
      ],
      "metadata": {
        "colab": {
          "base_uri": "https://localhost:8080/"
        },
        "id": "U5HeoABfCjyN",
        "outputId": "fcf4441c-0166-49e7-e5b6-dce22c935539"
      },
      "execution_count": 32,
      "outputs": [
        {
          "output_type": "stream",
          "name": "stdout",
          "text": [
            "Looking in indexes: https://pypi.org/simple, https://us-python.pkg.dev/colab-wheels/public/simple/\n",
            "Requirement already satisfied: torch in /usr/local/lib/python3.8/dist-packages (1.13.1+cu116)\n",
            "Requirement already satisfied: typing-extensions in /usr/local/lib/python3.8/dist-packages (from torch) (4.4.0)\n",
            "Looking in indexes: https://pypi.org/simple, https://us-python.pkg.dev/colab-wheels/public/simple/\n",
            "Requirement already satisfied: transformers==4.25.1 in /usr/local/lib/python3.8/dist-packages (4.25.1)\n",
            "Requirement already satisfied: pyyaml>=5.1 in /usr/local/lib/python3.8/dist-packages (from transformers==4.25.1) (6.0)\n",
            "Requirement already satisfied: tqdm>=4.27 in /usr/local/lib/python3.8/dist-packages (from transformers==4.25.1) (4.64.1)\n",
            "Requirement already satisfied: tokenizers!=0.11.3,<0.14,>=0.11.1 in /usr/local/lib/python3.8/dist-packages (from transformers==4.25.1) (0.13.2)\n",
            "Requirement already satisfied: requests in /usr/local/lib/python3.8/dist-packages (from transformers==4.25.1) (2.25.1)\n",
            "Requirement already satisfied: huggingface-hub<1.0,>=0.10.0 in /usr/local/lib/python3.8/dist-packages (from transformers==4.25.1) (0.12.0)\n",
            "Requirement already satisfied: filelock in /usr/local/lib/python3.8/dist-packages (from transformers==4.25.1) (3.9.0)\n",
            "Requirement already satisfied: packaging>=20.0 in /usr/local/lib/python3.8/dist-packages (from transformers==4.25.1) (23.0)\n",
            "Requirement already satisfied: regex!=2019.12.17 in /usr/local/lib/python3.8/dist-packages (from transformers==4.25.1) (2022.6.2)\n",
            "Requirement already satisfied: numpy>=1.17 in /usr/local/lib/python3.8/dist-packages (from transformers==4.25.1) (1.21.6)\n",
            "Requirement already satisfied: typing-extensions>=3.7.4.3 in /usr/local/lib/python3.8/dist-packages (from huggingface-hub<1.0,>=0.10.0->transformers==4.25.1) (4.4.0)\n",
            "Requirement already satisfied: urllib3<1.27,>=1.21.1 in /usr/local/lib/python3.8/dist-packages (from requests->transformers==4.25.1) (1.24.3)\n",
            "Requirement already satisfied: certifi>=2017.4.17 in /usr/local/lib/python3.8/dist-packages (from requests->transformers==4.25.1) (2022.12.7)\n",
            "Requirement already satisfied: idna<3,>=2.5 in /usr/local/lib/python3.8/dist-packages (from requests->transformers==4.25.1) (2.10)\n",
            "Requirement already satisfied: chardet<5,>=3.0.2 in /usr/local/lib/python3.8/dist-packages (from requests->transformers==4.25.1) (4.0.0)\n"
          ]
        }
      ]
    },
    {
      "cell_type": "code",
      "source": [
        "\n",
        "!git clone https://github.com/smilegate-ai/korean_smile_style_dataset\n",
        "# https://corpus.korean.go.kr/\n",
        "# https://aihub.or.kr/aihub-data/natural-language/about\n",
        "     "
      ],
      "metadata": {
        "colab": {
          "base_uri": "https://localhost:8080/"
        },
        "id": "LjErn3B3Cmsg",
        "outputId": "fc0b55d6-ac0b-4f98-c8cd-f1afe9ea2144"
      },
      "execution_count": 33,
      "outputs": [
        {
          "output_type": "stream",
          "name": "stdout",
          "text": [
            "fatal: destination path 'korean_smile_style_dataset' already exists and is not an empty directory.\n"
          ]
        }
      ]
    },
    {
      "cell_type": "code",
      "source": [
        "import pandas as pd\n",
        "df = pd.read_csv('/content/korean_smile_style_dataset/smilestyle_dataset.tsv', sep='\\t')\n",
        "df.to_csv('./korean_smile_style_dataset/smile.csv', index=False)"
      ],
      "metadata": {
        "id": "nJ5zmyz-CpeE"
      },
      "execution_count": 34,
      "outputs": []
    },
    {
      "cell_type": "code",
      "source": [
        "!mv /content/korean_smile_style_dataset/smile.csv /content/drive/MyDrive/인공지능/멀티턴응답선택/korean_smile_style_dataset"
      ],
      "metadata": {
        "id": "BbkfAh1wC0X2"
      },
      "execution_count": 35,
      "outputs": []
    },
    {
      "cell_type": "markdown",
      "source": [
        "## 학습/검증 분할하기|"
      ],
      "metadata": {
        "id": "b8qyq1fpCFvl"
      }
    },
    {
      "cell_type": "code",
      "execution_count": 36,
      "metadata": {
        "id": "0S040Vb4Bb0U"
      },
      "outputs": [],
      "source": [
        "import csv\n",
        "f = open('/content/drive/MyDrive/인공지능/멀티턴응답선택/korean_smile_style_dataset/smile.csv', 'r')\n",
        "rdr = csv.reader(f)\n",
        "\n",
        "\"\"\" 세션 데이터 저장할 것 \"\"\"\n",
        "session_dataset = []\n",
        "session = []\n",
        "all_utts = []\n",
        "\n",
        "\"\"\" 실제 데이터 저장 방식 \"\"\"\n",
        "for i, line in enumerate(rdr):\n",
        "    if i == 0:\n",
        "        header = line\n",
        "    else:\n",
        "        utt = line[0]\n",
        "        if utt.strip() != '':\n",
        "            all_utts.append(utt)\n",
        "            session.append(utt)\n",
        "        else:\n",
        "            \"\"\" 세션 데이터 저장 \"\"\"\n",
        "            session_dataset.append(session)\n",
        "            session = []\n",
        "\"\"\" 마지막 세션 저장 \"\"\"\n",
        "session_dataset.append(session)\n",
        "f.close()"
      ]
    },
    {
      "cell_type": "code",
      "source": [
        "!head -20 /content/drive/MyDrive/인공지능/멀티턴응답선택/korean_smile_style_dataset/smile.csv"
      ],
      "metadata": {
        "colab": {
          "base_uri": "https://localhost:8080/"
        },
        "id": "IHj6PLbnDnRa",
        "outputId": "0eb2eba9-6f2c-4907-f758-65df09ef47e8"
      },
      "execution_count": 37,
      "outputs": [
        {
          "output_type": "stream",
          "name": "stdout",
          "text": [
            "formal,informal,android,azae,chat,choding,emoticon,enfp,gentle,halbae,halmae,joongding,king,naruto,seonbi,sosim,translator\n",
            "안녕하세요. 저는 고양이 6마리 키워요.,안녕! 나는 고양이 6마리 키워.,휴먼. 반갑다. 안드로이드는. 고양이. 6마리. 소유중.,아이고 안녕하십니까~ 나는 그냥 고양이 6마리 키우고 있는 사람이여,하잉ㅋㅋ 나 떼걸룩 6마리 키운다!,ㅎㅇ 나 주인님 6마리 모심 ㅋㅋ,안녕!! >< 나는 고양이😺를 ➏ 마리 키우고있어!! 0_0,안녕안녕~! 나 고양이 6마리나 키운다? 완전 대박이징~,\"안녕하십니까,, 저는 고양이 6마리 키웁니다.\",안녕하신가~... 난 지금 고양이를 6마리 키우고 있다네,하유 시벌것 괭이놈 6마리 키우는데 힘들어 죽겟네,안녕하냐 ㅡㅡ 나 씹냥이 6마리나 키운다 하;,반갑소. 짐은 고양이를 6마리나 키우오.,안녕하냐니깐! 난 고양이를 6마리 키우고있다니깐!,안녕하시오! 소인은 고양이를 6마리 키우고 있소!,안녕… 난 고양이 6마리 키워 ㅠㅠ,반가운. 나는 6마리의 고양이를 소지하고 있다.\n",
            "고양이를 6마리나요? 키우는거 안 힘드세요?,고양이를 6마리나? 키우는거 안 힘들어?,고양이. 6마리. 양육. 번거로운가.,아니 무슨 고양이를 6마리나? 거 키우는 거 안 힘든가?,엥? 6마리나? 안힘듬?ㅋㅋㅋㅋ,6마리? 에바아니냐 안 힘듦?,고양이를 6마리나?!! w(ﾟДﾟ)w 키우는거 안 힘듬?? (⊙_⊙;),고양이를 6마리나? 완전 대박~ 키우는 거 안 힘들어?!,\"고양이를 6마리나 키우십니까? 안 힘드신지,,\",고양이를 6마리나? 키우는거 힘들지 않는가?,니기럴 털만 날리는 거 키우기 안 힘들데?,아니 고양이를 6마리나? 안힘드냐?,고양이를 6마리나? 키우는게 수고스럽진 않소?,고양이를 6마리나? 키우는거 힘들지 않냐니깐?,고양이를 6마리나 키우고 있는 것이오? 힘들지 않소?,고양이..6마리나? ㅠ 키우는건 혹시 안힘들어..?,6마리의 고양이? 당신은 그들로부터 지치지 않습니까?\n",
            "제가 워낙 고양이를 좋아해서 크게 힘들진 않아요.,내가 워낙 고양이를 좋아해서 크게 힘들진 않아.,안드로이드. 고양이. 선호. 힘들지. 않음.,내가 또 워~낙에 고양이를 좋아해서 크게 뭐 힘들진 않고,내가 고양이 좋아해서 딱히 안힘듬 ㅋㅋㅋ,ㄱㅊ 나 고양이 환장해서 힘든 것도 모름,뭐 나야 워낙에 고양이 좋아하니까 딱히 안힘드엉! \\(@^0^@)/,내가 또 워~낙에 고양이를 좋아하잖아~ 그렇게 크~게 힘들진 않아 ㅎㅎ~,제가 워낙 고양이를 좋아해서 크게 힘들진 않습니다.,내가 워낙에...고양이가 좋아가지고 그렇게 힘들지 않어...^^,옘병 내가 좋아하니까 키워야지 시벌것,고양이 좋아한다고ㅡㅡ 1도 안힘듬 ㅡㅡ,과인은 고양이를 어여삐 어겨 그리 수고스럽진 않소,내가 고양이를 엄청 좋아해서 별로 힘들지 않다니깐!,소인 고양이를 엄청 좋아하기 때문에 별로 힘들지 않소이다.,내가 고양이 워낙 좋아해서..ㅠㅠ 크게 힘들진 않은 것 같아..,나는 고양이의 큰 애호가. 지치지 않는다.\n",
            "가장 나이가 많은 고양이가 어떻게 돼요?,가장 나이가 많은 고양이가 몇 살이야?,제일. 나이많은. 고양이. 나이. 무엇.,그려 가장 나이가 많은 고양이가 몇살이여?,가장 나이 먹은 고양이가 몇살이야?,젤 낡은 고영희가 몇 살임?,가장 나이 먹은 고양인 몇 살이양? (´･ω･`)?,대박대박 완전 대박!! 그럼 제~일 나이 많은 고양이는 몇살이야~?!,가장 나이가 있는 고양이가 몇살입니까?,고양이들 중에서…가장 나이 먹을 애가 몇살인가?...,거 젤 빨리 뒤질 놈이 나이 얼마나 쳐먹었냐,가장 늙은애가 몇살인데,최고령 고양이의 나이는 어떻게 되는가?,가장 나이 많이 먹은 고양이가 몇 살 이냐니깐?!,나이를 가장 많이 먹은 고양이가 몇 살이오?,혹시.. 제일 나이 많은 고양이는.. 몇살이야..?ㅠ,가장 늙은 고양이가 몇 년입니까?\n",
            "여섯 살입니다. 갈색 고양이에요.,여섯 살이야. 갈색 고양이지.,고양이. 갈색. 여섯살.,6살인데 갈색 고양이 있어~,이제 여섯살이고 갈색고양이임!,\"6살, 갈색임\",여설 살!! ㄱ^o^/ 색깔은 갈색! O(*￣▽￣*)ブ,\"6살인 애 있는데, 완전 귀.여.워. 갈색 고양이야 진짜 대박이지?\",6살된 갈색 아이가 있습니다.,저…갈색 고양이인데…여섯살이지~..,저 노망난 갈색놈이 6살 뒤룩뒤룩 쳐먹은 놈이여,여섯살 갈색냥인데 왜,여섯 살이오. 갈색 고양이오.,갈색 고양이가 여섯살이라니깐!,여섯 살에 갈색 고양이오,여섯살이야.. 갈색 ㅠㅠ 고양이야..ㅠ,여섯. 고양이는 갈색이다.\n",
            "그럼 가장 어린 고양이가 어떻게 돼요?,그럼 가장 어린 고양이는?,제일. 나이어린. 고양이. 나이. 무엇.,그럼 그 가장 어린 고양이는?,그럼 가장 애기인 고양이는 몇살이야?,그럼 가장 아깽이는?,그럼 가장 애기인 고양이는?? (⊙_⊙)？,대박! 완전 귀엽겠다~!! 그럼 제~일 나이 적은 애는?! 몇살이야??,그럼 가장 어린 고양이는 나이가 어떻게 됩니까?,그럼 제일 어린 고양이는 몇살인겐가?...,새파랗게 어린놈은 얼마나 쳐먹었는데?,제일 어린애는 몇살?,허면 가장 어린 고양이는 어떻게 되는가?,그럼 가장 나이 어린 고양이는 몇살이냐니깐?,그럼 가장 어린 고양이는 몇 살인 것이오?,혹시.. 제일 나이 어린 고양이는..ㅠㅠ 몇살이야..?,가장 젊은 고양이는 어떤?\n",
            "한 살입니다. 작년에 분양 받았어요.,한 살이야. 작년에 분양 받았어.,한살. 분양시기는. 작년.,그 작년에 분양 받은 1살 있지~,작년에 분양 받았는데 1살이야!,1살 ㅋㅋ 작년에 분양 받음,한살~! (ﾉ*ФωФ)ﾉ 작년 분양 받았지롱~^0^,1살 완전 대박이지~!! 작년에 분양 받았어 진짜 너무 귀여워~!,1살 짜리 아이도 있습니다. 작년에 분양 받았지요.,한 살이지~….작년에…분양 받았어~…,1살 먹은 염병할 놈 저거 작년에 분양 받았어,1살이고 작년에 데려옴,한살이오. 작년에 분양을 받게 되었소.,한 살이고. 작년에 분양 받았다니깐!,한 살인데 작년에 분양 받았소.,한살이야 ㅠ 작년에 분양 받았어..,일년. 작년에 적용했다.\n",
            "그럼 고양이들끼리 안 싸우나요?,고양이들끼리 안 싸워?,고양이. 끼리. 다툼. 없는가.,그럼 그거 고양이끼린 안 싸우나?,냥이들끼리 안 싸움?,고앵이들끼리 안 싸움?,고양인끼린 안싸웡? ＼（〇_ｏ）／,\"하유~ 귀요미들~ 혹시 그럼,, 고양이들끼린 안 싸워?!\",고양이들끼리 다투진 않나요?,고양이들은 서로…싸우거나…그러지 않나?..,그 염병할 자식들끼린 안 싸운다냐?,고양이들 맨날 싸우겠네 ㅋ,허면 고양이들끼리 다툼이 있지는 않은가?,고양이들끼리 싸우지 않냐니깐!,고양이들끼리 싸우거나 그러지는 않소?,혹시.. 고양이들끼리 싸우지는..않아? ㅠ,고양이들은 서로 결투?\n",
            "저희 일곱은 다같이 한 가족입니다. 싸우는 일은 없어요.,우리일곱은 다같이 한 가족이야. 싸우는 일은 없어.,우리일곱. 다같이 한가족. 싸우는일. 없음.,아잇 우리 일곱명은 다같이 한 가족이지 가족! 싸우는 일은 읎어~,우리 일곱은 다 한 가족이라서 싸울 일이 없어,응~ 절대 안 싸워 7-1=0 진리지,우리 일곱은 다같이 한 가족이야~:D. 싸우는 일 따윈 업쉉~o((>ω< ))o,당연 당연!! 우리 일곱은 다같이 한 가족인걸?! ,\"저희 일곱은 다같이 한 가족이라,, 싸우는 일은 없네요 ㅎㅎ\",우리 일곱은 다~같이…가족이라서..싸우는 일이 없네 그려…허허…,\"이런 개나리 쌍화차에 끓여먹을,, 우린 가 족같은 사이여가지고 싸우면 내 손에 다 디져 그럴 일 읎어야\",우리 다같이 한식군데 싸우긴 뭘 싸움 ㅡㅡ,우리 일곱은 다같이 한 가족과 같소. 싸우는 일은 없소.,우리 일곱은 다 한 간족이라 싸우는 일이 없다니깐!,우리 일곱은 다같이 한 가족이라. 싸우는 일이 없는 것이오!,우리 일곱은 다같이 한가족이라..ㅠㅠ 싸우는 일은 없는 것 같아 ㅠ,우리 가족은 칠. 낮은 다툼의 빈도.\n",
            ",,,,,,,,,,,,,,,,\n",
            "나이가 어떻게 되시는데요?,몇 살이야?,휴먼. 나이. 무엇.,거 나이가 어떻게 되나?,몇 살임?,몇살임?,몇 살이야???? (´･ω･`)?,올해 몇살이양~?!?,\"실례가 안된다면,, 나이가 어떻게 되시나요?\",몇 살이신가?....,이 새끼 이거 몇살이여?,나이몇개?,춘추가 어떻게 되는가?,몇 살이냐니깐!,몇 살인 것이오?,혹시.. 몇살이야..?ㅠ,당신은 몇 년?\n",
            "올해로 열일곱 입니다.,올해로 열일곱이야.,올해. 열일곱.,올해로 열일곱됐지 그래,올해 열일곱이야,나? 올해 열일곱,올해로 열일곱~（￣︶￣）↗　,올해로 열일곱이야!! ^^~,올해로 열일곱 되었습니다.,올해로 열일곱이지~….,올해로 열일곱 쳐먹었다,17인데 왜,금년 열 일곱일세.,올해 열일곱이라니깐!,올해로 열일곱인것이오!,올해 열일곱인데..ㅠㅠ,이번 해는 십칠.\n",
            "그럼 고등학교 1학년이겠네요.,그럼 고등학교 1학년이겠네.,고등학교. 1학년으로. 귀결.,아이고 그럼 고등학교 1학년인가?,그럼 고1이네?,아 ㄹㅇ? 고1?,고럼 고1이겠네! ( •̀ ω •́ )✧,헐헐 대박 그럼 고1이겟넹~! 완전 귀여워!!,그럼 고등학교 1학년이시겠네요.,그럼 고1이겠네~….,아유 니미럴 핏덩이네 고등학교 1학년인갑제?,고1?,허면 고등학교 일학년이란 말인가?,그럼 고1이겠다니깐!,그럼 고등학교 1학년인 것이겠소.,그럼 혹시 고등학교 1학년이야..? ㅠ,당신은 높은 학교에서 1년.\n",
            "네 맞아요.,맞아.,맞다.,그치그치~,ㅇㅇ 맞음,ㅇㅇ,맞어유~╰(*°▽°*)╯,마장마장~!,네 그렇습니다.,맞네~….,염병,ㅇ,그렇소,그렇다니깐!,그렇소!,응..,그런.\n",
            "장래희망이 어떻게 되세요?,장래희망이 어떻게 돼?,장래희망. 무엇인가.,그럼 그 꿈은 뭐 있나?,장래희망은 뭐야?,커서 뭐할거냐?,장래희망이 뭐야? (+_+)?,그럼 막 꿈 이런거는 뭐야뭐야???!,장래희망이 있습니까?,장래희망이 뭔가?...,나중에 뭐해 쳐먹고 살래?,커서 뭐할거냐,장래에 목표하는 바가 있는가?,장래희망이 뭐냐니깐!,장래희망은 무엇이오?,장래희망은 혹시 뭐야 그럼..?,미래 직업?\n",
            "저는 외교관 되는게 꿈이에요.,난 외교관이 되는게 꿈이야.,외교관. 되기가. 꿈.,외교관 되는 게 꿈이지 뭐,내 꿈은 외교관 되는거!,나? 외교관이 꿈임,내 꿈은 외교관이 되는거야! (❁´◡`❁),나아는 외교관!! 외교관되는 게 꿈이양!!,저는 외교관 되는게 꿈입니다.,난 외교관이 되는게 꿈이였지…,외교관 되서 밥벌이 하고 살아야지 시부럴 거,외교관 될건데 왜,과인은 외교관이 되고자 함이오.,난 외교관 되는게 꿈이라니깐!,소인은 외교관이 되는게 꿈이오!,난 외교관 되고싶을 것 같은데.. ㅠㅠ,외교관 꿈을 꾼다.\n",
            ",,,,,,,,,,,,,,,,\n",
            "안녕하십니까?,안녕?,휴먼. 반갑다.,안녕하십니까~ 예 뭐 잘 지내셨나 ㅎㅎ,안뇽?,ㅎㅇ?,안뇽안뇽? ^_~,헐 안녕안녕~ 너무 반갑당 ^0^~!,안녕하십니까?,안녕한가?~…,니기럴 거 아직 안 뒈지고 잘살고 있었냐?,ㅎㅇ,반갑소,안녕하냐니깐!,잘지냈소?,안녕,반가운.\n",
            "안녕하세요.,안녕.,휴먼. 반갑다.,예 뭐 잘 지내지 머 별일이 있었겠어,안뇽안뇽,ㅎㅇㅎㅇ,안녕~[]~(￣▽￣)~*,헐 대박 안뇽안뇽 너~무 오랜만이잖아~,안녕하세요.,안녕하지~….,아쉽게도 아직 뒈지진 않았네,ㅎㅇ,반갑네,안녕하다니깐!,잘 지내고있소!,안녕,반가운.\n"
          ]
        }
      ]
    },
    {
      "cell_type": "code",
      "source": [
        "print(len(session_dataset))\n"
      ],
      "metadata": {
        "colab": {
          "base_uri": "https://localhost:8080/"
        },
        "id": "Y7c92Wb7DrlR",
        "outputId": "977368f6-08e2-41b2-c720-5dd351c103e4"
      },
      "execution_count": 38,
      "outputs": [
        {
          "output_type": "stream",
          "name": "stdout",
          "text": [
            "236\n"
          ]
        }
      ]
    },
    {
      "cell_type": "code",
      "source": [
        "train_session = session_dataset[:-15]\n",
        "valid_session = session_dataset[-15:]\n",
        "len(train_session), len(valid_session)"
      ],
      "metadata": {
        "colab": {
          "base_uri": "https://localhost:8080/"
        },
        "id": "uobrf3c-EHxx",
        "outputId": "f22b74fe-54a7-43c6-d5b6-bd5c6749f56d"
      },
      "execution_count": 39,
      "outputs": [
        {
          "output_type": "execute_result",
          "data": {
            "text/plain": [
              "(221, 15)"
            ]
          },
          "metadata": {},
          "execution_count": 39
        }
      ]
    },
    {
      "cell_type": "code",
      "source": [
        "train_session[0]\n",
        "# 첫번째 데이터\n",
        "# context: 안녕하세요. 저는 고양이 6마리 키워요.\n",
        "# response: 고양이를 6마리나요? 키우는거 안 힘드세요?\n",
        "\n",
        "# 두번째 데이터\n",
        "# context: 안녕하세요. 저는 고양이 6마리 키워요. | 고양이를 6마리나요? 키우는거 안 힘드세요?\n",
        "# response: 제가 워낙 고양이를 좋아해서 크게 힘들진 않아요.\n",
        "\n",
        "# 세번째 데이터\n",
        "# context: 안녕하세요. 저는 고양이 6마리 키워요. | 고양이를 6마리나요? 키우는거 안 힘드세요? | 제가 워낙 고양이를 좋아해서 크게 힘들진 않아요.\n",
        "# response: 가장 나이가 많은 고양이가 어떻게 돼요?"
      ],
      "metadata": {
        "colab": {
          "base_uri": "https://localhost:8080/"
        },
        "id": "BtyL58P7EOTA",
        "outputId": "51c5e63b-665d-4cb6-deed-e7ea9d058b96"
      },
      "execution_count": 40,
      "outputs": [
        {
          "output_type": "execute_result",
          "data": {
            "text/plain": [
              "['안녕하세요. 저는 고양이 6마리 키워요.',\n",
              " '고양이를 6마리나요? 키우는거 안 힘드세요?',\n",
              " '제가 워낙 고양이를 좋아해서 크게 힘들진 않아요.',\n",
              " '가장 나이가 많은 고양이가 어떻게 돼요?',\n",
              " '여섯 살입니다. 갈색 고양이에요.',\n",
              " '그럼 가장 어린 고양이가 어떻게 돼요?',\n",
              " '한 살입니다. 작년에 분양 받았어요.',\n",
              " '그럼 고양이들끼리 안 싸우나요?',\n",
              " '저희 일곱은 다같이 한 가족입니다. 싸우는 일은 없어요.']"
            ]
          },
          "metadata": {},
          "execution_count": 40
        }
      ]
    },
    {
      "cell_type": "markdown",
      "source": [
        "## positive / negative pairs 구성"
      ],
      "metadata": {
        "id": "NeR4DueOEV1Y"
      }
    },
    {
      "cell_type": "code",
      "source": [
        "from collections import defaultdict\n",
        "train_json = defaultdict(dict)\n",
        "count = 0\n",
        "for session in train_session:\n",
        "    context = [session[0]]\n",
        "    for turn in range(1, len(session)):\n",
        "        utt = session[turn] \n",
        "        train_json[count]['context'] = context[:]\n",
        "        train_json[count]['response'] = utt\n",
        "        train_json[count]['label'] = 1\n",
        "        context.append(utt)\n",
        "        count += 1\n",
        "    break"
      ],
      "metadata": {
        "id": "z2PGmuw1EQEB"
      },
      "execution_count": 41,
      "outputs": []
    },
    {
      "cell_type": "code",
      "source": [
        "train_json"
      ],
      "metadata": {
        "colab": {
          "base_uri": "https://localhost:8080/"
        },
        "id": "OEiBTgyYE-GT",
        "outputId": "0f5ecadc-4c85-4aca-87e2-6ffdb56d535d"
      },
      "execution_count": 42,
      "outputs": [
        {
          "output_type": "execute_result",
          "data": {
            "text/plain": [
              "defaultdict(dict,\n",
              "            {0: {'context': ['안녕하세요. 저는 고양이 6마리 키워요.'],\n",
              "              'response': '고양이를 6마리나요? 키우는거 안 힘드세요?',\n",
              "              'label': 1},\n",
              "             1: {'context': ['안녕하세요. 저는 고양이 6마리 키워요.',\n",
              "               '고양이를 6마리나요? 키우는거 안 힘드세요?'],\n",
              "              'response': '제가 워낙 고양이를 좋아해서 크게 힘들진 않아요.',\n",
              "              'label': 1},\n",
              "             2: {'context': ['안녕하세요. 저는 고양이 6마리 키워요.',\n",
              "               '고양이를 6마리나요? 키우는거 안 힘드세요?',\n",
              "               '제가 워낙 고양이를 좋아해서 크게 힘들진 않아요.'],\n",
              "              'response': '가장 나이가 많은 고양이가 어떻게 돼요?',\n",
              "              'label': 1},\n",
              "             3: {'context': ['안녕하세요. 저는 고양이 6마리 키워요.',\n",
              "               '고양이를 6마리나요? 키우는거 안 힘드세요?',\n",
              "               '제가 워낙 고양이를 좋아해서 크게 힘들진 않아요.',\n",
              "               '가장 나이가 많은 고양이가 어떻게 돼요?'],\n",
              "              'response': '여섯 살입니다. 갈색 고양이에요.',\n",
              "              'label': 1},\n",
              "             4: {'context': ['안녕하세요. 저는 고양이 6마리 키워요.',\n",
              "               '고양이를 6마리나요? 키우는거 안 힘드세요?',\n",
              "               '제가 워낙 고양이를 좋아해서 크게 힘들진 않아요.',\n",
              "               '가장 나이가 많은 고양이가 어떻게 돼요?',\n",
              "               '여섯 살입니다. 갈색 고양이에요.'],\n",
              "              'response': '그럼 가장 어린 고양이가 어떻게 돼요?',\n",
              "              'label': 1},\n",
              "             5: {'context': ['안녕하세요. 저는 고양이 6마리 키워요.',\n",
              "               '고양이를 6마리나요? 키우는거 안 힘드세요?',\n",
              "               '제가 워낙 고양이를 좋아해서 크게 힘들진 않아요.',\n",
              "               '가장 나이가 많은 고양이가 어떻게 돼요?',\n",
              "               '여섯 살입니다. 갈색 고양이에요.',\n",
              "               '그럼 가장 어린 고양이가 어떻게 돼요?'],\n",
              "              'response': '한 살입니다. 작년에 분양 받았어요.',\n",
              "              'label': 1},\n",
              "             6: {'context': ['안녕하세요. 저는 고양이 6마리 키워요.',\n",
              "               '고양이를 6마리나요? 키우는거 안 힘드세요?',\n",
              "               '제가 워낙 고양이를 좋아해서 크게 힘들진 않아요.',\n",
              "               '가장 나이가 많은 고양이가 어떻게 돼요?',\n",
              "               '여섯 살입니다. 갈색 고양이에요.',\n",
              "               '그럼 가장 어린 고양이가 어떻게 돼요?',\n",
              "               '한 살입니다. 작년에 분양 받았어요.'],\n",
              "              'response': '그럼 고양이들끼리 안 싸우나요?',\n",
              "              'label': 1},\n",
              "             7: {'context': ['안녕하세요. 저는 고양이 6마리 키워요.',\n",
              "               '고양이를 6마리나요? 키우는거 안 힘드세요?',\n",
              "               '제가 워낙 고양이를 좋아해서 크게 힘들진 않아요.',\n",
              "               '가장 나이가 많은 고양이가 어떻게 돼요?',\n",
              "               '여섯 살입니다. 갈색 고양이에요.',\n",
              "               '그럼 가장 어린 고양이가 어떻게 돼요?',\n",
              "               '한 살입니다. 작년에 분양 받았어요.',\n",
              "               '그럼 고양이들끼리 안 싸우나요?'],\n",
              "              'response': '저희 일곱은 다같이 한 가족입니다. 싸우는 일은 없어요.',\n",
              "              'label': 1}})"
            ]
          },
          "metadata": {},
          "execution_count": 42
        }
      ]
    },
    {
      "cell_type": "code",
      "source": [
        "import random\n",
        "use_turns = 5 # 꼭 5일 필요는 없음\n",
        "neg_nums = 4 # 꼭 4일 필요는 없음\n",
        "\n",
        "from collections import defaultdict\n",
        "train_json = defaultdict(dict)\n",
        "count = 0\n",
        "for session in train_session:\n",
        "    context = [session[0]]\n",
        "    for turn in range(1, len(session)):\n",
        "        utt = session[turn]\n",
        "        train_json[count]['context'] = context[:][-use_turns:]\n",
        "        train_json[count]['positive_response'] = utt\n",
        "        context.append(utt)\n",
        "\n",
        "        negative_candidates = random.sample(all_utts, neg_nums)\n",
        "        train_json[count]['negative_responses'] = negative_candidates\n",
        "        count += 1\n",
        "    break"
      ],
      "metadata": {
        "id": "BfmCaB5bFBrx"
      },
      "execution_count": 43,
      "outputs": []
    },
    {
      "cell_type": "code",
      "source": [
        "train_json"
      ],
      "metadata": {
        "colab": {
          "base_uri": "https://localhost:8080/"
        },
        "id": "55uKhb62GRt5",
        "outputId": "105aca99-1966-41b8-b925-55070780cd4c"
      },
      "execution_count": 44,
      "outputs": [
        {
          "output_type": "execute_result",
          "data": {
            "text/plain": [
              "defaultdict(dict,\n",
              "            {0: {'context': ['안녕하세요. 저는 고양이 6마리 키워요.'],\n",
              "              'positive_response': '고양이를 6마리나요? 키우는거 안 힘드세요?',\n",
              "              'negative_responses': ['아니요, 누가 장난을 친 것 같아요.',\n",
              "               '그건 아니고, 제가 병원으로 갈 동안 다른 팀이 와서 내려줬다고 합니다.',\n",
              "               '농담입니다. 사실 저희 집도 캥거루가 자주 넘어와서 고민이에요.',\n",
              "               '한번도 마셔본 적이 없는데, 어떤 맛인가요?']},\n",
              "             1: {'context': ['안녕하세요. 저는 고양이 6마리 키워요.',\n",
              "               '고양이를 6마리나요? 키우는거 안 힘드세요?'],\n",
              "              'positive_response': '제가 워낙 고양이를 좋아해서 크게 힘들진 않아요.',\n",
              "              'negative_responses': ['100달러나 잃어서 마음이 아프시겠어요.',\n",
              "               '참신하지만 풀어내기 힘든 내용을 잘 보여준 것 같아요.',\n",
              "               '마음씨가 좋은 분들이시네요.',\n",
              "               '제 어머니가 버지니아에서 선생님이셨어요.']},\n",
              "             2: {'context': ['안녕하세요. 저는 고양이 6마리 키워요.',\n",
              "               '고양이를 6마리나요? 키우는거 안 힘드세요?',\n",
              "               '제가 워낙 고양이를 좋아해서 크게 힘들진 않아요.'],\n",
              "              'positive_response': '가장 나이가 많은 고양이가 어떻게 돼요?',\n",
              "              'negative_responses': ['네, 어릴 때 부터 그려왔는데, 제가 즐겨서 그런지 딸들도 그리는 것을 좋아합니다.',\n",
              "               '새로운 티비쇼를 개척하는 것도 재밌을거에요.',\n",
              "               '그럼 가장 어린 고양이가 어떻게 돼요?',\n",
              "               '그런 음식이 뭐가 있나요?']},\n",
              "             3: {'context': ['안녕하세요. 저는 고양이 6마리 키워요.',\n",
              "               '고양이를 6마리나요? 키우는거 안 힘드세요?',\n",
              "               '제가 워낙 고양이를 좋아해서 크게 힘들진 않아요.',\n",
              "               '가장 나이가 많은 고양이가 어떻게 돼요?'],\n",
              "              'positive_response': '여섯 살입니다. 갈색 고양이에요.',\n",
              "              'negative_responses': ['한번도 길거리에서 싸워본 적이 없나요?',\n",
              "               '그러면 거미줄 장식같은건 사면 안되시겠네요.',\n",
              "               '소프트웨어 코드를 개발하고 있습니다.',\n",
              "               '조심해야겠네요.']},\n",
              "             4: {'context': ['안녕하세요. 저는 고양이 6마리 키워요.',\n",
              "               '고양이를 6마리나요? 키우는거 안 힘드세요?',\n",
              "               '제가 워낙 고양이를 좋아해서 크게 힘들진 않아요.',\n",
              "               '가장 나이가 많은 고양이가 어떻게 돼요?',\n",
              "               '여섯 살입니다. 갈색 고양이에요.'],\n",
              "              'positive_response': '그럼 가장 어린 고양이가 어떻게 돼요?',\n",
              "              'negative_responses': ['네, 중요한 자료들은 다 들고 나오려고 했는데, 까먹고 사진첩을 들고 나오지 못 했어요.',\n",
              "               '이렇게 물 수면만 볼 수 있는게 안타깝네요.',\n",
              "               '그럼 아무 동물도 보지 못했나요?',\n",
              "               '마블 어벤져스 엔드게임이 저번주부터 상영하고 있다고 들었어요.']},\n",
              "             5: {'context': ['고양이를 6마리나요? 키우는거 안 힘드세요?',\n",
              "               '제가 워낙 고양이를 좋아해서 크게 힘들진 않아요.',\n",
              "               '가장 나이가 많은 고양이가 어떻게 돼요?',\n",
              "               '여섯 살입니다. 갈색 고양이에요.',\n",
              "               '그럼 가장 어린 고양이가 어떻게 돼요?'],\n",
              "              'positive_response': '한 살입니다. 작년에 분양 받았어요.',\n",
              "              'negative_responses': ['빨간색을 보면 군침이 도는 것 같아요.',\n",
              "               '지금으로써는 무리인 것 같지만, 온라인 시험 등 몇가지 한계점들을 해결하면 더 자주 쓰일 것 같습니다.',\n",
              "               '잘 모르겠어요. 하지만 일어나니깐 땀이 흥건하더라고요.',\n",
              "               '그랬으면 좋겠네요. 아쉽게도 취미생활일 뿐입니다.']},\n",
              "             6: {'context': ['제가 워낙 고양이를 좋아해서 크게 힘들진 않아요.',\n",
              "               '가장 나이가 많은 고양이가 어떻게 돼요?',\n",
              "               '여섯 살입니다. 갈색 고양이에요.',\n",
              "               '그럼 가장 어린 고양이가 어떻게 돼요?',\n",
              "               '한 살입니다. 작년에 분양 받았어요.'],\n",
              "              'positive_response': '그럼 고양이들끼리 안 싸우나요?',\n",
              "              'negative_responses': ['그건 아니고, 언젠가 제가 수혈이 필요할 때 피를 받기 위해서입니다.',\n",
              "               '열심히 하시면 분명히 잘 될거에요.',\n",
              "               '그림을 좋아하시나요?',\n",
              "               '어떻게 도와주시는 건가요?']},\n",
              "             7: {'context': ['가장 나이가 많은 고양이가 어떻게 돼요?',\n",
              "               '여섯 살입니다. 갈색 고양이에요.',\n",
              "               '그럼 가장 어린 고양이가 어떻게 돼요?',\n",
              "               '한 살입니다. 작년에 분양 받았어요.',\n",
              "               '그럼 고양이들끼리 안 싸우나요?'],\n",
              "              'positive_response': '저희 일곱은 다같이 한 가족입니다. 싸우는 일은 없어요.',\n",
              "              'negative_responses': ['주로 토토랑 같이 애견공원에 갑니다. 당신은요?',\n",
              "               '꼭 멋지게 잡고 싶은건가요?',\n",
              "               '또 어떤 작가들은 스트레스 때문이라고 생각해서 게임을 하는 경우도 있습니다.',\n",
              "               '저녁은 뭐 드실래요?']}})"
            ]
          },
          "metadata": {},
          "execution_count": 44
        }
      ]
    },
    {
      "cell_type": "code",
      "source": [
        "# import random\n",
        "# neg_nums = 4\n",
        "\n",
        "# from collections import defaultdict\n",
        "# train_json = defaultdict(dict)\n",
        "# count = 0\n",
        "# for session in train_session:\n",
        "#     context = [session[0]]\n",
        "#     for turn in range(1, len(session)):\n",
        "#         utt = session[turn]\n",
        "#         train_json[count]['context'] = context[:][-use_turns:]\n",
        "#         train_json[count]['positive_response'] = utt        \n",
        "#         context.append(utt)        \n",
        "        \n",
        "#         negative_candidates = random.sample(all_utts, neg_nums)\n",
        "#         train_json[count]['negative_responses'] = negative_candidates\n",
        "#         count += 1\n",
        "    \n",
        "# import json\n",
        "# with open('/content/drive/MyDrive/인공지능/멀티턴응답선택/korean_smile_style_dataset/train.json', 'w') as outfile:\n",
        "#     json.dump(train_json, outfile)"
      ],
      "metadata": {
        "id": "Vl6agE0ZGlU_"
      },
      "execution_count": 45,
      "outputs": []
    },
    {
      "cell_type": "code",
      "source": [
        "import json, pdb\n",
        "from torch.utils.data import Dataset\n",
        "from transformers import AutoTokenizer\n",
        "\n",
        "class fine_loader(Dataset):\n",
        "    def __init__(self, data_path):\n",
        "        self.tokenizer = AutoTokenizer.from_pretrained('klue/roberta-base')\n",
        "        special_tokens = {'sep_token': '<SEP>'}\n",
        "        self.tokenizer.add_special_tokens(special_tokens)\n",
        "        \n",
        "        \"\"\" 세션 데이터 \"\"\"\n",
        "        with open(data_path, 'r') as f:\n",
        "            self.session_dataset = json.load(f)\n",
        "        \n",
        "    def __len__(self): # 기본적인 구성\n",
        "        return len(self.session_dataset)\n",
        "    \n",
        "    def __getitem__(self, idx): # 기본적인 구성\n",
        "        session = self.session_dataset[str(idx)]\n",
        "        context = session['context']\n",
        "        positive_response = session['positive_response']\n",
        "        negative_responses = session['negative_responses']\n",
        "        session_tokens = []\n",
        "        session_labels = []\n",
        "        \n",
        "        \"\"\" MRS 입력 \"\"\"\n",
        "        context_token = [self.tokenizer.cls_token_id]\n",
        "        for utt in context:\n",
        "            context_token += self.tokenizer.encode(utt, add_special_tokens=False)\n",
        "            context_token += [self.tokenizer.sep_token_id]\n",
        "        \n",
        "        pos_respons_token = [self.tokenizer.eos_token_id]\n",
        "        pos_respons_token += self.tokenizer.encode(positive_response, add_special_tokens=False)\n",
        "        positive_tokens = context_token + pos_respons_token\n",
        "        session_tokens.append(positive_tokens)\n",
        "        session_labels.append(1)\n",
        "        \n",
        "        for negative_response in negative_responses:\n",
        "            neg_respons_token = [self.tokenizer.eos_token_id]\n",
        "            neg_respons_token += self.tokenizer.encode(negative_response, add_special_tokens=False)\n",
        "            negative_tokens = context_token + neg_respons_token        \n",
        "            session_tokens.append(negative_tokens)\n",
        "            session_labels.append(0)\n",
        "        \n",
        "        return session_tokens, session_labels"
      ],
      "metadata": {
        "id": "bOeUuYm_UOM2"
      },
      "execution_count": 46,
      "outputs": []
    },
    {
      "cell_type": "code",
      "source": [
        "from torch.utils.data import DataLoader\n",
        "train_path = '/content/drive/MyDrive/인공지능/멀티턴응답선택/korean_smile_style_dataset/train.json'\n",
        "train_dataset = fine_loader(train_path)"
      ],
      "metadata": {
        "id": "eMGmqh98UX7T"
      },
      "execution_count": 47,
      "outputs": []
    },
    {
      "cell_type": "code",
      "source": [
        "session_tokens, session_labels = train_dataset[1]"
      ],
      "metadata": {
        "id": "q0x1Y8p1olwJ"
      },
      "execution_count": 48,
      "outputs": []
    },
    {
      "cell_type": "code",
      "source": [
        "len(session_tokens), len(session_tokens[0]), len(session_tokens[1])"
      ],
      "metadata": {
        "colab": {
          "base_uri": "https://localhost:8080/"
        },
        "id": "pBSlj-1gvnxQ",
        "outputId": "4d2e16d1-3cde-4fb8-c491-8c114ccdd9ac"
      },
      "execution_count": 49,
      "outputs": [
        {
          "output_type": "execute_result",
          "data": {
            "text/plain": [
              "(5, 44, 39)"
            ]
          },
          "metadata": {},
          "execution_count": 49
        }
      ]
    },
    {
      "cell_type": "code",
      "source": [
        "train_dataset.tokenizer.decode(session_tokens[4])"
      ],
      "metadata": {
        "colab": {
          "base_uri": "https://localhost:8080/",
          "height": 54
        },
        "id": "1c4sE11QvyT0",
        "outputId": "78f5d5ec-29a6-4fa0-ceaf-707dfe1b01ed"
      },
      "execution_count": 50,
      "outputs": [
        {
          "output_type": "execute_result",
          "data": {
            "text/plain": [
              "'[CLS] 안녕하세요. 저는 고양이 6마리 키워요. <SEP> 고양이를 6마리나요? 키우는거 안 힘드세요? <SEP> [SEP] 저는 항상 옷을 같은 곳에서 삽니다. 직접 만들지는 않고요.'"
            ],
            "application/vnd.google.colaboratory.intrinsic+json": {
              "type": "string"
            }
          },
          "metadata": {},
          "execution_count": 50
        }
      ]
    },
    {
      "cell_type": "code",
      "source": [
        "session_labels"
      ],
      "metadata": {
        "colab": {
          "base_uri": "https://localhost:8080/"
        },
        "id": "8W8AKVl3vyRR",
        "outputId": "45972664-e165-4345-e5de-1cad839f1515"
      },
      "execution_count": 51,
      "outputs": [
        {
          "output_type": "execute_result",
          "data": {
            "text/plain": [
              "[1, 0, 0, 0, 0]"
            ]
          },
          "metadata": {},
          "execution_count": 51
        }
      ]
    },
    {
      "cell_type": "markdown",
      "source": [
        "## 배치 처리하기"
      ],
      "metadata": {
        "id": "tBcchCo8v5wE"
      }
    },
    {
      "cell_type": "code",
      "source": [
        "import json, pdb\n",
        "from torch.utils.data import Dataset\n",
        "from transformers import AutoTokenizer\n",
        "import torch\n",
        "\n",
        "class fine_loader(Dataset):\n",
        "    def __init__(self, data_path):\n",
        "        self.tokenizer = AutoTokenizer.from_pretrained('klue/roberta-base')\n",
        "        special_tokens = {'sep_token': '<SEP>'}\n",
        "        self.tokenizer.add_special_tokens(special_tokens)\n",
        "        \n",
        "        \"\"\" 세션 데이터 \"\"\"\n",
        "        with open(data_path, 'r') as f:\n",
        "            self.session_dataset = json.load(f)\n",
        "        \n",
        "    def __len__(self): # 기본적인 구성\n",
        "        return len(self.session_dataset)\n",
        "    \n",
        "    def __getitem__(self, idx): # 기본적인 구성\n",
        "        session = self.session_dataset[str(idx)]\n",
        "        context = session['context']\n",
        "        positive_response = session['positive_response']\n",
        "        negative_responses = session['negative_responses']\n",
        "        session_tokens = []\n",
        "        session_labels = []\n",
        "        \n",
        "        \"\"\" MRS 입력 \"\"\"\n",
        "        context_token = [self.tokenizer.cls_token_id]\n",
        "        for utt in context:\n",
        "            context_token += self.tokenizer.encode(utt, add_special_tokens=False)\n",
        "            context_token += [self.tokenizer.sep_token_id]\n",
        "        \n",
        "        pos_respons_token = [self.tokenizer.eos_token_id]\n",
        "        pos_respons_token += self.tokenizer.encode(positive_response, add_special_tokens=False)\n",
        "        positive_tokens = context_token + pos_respons_token\n",
        "        session_tokens.append(positive_tokens)\n",
        "        session_labels.append(1)\n",
        "        \n",
        "        for negative_response in negative_responses:\n",
        "            neg_respons_token = [self.tokenizer.eos_token_id]\n",
        "            neg_respons_token += self.tokenizer.encode(negative_response, add_special_tokens=False)\n",
        "            negative_tokens = context_token + neg_respons_token        \n",
        "            session_tokens.append(negative_tokens)\n",
        "            session_labels.append(0)\n",
        "        \n",
        "        return session_tokens, session_labels\n",
        "    \n",
        "    def collate_fn(self, sessions): # 배치를 위한 구성\n",
        "        '''\n",
        "            input:\n",
        "                data: [(session1), (session2), ... ]\n",
        "            return:\n",
        "                batch_input_tokens_pad: (B, L) padded\n",
        "                batch_labels: (B)\n",
        "        '''        \n",
        "        # 최대 길이 찾기 for padding\n",
        "        max_input_len = 0\n",
        "        for session in sessions:\n",
        "            session_tokens, session_labels = session\n",
        "            input_tokens_len = [len(x) for x in session_tokens]\n",
        "            max_input_len = max(max_input_len, max(input_tokens_len))\n",
        "        \n",
        "        batch_input_tokens, batch_input_labels = [], []\n",
        "        batch_input_attentions = []\n",
        "        for session in sessions:\n",
        "            session_tokens, session_labels = session\n",
        "            for session_token in session_tokens:\n",
        "                input_token = session_token + [self.tokenizer.pad_token_id for _ in range(max_input_len-len(session_token))]\n",
        "                input_attention = [1 for _ in range(len(session_token))] + [0 for _ in range(max_input_len-len(session_token))]\n",
        "                batch_input_tokens.append(input_token)\n",
        "                batch_input_attentions.append(input_attention)\n",
        "            batch_input_labels += session_labels\n",
        "        \n",
        "        return torch.tensor(batch_input_tokens), torch.tensor(batch_input_attentions), torch.tensor(batch_input_labels)"
      ],
      "metadata": {
        "id": "rpDWGkzCvyOm"
      },
      "execution_count": 52,
      "outputs": []
    },
    {
      "cell_type": "code",
      "source": [
        "!touch dataset.py"
      ],
      "metadata": {
        "id": "S-XnUDHOvyML"
      },
      "execution_count": 53,
      "outputs": []
    },
    {
      "cell_type": "code",
      "source": [
        "from dataset import fine_loader\n",
        "from torch.utils.data import DataLoader\n",
        "train_path = '/content/drive/MyDrive/인공지능/멀티턴응답선택/korean_smile_style_dataset/train.json'\n",
        "train_dataset = fine_loader(train_path)\n",
        "train_dataloader = DataLoader(train_dataset, batch_size=2, shuffle=False, num_workers=4, collate_fn=train_dataset.collate_fn)"
      ],
      "metadata": {
        "colab": {
          "base_uri": "https://localhost:8080/"
        },
        "id": "X9ISV9f9FnLE",
        "outputId": "adf0fa7a-1b2e-4111-d4f4-f9918851faa3"
      },
      "execution_count": 54,
      "outputs": [
        {
          "output_type": "stream",
          "name": "stderr",
          "text": [
            "/usr/local/lib/python3.8/dist-packages/torch/utils/data/dataloader.py:554: UserWarning: This DataLoader will create 4 worker processes in total. Our suggested max number of worker in current system is 2, which is smaller than what this DataLoader is going to create. Please be aware that excessive worker creation might get DataLoader running slow or even freeze, lower the worker number to avoid potential slowness/freeze if necessary.\n",
            "  warnings.warn(_create_warning_msg(\n"
          ]
        }
      ]
    },
    {
      "cell_type": "code",
      "source": [
        "for data in train_dataloader:\n",
        "    batch_input_tokens, batch_input_attentions, batch_input_labels = data\n",
        "    break"
      ],
      "metadata": {
        "id": "LGJ29t0aGUFL"
      },
      "execution_count": 55,
      "outputs": []
    },
    {
      "cell_type": "code",
      "source": [
        "batch_input_tokens.shape, batch_input_attentions.shape, batch_input_labels.shape"
      ],
      "metadata": {
        "colab": {
          "base_uri": "https://localhost:8080/"
        },
        "id": "qCl7kP3lHVba",
        "outputId": "051b9662-a5a9-4f79-d751-a75569f387c2"
      },
      "execution_count": 56,
      "outputs": [
        {
          "output_type": "execute_result",
          "data": {
            "text/plain": [
              "(torch.Size([10, 53]), torch.Size([10, 53]), torch.Size([10]))"
            ]
          },
          "metadata": {},
          "execution_count": 56
        }
      ]
    },
    {
      "cell_type": "code",
      "source": [
        "batch_input_tokens"
      ],
      "metadata": {
        "colab": {
          "base_uri": "https://localhost:8080/"
        },
        "id": "RlGSsczsH5wC",
        "outputId": "f993ade9-ab71-4c32-8da7-530acddd6ce3"
      },
      "execution_count": 57,
      "outputs": [
        {
          "output_type": "execute_result",
          "data": {
            "text/plain": [
              "tensor([[    0,  5891,  2205,  5971,    18,  1535,  2259,  7003,    26, 12736,\n",
              "          5972,  2182,    18, 32000,     2,  7003,  2138,    26, 12736,  2075,\n",
              "          2182,    35,  5688,  2259,  2180,  1378, 18941,  5971,    35,     1,\n",
              "             1,     1,     1,     1,     1,     1,     1,     1,     1,     1,\n",
              "             1,     1,     1,     1,     1,     1,     1,     1,     1,     1,\n",
              "             1,     1,     1],\n",
              "        [    0,  5891,  2205,  5971,    18,  1535,  2259,  7003,    26, 12736,\n",
              "          5972,  2182,    18, 32000,     2, 10073, 22087,  2570,  2079,  5306,\n",
              "          2256,  2955,  2069,  4920,  5723, 11800,    18,     1,     1,     1,\n",
              "             1,     1,     1,     1,     1,     1,     1,     1,     1,     1,\n",
              "             1,     1,     1,     1,     1,     1,     1,     1,     1,     1,\n",
              "             1,     1,     1],\n",
              "        [    0,  5891,  2205,  5971,    18,  1535,  2259,  7003,    26, 12736,\n",
              "          5972,  2182,    18, 32000,     2,  4177,  4241,  2052,  5971,    16,\n",
              "          7944,  4402,  2119,  5050,  1164,  1295,  1513,  2219,  3606,    18,\n",
              "             1,     1,     1,     1,     1,     1,     1,     1,     1,     1,\n",
              "             1,     1,     1,     1,     1,     1,     1,     1,     1,     1,\n",
              "             1,     1,     1],\n",
              "        [    0,  5891,  2205,  5971,    18,  1535,  2259,  7003,    26, 12736,\n",
              "          5972,  2182,    18, 32000,     2,  3934,  2154,  4756,  4609,   867,\n",
              "          2052,  4768,  2073,  4366,  7673,   575,   555,  2227,  2182,    18,\n",
              "             1,     1,     1,     1,     1,     1,     1,     1,     1,     1,\n",
              "             1,     1,     1,     1,     1,     1,     1,     1,     1,     1,\n",
              "             1,     1,     1],\n",
              "        [    0,  5891,  2205,  5971,    18,  1535,  2259,  7003,    26, 12736,\n",
              "          5972,  2182,    18, 32000,     2,  5891,  2205,  5971,    16,  1097,\n",
              "          1889,  2259,  1570,  2052,  5971,    35,     1,     1,     1,     1,\n",
              "             1,     1,     1,     1,     1,     1,     1,     1,     1,     1,\n",
              "             1,     1,     1,     1,     1,     1,     1,     1,     1,     1,\n",
              "             1,     1,     1],\n",
              "        [    0,  5891,  2205,  5971,    18,  1535,  2259,  7003,    26, 12736,\n",
              "          5972,  2182,    18, 32000,  7003,  2138,    26, 12736,  2075,  2182,\n",
              "            35,  5688,  2259,  2180,  1378, 18941,  5971,    35, 32000,     2,\n",
              "          1545,  2116,  7020,  7003,  2138, 30581,  1750,  2318,  4390,  2043,\n",
              "          1380,  2227,  2182,    18,     1,     1,     1,     1,     1,     1,\n",
              "             1,     1,     1],\n",
              "        [    0,  5891,  2205,  5971,    18,  1535,  2259,  7003,    26, 12736,\n",
              "          5972,  2182,    18, 32000,  7003,  2138,    26, 12736,  2075,  2182,\n",
              "            35,  5688,  2259,  2180,  1378, 18941,  5971,    35, 32000,     2,\n",
              "          5662,  3731,  2170,  4671,  2205,  2067,  2075,  2182,    35,     1,\n",
              "             1,     1,     1,     1,     1,     1,     1,     1,     1,     1,\n",
              "             1,     1,     1],\n",
              "        [    0,  5891,  2205,  5971,    18,  1535,  2259,  7003,    26, 12736,\n",
              "          5972,  2182,    18, 32000,  7003,  2138,    26, 12736,  2075,  2182,\n",
              "            35,  5688,  2259,  2180,  1378, 18941,  5971,    35, 32000,     2,\n",
              "         14834,  3929,  2259, 10771,  2170,  1513,  2259,   568,  2088,    16,\n",
              "         14834,  4762,  2116, 17791,  2170,  1513,  2259,  5845, 13474,  2052,\n",
              "          2170,  2182,    18],\n",
              "        [    0,  5891,  2205,  5971,    18,  1535,  2259,  7003,    26, 12736,\n",
              "          5972,  2182,    18, 32000,  7003,  2138,    26, 12736,  2075,  2182,\n",
              "            35,  5688,  2259,  2180,  1378, 18941,  5971,    35, 32000,     2,\n",
              "          3673, 10721,  2170,  1733,  2052,  3919,  8865,  2689, 13964,  5264,\n",
              "          1059,  2088,  3741, 13232,  2321,    18,     1,     1,     1,     1,\n",
              "             1,     1,     1],\n",
              "        [    0,  5891,  2205,  5971,    18,  1535,  2259,  7003,    26, 12736,\n",
              "          5972,  2182,    18, 32000,  7003,  2138,    26, 12736,  2075,  2182,\n",
              "            35,  5688,  2259,  2180,  1378, 18941,  5971,    35, 32000,     2,\n",
              "          1535,  2259,  4744,  1451,  2069,   555,  2073,   601, 27135,  1239,\n",
              "          3606,    18,  3868,  3679,  2118,  2259,  1380,  2088,  2182,    18,\n",
              "             1,     1,     1]])"
            ]
          },
          "metadata": {},
          "execution_count": 57
        }
      ]
    },
    {
      "cell_type": "markdown",
      "source": [
        "## 모델링하기"
      ],
      "metadata": {
        "id": "jN2zZ6NwJcBX"
      }
    },
    {
      "cell_type": "code",
      "source": [
        "from transformers import RobertaForMaskedLM, AutoTokenizer\n",
        "import torch\n",
        "import torch.nn as nn\n",
        "\n",
        "class FineModel(nn.Module):\n",
        "    def __init__(self):\n",
        "        super(FineModel, self).__init__()\n",
        "        self.model = RobertaForMaskedLM.from_pretrained('klue/roberta-base')\n",
        "        self.hiddenDim = self.model.config.hidden_size\n",
        "        \n",
        "        self.tokenizer = AutoTokenizer.from_pretrained('klue/roberta-base')\n",
        "        special_tokens = {'sep_token': '<SEP>'}\n",
        "        self.tokenizer.add_special_tokens(special_tokens)\n",
        "        self.model.resize_token_embeddings(len(self.tokenizer))        \n",
        "        \n",
        "        \"\"\" score matrix \"\"\"\n",
        "        # self.W = nn.Linear(self.hiddenDim, 3)\n",
        "        self.W2 = nn.Linear(self.hiddenDim, 2)\n",
        "        \n",
        "    def forward(self, batch_input_tokens, batch_input_attentions):\n",
        "        ## Binary Classification (pointwise)\n",
        "        outputs = self.model(batch_input_tokens, attention_mask=batch_input_attentions, output_hidden_states=True)['hidden_states'][-1] # [B, L, hidden_dim]\n",
        "        cls_outputs = outputs[:,0,:] # [B, hidden_dim]/0은 cls를 해당\n",
        "        cls_logits = self.W2(cls_outputs) # [B, 2]\n",
        "         \n",
        "        return cls_logits"
      ],
      "metadata": {
        "id": "BJJOsTsZJbyV"
      },
      "execution_count": 58,
      "outputs": []
    },
    {
      "cell_type": "code",
      "source": [
        "!touch model.py"
      ],
      "metadata": {
        "id": "3GaF-YMgH8MJ"
      },
      "execution_count": 59,
      "outputs": []
    },
    {
      "cell_type": "code",
      "source": [
        "import torch\n",
        "from model import FineModel\n",
        "fine_model = FineModel()\n",
        "result = fine_model(batch_input_tokens, batch_input_attentions)"
      ],
      "metadata": {
        "id": "d-UUA-Z8KqWH",
        "colab": {
          "base_uri": "https://localhost:8080/",
          "height": 81,
          "referenced_widgets": [
            "b545f4167c1e4c7f9b6ff9b3d12b77f2",
            "abd800b88b8f42f7865bd57f3bf3bc97",
            "743b2a3b9e2c4729b3397216c2702252",
            "3c925f64b6cd4143b29986886c32fedf",
            "2ec3a79fede04f8fb750b543069fe661",
            "2e428371470344d0995463db5533e46e",
            "9756439aa0fd46d6a342bc0b5dd89aa8",
            "b62e93dc48cd43968dcddb9c3e246eb6",
            "a6964d4aad53476b96ebfc81b7f1f7b8",
            "ac2f954285af42dc860eb214018a199c",
            "6611200695c94330adc9289b11a9cb2b",
            "e2d46b384e90456c97a261d891b164c3",
            "2b42fcc57cd94b3dab61b2c414a619d6",
            "ab2058e37729449e9639d0ef79b4ab51",
            "138d07fa14d34719a3f19a56388c927c",
            "42328df2cd34453d85c91c8366169c83",
            "1010f2b763f445698427fb0f65d23dfe",
            "96d33f083dba496a84af01a374f1df12",
            "49704e99451444c9976332a38a9f1487",
            "54f13807344147c7bd74fae1eab687c1",
            "0c6955701ed345ab80488185d8cea824",
            "0ed901ba64e441619e017bb10fedf77b"
          ]
        },
        "outputId": "e2a28a86-cec4-456c-8ab5-33ffa485066c"
      },
      "execution_count": 60,
      "outputs": [
        {
          "output_type": "display_data",
          "data": {
            "text/plain": [
              "Downloading (…)lve/main/config.json:   0%|          | 0.00/546 [00:00<?, ?B/s]"
            ],
            "application/vnd.jupyter.widget-view+json": {
              "version_major": 2,
              "version_minor": 0,
              "model_id": "b545f4167c1e4c7f9b6ff9b3d12b77f2"
            }
          },
          "metadata": {}
        },
        {
          "output_type": "display_data",
          "data": {
            "text/plain": [
              "Downloading (…)\"pytorch_model.bin\";:   0%|          | 0.00/443M [00:00<?, ?B/s]"
            ],
            "application/vnd.jupyter.widget-view+json": {
              "version_major": 2,
              "version_minor": 0,
              "model_id": "e2d46b384e90456c97a261d891b164c3"
            }
          },
          "metadata": {}
        }
      ]
    },
    {
      "cell_type": "code",
      "source": [
        "result"
      ],
      "metadata": {
        "colab": {
          "base_uri": "https://localhost:8080/"
        },
        "id": "59QXHDZyMNlx",
        "outputId": "7800dd94-4e9b-4502-cb3d-16c2cbaac62e"
      },
      "execution_count": 61,
      "outputs": [
        {
          "output_type": "execute_result",
          "data": {
            "text/plain": [
              "tensor([[-0.0557,  0.0140],\n",
              "        [-0.0816, -0.0816],\n",
              "        [-0.0443, -0.0372],\n",
              "        [-0.0749, -0.0730],\n",
              "        [-0.0572, -0.0042],\n",
              "        [-0.0584, -0.0281],\n",
              "        [-0.0448,  0.0036],\n",
              "        [-0.0881, -0.0337],\n",
              "        [-0.0391, -0.0790],\n",
              "        [-0.0494, -0.0676]], grad_fn=<AddmmBackward0>)"
            ]
          },
          "metadata": {},
          "execution_count": 61
        }
      ]
    },
    {
      "cell_type": "code",
      "source": [
        "fine_model.load_state_dict(torch.load('/content/drive/MyDrive/인공지능/멀티턴응답선택/post_model.bin'))\n"
      ],
      "metadata": {
        "id": "OkNAu8UjQKiq"
      },
      "execution_count": null,
      "outputs": []
    }
  ]
}