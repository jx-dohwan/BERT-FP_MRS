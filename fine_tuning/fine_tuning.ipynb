{
  "nbformat": 4,
  "nbformat_minor": 0,
  "metadata": {
    "colab": {
      "provenance": [],
      "mount_file_id": "13CXwgPpD6te_DMFC65rtkNcRwj6hk3Pn",
      "authorship_tag": "ABX9TyOsVAC7CiwsnsK2E6DpkgCV",
      "include_colab_link": true
    },
    "kernelspec": {
      "name": "python3",
      "display_name": "Python 3"
    },
    "language_info": {
      "name": "python"
    }
  },
  "cells": [
    {
      "cell_type": "markdown",
      "metadata": {
        "id": "view-in-github",
        "colab_type": "text"
      },
      "source": [
        "<a href=\"https://colab.research.google.com/github/jx-dohwan/BERT-FP_MRS/blob/main/fine_tuning/fine_tuning.ipynb\" target=\"_parent\"><img src=\"https://colab.research.google.com/assets/colab-badge.svg\" alt=\"Open In Colab\"/></a>"
      ]
    },
    {
      "cell_type": "markdown",
      "source": [
        "# fine-tuning"
      ],
      "metadata": {
        "id": "9OwEcL8qCDXm"
      }
    },
    {
      "cell_type": "code",
      "source": [
        "\n",
        "!pip install torch\n",
        "!pip install transformers==4.25.1"
      ],
      "metadata": {
        "colab": {
          "base_uri": "https://localhost:8080/"
        },
        "id": "U5HeoABfCjyN",
        "outputId": "d355eef2-ff43-4b15-9406-7e4a381061e0"
      },
      "execution_count": 1,
      "outputs": [
        {
          "output_type": "stream",
          "name": "stdout",
          "text": [
            "Looking in indexes: https://pypi.org/simple, https://us-python.pkg.dev/colab-wheels/public/simple/\n",
            "Requirement already satisfied: torch in /usr/local/lib/python3.8/dist-packages (1.13.1+cu116)\n",
            "Requirement already satisfied: typing-extensions in /usr/local/lib/python3.8/dist-packages (from torch) (4.4.0)\n",
            "Looking in indexes: https://pypi.org/simple, https://us-python.pkg.dev/colab-wheels/public/simple/\n",
            "Collecting transformers==4.25.1\n",
            "  Downloading transformers-4.25.1-py3-none-any.whl (5.8 MB)\n",
            "\u001b[2K     \u001b[90m━━━━━━━━━━━━━━━━━━━━━━━━━━━━━━━━━━━━━━━━\u001b[0m \u001b[32m5.8/5.8 MB\u001b[0m \u001b[31m43.3 MB/s\u001b[0m eta \u001b[36m0:00:00\u001b[0m\n",
            "\u001b[?25hRequirement already satisfied: pyyaml>=5.1 in /usr/local/lib/python3.8/dist-packages (from transformers==4.25.1) (6.0)\n",
            "Requirement already satisfied: tqdm>=4.27 in /usr/local/lib/python3.8/dist-packages (from transformers==4.25.1) (4.64.1)\n",
            "Requirement already satisfied: numpy>=1.17 in /usr/local/lib/python3.8/dist-packages (from transformers==4.25.1) (1.21.6)\n",
            "Requirement already satisfied: packaging>=20.0 in /usr/local/lib/python3.8/dist-packages (from transformers==4.25.1) (23.0)\n",
            "Collecting huggingface-hub<1.0,>=0.10.0\n",
            "  Downloading huggingface_hub-0.12.0-py3-none-any.whl (190 kB)\n",
            "\u001b[2K     \u001b[90m━━━━━━━━━━━━━━━━━━━━━━━━━━━━━━━━━━━━━━\u001b[0m \u001b[32m190.3/190.3 KB\u001b[0m \u001b[31m23.1 MB/s\u001b[0m eta \u001b[36m0:00:00\u001b[0m\n",
            "\u001b[?25hRequirement already satisfied: regex!=2019.12.17 in /usr/local/lib/python3.8/dist-packages (from transformers==4.25.1) (2022.6.2)\n",
            "Collecting tokenizers!=0.11.3,<0.14,>=0.11.1\n",
            "  Downloading tokenizers-0.13.2-cp38-cp38-manylinux_2_17_x86_64.manylinux2014_x86_64.whl (7.6 MB)\n",
            "\u001b[2K     \u001b[90m━━━━━━━━━━━━━━━━━━━━━━━━━━━━━━━━━━━━━━━━\u001b[0m \u001b[32m7.6/7.6 MB\u001b[0m \u001b[31m83.7 MB/s\u001b[0m eta \u001b[36m0:00:00\u001b[0m\n",
            "\u001b[?25hRequirement already satisfied: requests in /usr/local/lib/python3.8/dist-packages (from transformers==4.25.1) (2.25.1)\n",
            "Requirement already satisfied: filelock in /usr/local/lib/python3.8/dist-packages (from transformers==4.25.1) (3.9.0)\n",
            "Requirement already satisfied: typing-extensions>=3.7.4.3 in /usr/local/lib/python3.8/dist-packages (from huggingface-hub<1.0,>=0.10.0->transformers==4.25.1) (4.4.0)\n",
            "Requirement already satisfied: certifi>=2017.4.17 in /usr/local/lib/python3.8/dist-packages (from requests->transformers==4.25.1) (2022.12.7)\n",
            "Requirement already satisfied: idna<3,>=2.5 in /usr/local/lib/python3.8/dist-packages (from requests->transformers==4.25.1) (2.10)\n",
            "Requirement already satisfied: chardet<5,>=3.0.2 in /usr/local/lib/python3.8/dist-packages (from requests->transformers==4.25.1) (4.0.0)\n",
            "Requirement already satisfied: urllib3<1.27,>=1.21.1 in /usr/local/lib/python3.8/dist-packages (from requests->transformers==4.25.1) (1.24.3)\n",
            "Installing collected packages: tokenizers, huggingface-hub, transformers\n",
            "Successfully installed huggingface-hub-0.12.0 tokenizers-0.13.2 transformers-4.25.1\n"
          ]
        }
      ]
    },
    {
      "cell_type": "code",
      "source": [
        "\n",
        "!git clone https://github.com/smilegate-ai/korean_smile_style_dataset\n",
        "# https://corpus.korean.go.kr/\n",
        "# https://aihub.or.kr/aihub-data/natural-language/about\n",
        "     "
      ],
      "metadata": {
        "colab": {
          "base_uri": "https://localhost:8080/"
        },
        "id": "LjErn3B3Cmsg",
        "outputId": "21ec92bd-595a-44e3-9cf9-b951f487e57a"
      },
      "execution_count": 2,
      "outputs": [
        {
          "output_type": "stream",
          "name": "stdout",
          "text": [
            "Cloning into 'korean_smile_style_dataset'...\n",
            "remote: Enumerating objects: 81, done.\u001b[K\n",
            "remote: Counting objects: 100% (81/81), done.\u001b[K\n",
            "remote: Compressing objects: 100% (77/77), done.\u001b[K\n",
            "remote: Total 81 (delta 21), reused 0 (delta 0), pack-reused 0\u001b[K\n",
            "Unpacking objects: 100% (81/81), 2.57 MiB | 3.46 MiB/s, done.\n"
          ]
        }
      ]
    },
    {
      "cell_type": "code",
      "source": [
        "import pandas as pd\n",
        "df = pd.read_csv('/content/korean_smile_style_dataset/smilestyle_dataset.tsv', sep='\\t')\n",
        "df.to_csv('./korean_smile_style_dataset/smile.csv', index=False)"
      ],
      "metadata": {
        "id": "nJ5zmyz-CpeE"
      },
      "execution_count": 3,
      "outputs": []
    },
    {
      "cell_type": "code",
      "source": [
        "!mv /content/korean_smile_style_dataset/smile.csv /content/drive/MyDrive/인공지능/멀티턴응답선택/korean_smile_style_dataset"
      ],
      "metadata": {
        "id": "BbkfAh1wC0X2"
      },
      "execution_count": 4,
      "outputs": []
    },
    {
      "cell_type": "markdown",
      "source": [
        "## 학습/검증 분할하기|"
      ],
      "metadata": {
        "id": "b8qyq1fpCFvl"
      }
    },
    {
      "cell_type": "code",
      "execution_count": 5,
      "metadata": {
        "id": "0S040Vb4Bb0U"
      },
      "outputs": [],
      "source": [
        "import csv\n",
        "f = open('/content/drive/MyDrive/인공지능/멀티턴응답선택/korean_smile_style_dataset/smile.csv', 'r')\n",
        "rdr = csv.reader(f)\n",
        "\n",
        "\"\"\" 세션 데이터 저장할 것 \"\"\"\n",
        "session_dataset = []\n",
        "session = []\n",
        "all_utts = []\n",
        "\n",
        "\"\"\" 실제 데이터 저장 방식 \"\"\"\n",
        "for i, line in enumerate(rdr):\n",
        "    if i == 0:\n",
        "        header = line\n",
        "    else:\n",
        "        utt = line[0]\n",
        "        if utt.strip() != '':\n",
        "            all_utts.append(utt)\n",
        "            session.append(utt)\n",
        "        else:\n",
        "            \"\"\" 세션 데이터 저장 \"\"\"\n",
        "            session_dataset.append(session)\n",
        "            session = []\n",
        "\"\"\" 마지막 세션 저장 \"\"\"\n",
        "session_dataset.append(session)\n",
        "f.close()"
      ]
    },
    {
      "cell_type": "code",
      "source": [
        "!head -20 /content/drive/MyDrive/인공지능/멀티턴응답선택/korean_smile_style_dataset/smile.csv"
      ],
      "metadata": {
        "colab": {
          "base_uri": "https://localhost:8080/"
        },
        "id": "IHj6PLbnDnRa",
        "outputId": "f3ef05b6-0d91-45f6-975d-55954b2dfc99"
      },
      "execution_count": 7,
      "outputs": [
        {
          "output_type": "stream",
          "name": "stdout",
          "text": [
            "formal,informal,android,azae,chat,choding,emoticon,enfp,gentle,halbae,halmae,joongding,king,naruto,seonbi,sosim,translator\n",
            "안녕하세요. 저는 고양이 6마리 키워요.,안녕! 나는 고양이 6마리 키워.,휴먼. 반갑다. 안드로이드는. 고양이. 6마리. 소유중.,아이고 안녕하십니까~ 나는 그냥 고양이 6마리 키우고 있는 사람이여,하잉ㅋㅋ 나 떼걸룩 6마리 키운다!,ㅎㅇ 나 주인님 6마리 모심 ㅋㅋ,안녕!! >< 나는 고양이😺를 ➏ 마리 키우고있어!! 0_0,안녕안녕~! 나 고양이 6마리나 키운다? 완전 대박이징~,\"안녕하십니까,, 저는 고양이 6마리 키웁니다.\",안녕하신가~... 난 지금 고양이를 6마리 키우고 있다네,하유 시벌것 괭이놈 6마리 키우는데 힘들어 죽겟네,안녕하냐 ㅡㅡ 나 씹냥이 6마리나 키운다 하;,반갑소. 짐은 고양이를 6마리나 키우오.,안녕하냐니깐! 난 고양이를 6마리 키우고있다니깐!,안녕하시오! 소인은 고양이를 6마리 키우고 있소!,안녕… 난 고양이 6마리 키워 ㅠㅠ,반가운. 나는 6마리의 고양이를 소지하고 있다.\n",
            "고양이를 6마리나요? 키우는거 안 힘드세요?,고양이를 6마리나? 키우는거 안 힘들어?,고양이. 6마리. 양육. 번거로운가.,아니 무슨 고양이를 6마리나? 거 키우는 거 안 힘든가?,엥? 6마리나? 안힘듬?ㅋㅋㅋㅋ,6마리? 에바아니냐 안 힘듦?,고양이를 6마리나?!! w(ﾟДﾟ)w 키우는거 안 힘듬?? (⊙_⊙;),고양이를 6마리나? 완전 대박~ 키우는 거 안 힘들어?!,\"고양이를 6마리나 키우십니까? 안 힘드신지,,\",고양이를 6마리나? 키우는거 힘들지 않는가?,니기럴 털만 날리는 거 키우기 안 힘들데?,아니 고양이를 6마리나? 안힘드냐?,고양이를 6마리나? 키우는게 수고스럽진 않소?,고양이를 6마리나? 키우는거 힘들지 않냐니깐?,고양이를 6마리나 키우고 있는 것이오? 힘들지 않소?,고양이..6마리나? ㅠ 키우는건 혹시 안힘들어..?,6마리의 고양이? 당신은 그들로부터 지치지 않습니까?\n",
            "제가 워낙 고양이를 좋아해서 크게 힘들진 않아요.,내가 워낙 고양이를 좋아해서 크게 힘들진 않아.,안드로이드. 고양이. 선호. 힘들지. 않음.,내가 또 워~낙에 고양이를 좋아해서 크게 뭐 힘들진 않고,내가 고양이 좋아해서 딱히 안힘듬 ㅋㅋㅋ,ㄱㅊ 나 고양이 환장해서 힘든 것도 모름,뭐 나야 워낙에 고양이 좋아하니까 딱히 안힘드엉! \\(@^0^@)/,내가 또 워~낙에 고양이를 좋아하잖아~ 그렇게 크~게 힘들진 않아 ㅎㅎ~,제가 워낙 고양이를 좋아해서 크게 힘들진 않습니다.,내가 워낙에...고양이가 좋아가지고 그렇게 힘들지 않어...^^,옘병 내가 좋아하니까 키워야지 시벌것,고양이 좋아한다고ㅡㅡ 1도 안힘듬 ㅡㅡ,과인은 고양이를 어여삐 어겨 그리 수고스럽진 않소,내가 고양이를 엄청 좋아해서 별로 힘들지 않다니깐!,소인 고양이를 엄청 좋아하기 때문에 별로 힘들지 않소이다.,내가 고양이 워낙 좋아해서..ㅠㅠ 크게 힘들진 않은 것 같아..,나는 고양이의 큰 애호가. 지치지 않는다.\n",
            "가장 나이가 많은 고양이가 어떻게 돼요?,가장 나이가 많은 고양이가 몇 살이야?,제일. 나이많은. 고양이. 나이. 무엇.,그려 가장 나이가 많은 고양이가 몇살이여?,가장 나이 먹은 고양이가 몇살이야?,젤 낡은 고영희가 몇 살임?,가장 나이 먹은 고양인 몇 살이양? (´･ω･`)?,대박대박 완전 대박!! 그럼 제~일 나이 많은 고양이는 몇살이야~?!,가장 나이가 있는 고양이가 몇살입니까?,고양이들 중에서…가장 나이 먹을 애가 몇살인가?...,거 젤 빨리 뒤질 놈이 나이 얼마나 쳐먹었냐,가장 늙은애가 몇살인데,최고령 고양이의 나이는 어떻게 되는가?,가장 나이 많이 먹은 고양이가 몇 살 이냐니깐?!,나이를 가장 많이 먹은 고양이가 몇 살이오?,혹시.. 제일 나이 많은 고양이는.. 몇살이야..?ㅠ,가장 늙은 고양이가 몇 년입니까?\n",
            "여섯 살입니다. 갈색 고양이에요.,여섯 살이야. 갈색 고양이지.,고양이. 갈색. 여섯살.,6살인데 갈색 고양이 있어~,이제 여섯살이고 갈색고양이임!,\"6살, 갈색임\",여설 살!! ㄱ^o^/ 색깔은 갈색! O(*￣▽￣*)ブ,\"6살인 애 있는데, 완전 귀.여.워. 갈색 고양이야 진짜 대박이지?\",6살된 갈색 아이가 있습니다.,저…갈색 고양이인데…여섯살이지~..,저 노망난 갈색놈이 6살 뒤룩뒤룩 쳐먹은 놈이여,여섯살 갈색냥인데 왜,여섯 살이오. 갈색 고양이오.,갈색 고양이가 여섯살이라니깐!,여섯 살에 갈색 고양이오,여섯살이야.. 갈색 ㅠㅠ 고양이야..ㅠ,여섯. 고양이는 갈색이다.\n",
            "그럼 가장 어린 고양이가 어떻게 돼요?,그럼 가장 어린 고양이는?,제일. 나이어린. 고양이. 나이. 무엇.,그럼 그 가장 어린 고양이는?,그럼 가장 애기인 고양이는 몇살이야?,그럼 가장 아깽이는?,그럼 가장 애기인 고양이는?? (⊙_⊙)？,대박! 완전 귀엽겠다~!! 그럼 제~일 나이 적은 애는?! 몇살이야??,그럼 가장 어린 고양이는 나이가 어떻게 됩니까?,그럼 제일 어린 고양이는 몇살인겐가?...,새파랗게 어린놈은 얼마나 쳐먹었는데?,제일 어린애는 몇살?,허면 가장 어린 고양이는 어떻게 되는가?,그럼 가장 나이 어린 고양이는 몇살이냐니깐?,그럼 가장 어린 고양이는 몇 살인 것이오?,혹시.. 제일 나이 어린 고양이는..ㅠㅠ 몇살이야..?,가장 젊은 고양이는 어떤?\n",
            "한 살입니다. 작년에 분양 받았어요.,한 살이야. 작년에 분양 받았어.,한살. 분양시기는. 작년.,그 작년에 분양 받은 1살 있지~,작년에 분양 받았는데 1살이야!,1살 ㅋㅋ 작년에 분양 받음,한살~! (ﾉ*ФωФ)ﾉ 작년 분양 받았지롱~^0^,1살 완전 대박이지~!! 작년에 분양 받았어 진짜 너무 귀여워~!,1살 짜리 아이도 있습니다. 작년에 분양 받았지요.,한 살이지~….작년에…분양 받았어~…,1살 먹은 염병할 놈 저거 작년에 분양 받았어,1살이고 작년에 데려옴,한살이오. 작년에 분양을 받게 되었소.,한 살이고. 작년에 분양 받았다니깐!,한 살인데 작년에 분양 받았소.,한살이야 ㅠ 작년에 분양 받았어..,일년. 작년에 적용했다.\n",
            "그럼 고양이들끼리 안 싸우나요?,고양이들끼리 안 싸워?,고양이. 끼리. 다툼. 없는가.,그럼 그거 고양이끼린 안 싸우나?,냥이들끼리 안 싸움?,고앵이들끼리 안 싸움?,고양인끼린 안싸웡? ＼（〇_ｏ）／,\"하유~ 귀요미들~ 혹시 그럼,, 고양이들끼린 안 싸워?!\",고양이들끼리 다투진 않나요?,고양이들은 서로…싸우거나…그러지 않나?..,그 염병할 자식들끼린 안 싸운다냐?,고양이들 맨날 싸우겠네 ㅋ,허면 고양이들끼리 다툼이 있지는 않은가?,고양이들끼리 싸우지 않냐니깐!,고양이들끼리 싸우거나 그러지는 않소?,혹시.. 고양이들끼리 싸우지는..않아? ㅠ,고양이들은 서로 결투?\n",
            "저희 일곱은 다같이 한 가족입니다. 싸우는 일은 없어요.,우리일곱은 다같이 한 가족이야. 싸우는 일은 없어.,우리일곱. 다같이 한가족. 싸우는일. 없음.,아잇 우리 일곱명은 다같이 한 가족이지 가족! 싸우는 일은 읎어~,우리 일곱은 다 한 가족이라서 싸울 일이 없어,응~ 절대 안 싸워 7-1=0 진리지,우리 일곱은 다같이 한 가족이야~:D. 싸우는 일 따윈 업쉉~o((>ω< ))o,당연 당연!! 우리 일곱은 다같이 한 가족인걸?! ,\"저희 일곱은 다같이 한 가족이라,, 싸우는 일은 없네요 ㅎㅎ\",우리 일곱은 다~같이…가족이라서..싸우는 일이 없네 그려…허허…,\"이런 개나리 쌍화차에 끓여먹을,, 우린 가 족같은 사이여가지고 싸우면 내 손에 다 디져 그럴 일 읎어야\",우리 다같이 한식군데 싸우긴 뭘 싸움 ㅡㅡ,우리 일곱은 다같이 한 가족과 같소. 싸우는 일은 없소.,우리 일곱은 다 한 간족이라 싸우는 일이 없다니깐!,우리 일곱은 다같이 한 가족이라. 싸우는 일이 없는 것이오!,우리 일곱은 다같이 한가족이라..ㅠㅠ 싸우는 일은 없는 것 같아 ㅠ,우리 가족은 칠. 낮은 다툼의 빈도.\n",
            ",,,,,,,,,,,,,,,,\n",
            "나이가 어떻게 되시는데요?,몇 살이야?,휴먼. 나이. 무엇.,거 나이가 어떻게 되나?,몇 살임?,몇살임?,몇 살이야???? (´･ω･`)?,올해 몇살이양~?!?,\"실례가 안된다면,, 나이가 어떻게 되시나요?\",몇 살이신가?....,이 새끼 이거 몇살이여?,나이몇개?,춘추가 어떻게 되는가?,몇 살이냐니깐!,몇 살인 것이오?,혹시.. 몇살이야..?ㅠ,당신은 몇 년?\n",
            "올해로 열일곱 입니다.,올해로 열일곱이야.,올해. 열일곱.,올해로 열일곱됐지 그래,올해 열일곱이야,나? 올해 열일곱,올해로 열일곱~（￣︶￣）↗　,올해로 열일곱이야!! ^^~,올해로 열일곱 되었습니다.,올해로 열일곱이지~….,올해로 열일곱 쳐먹었다,17인데 왜,금년 열 일곱일세.,올해 열일곱이라니깐!,올해로 열일곱인것이오!,올해 열일곱인데..ㅠㅠ,이번 해는 십칠.\n",
            "그럼 고등학교 1학년이겠네요.,그럼 고등학교 1학년이겠네.,고등학교. 1학년으로. 귀결.,아이고 그럼 고등학교 1학년인가?,그럼 고1이네?,아 ㄹㅇ? 고1?,고럼 고1이겠네! ( •̀ ω •́ )✧,헐헐 대박 그럼 고1이겟넹~! 완전 귀여워!!,그럼 고등학교 1학년이시겠네요.,그럼 고1이겠네~….,아유 니미럴 핏덩이네 고등학교 1학년인갑제?,고1?,허면 고등학교 일학년이란 말인가?,그럼 고1이겠다니깐!,그럼 고등학교 1학년인 것이겠소.,그럼 혹시 고등학교 1학년이야..? ㅠ,당신은 높은 학교에서 1년.\n",
            "네 맞아요.,맞아.,맞다.,그치그치~,ㅇㅇ 맞음,ㅇㅇ,맞어유~╰(*°▽°*)╯,마장마장~!,네 그렇습니다.,맞네~….,염병,ㅇ,그렇소,그렇다니깐!,그렇소!,응..,그런.\n",
            "장래희망이 어떻게 되세요?,장래희망이 어떻게 돼?,장래희망. 무엇인가.,그럼 그 꿈은 뭐 있나?,장래희망은 뭐야?,커서 뭐할거냐?,장래희망이 뭐야? (+_+)?,그럼 막 꿈 이런거는 뭐야뭐야???!,장래희망이 있습니까?,장래희망이 뭔가?...,나중에 뭐해 쳐먹고 살래?,커서 뭐할거냐,장래에 목표하는 바가 있는가?,장래희망이 뭐냐니깐!,장래희망은 무엇이오?,장래희망은 혹시 뭐야 그럼..?,미래 직업?\n",
            "저는 외교관 되는게 꿈이에요.,난 외교관이 되는게 꿈이야.,외교관. 되기가. 꿈.,외교관 되는 게 꿈이지 뭐,내 꿈은 외교관 되는거!,나? 외교관이 꿈임,내 꿈은 외교관이 되는거야! (❁´◡`❁),나아는 외교관!! 외교관되는 게 꿈이양!!,저는 외교관 되는게 꿈입니다.,난 외교관이 되는게 꿈이였지…,외교관 되서 밥벌이 하고 살아야지 시부럴 거,외교관 될건데 왜,과인은 외교관이 되고자 함이오.,난 외교관 되는게 꿈이라니깐!,소인은 외교관이 되는게 꿈이오!,난 외교관 되고싶을 것 같은데.. ㅠㅠ,외교관 꿈을 꾼다.\n",
            ",,,,,,,,,,,,,,,,\n",
            "안녕하십니까?,안녕?,휴먼. 반갑다.,안녕하십니까~ 예 뭐 잘 지내셨나 ㅎㅎ,안뇽?,ㅎㅇ?,안뇽안뇽? ^_~,헐 안녕안녕~ 너무 반갑당 ^0^~!,안녕하십니까?,안녕한가?~…,니기럴 거 아직 안 뒈지고 잘살고 있었냐?,ㅎㅇ,반갑소,안녕하냐니깐!,잘지냈소?,안녕,반가운.\n",
            "안녕하세요.,안녕.,휴먼. 반갑다.,예 뭐 잘 지내지 머 별일이 있었겠어,안뇽안뇽,ㅎㅇㅎㅇ,안녕~[]~(￣▽￣)~*,헐 대박 안뇽안뇽 너~무 오랜만이잖아~,안녕하세요.,안녕하지~….,아쉽게도 아직 뒈지진 않았네,ㅎㅇ,반갑네,안녕하다니깐!,잘 지내고있소!,안녕,반가운.\n"
          ]
        }
      ]
    },
    {
      "cell_type": "code",
      "source": [
        "print(len(session_dataset))\n"
      ],
      "metadata": {
        "colab": {
          "base_uri": "https://localhost:8080/"
        },
        "id": "Y7c92Wb7DrlR",
        "outputId": "23602ef0-7875-4d4c-deb4-ec0d2980bf5f"
      },
      "execution_count": 8,
      "outputs": [
        {
          "output_type": "stream",
          "name": "stdout",
          "text": [
            "236\n"
          ]
        }
      ]
    },
    {
      "cell_type": "code",
      "source": [
        "train_session = session_dataset[:-15]\n",
        "valid_session = session_dataset[-15:]\n",
        "len(train_session), len(valid_session)"
      ],
      "metadata": {
        "colab": {
          "base_uri": "https://localhost:8080/"
        },
        "id": "uobrf3c-EHxx",
        "outputId": "5257e410-3281-4ad4-b86c-c53a1c061c1a"
      },
      "execution_count": 9,
      "outputs": [
        {
          "output_type": "execute_result",
          "data": {
            "text/plain": [
              "(221, 15)"
            ]
          },
          "metadata": {},
          "execution_count": 9
        }
      ]
    },
    {
      "cell_type": "code",
      "source": [
        "train_session[0]\n",
        "# 첫번째 데이터\n",
        "# context: 안녕하세요. 저는 고양이 6마리 키워요.\n",
        "# response: 고양이를 6마리나요? 키우는거 안 힘드세요?\n",
        "\n",
        "# 두번째 데이터\n",
        "# context: 안녕하세요. 저는 고양이 6마리 키워요. | 고양이를 6마리나요? 키우는거 안 힘드세요?\n",
        "# response: 제가 워낙 고양이를 좋아해서 크게 힘들진 않아요.\n",
        "\n",
        "# 세번째 데이터\n",
        "# context: 안녕하세요. 저는 고양이 6마리 키워요. | 고양이를 6마리나요? 키우는거 안 힘드세요? | 제가 워낙 고양이를 좋아해서 크게 힘들진 않아요.\n",
        "# response: 가장 나이가 많은 고양이가 어떻게 돼요?"
      ],
      "metadata": {
        "colab": {
          "base_uri": "https://localhost:8080/"
        },
        "id": "BtyL58P7EOTA",
        "outputId": "4f3331b2-7eca-4e89-d186-603f458ad8c5"
      },
      "execution_count": 10,
      "outputs": [
        {
          "output_type": "execute_result",
          "data": {
            "text/plain": [
              "['안녕하세요. 저는 고양이 6마리 키워요.',\n",
              " '고양이를 6마리나요? 키우는거 안 힘드세요?',\n",
              " '제가 워낙 고양이를 좋아해서 크게 힘들진 않아요.',\n",
              " '가장 나이가 많은 고양이가 어떻게 돼요?',\n",
              " '여섯 살입니다. 갈색 고양이에요.',\n",
              " '그럼 가장 어린 고양이가 어떻게 돼요?',\n",
              " '한 살입니다. 작년에 분양 받았어요.',\n",
              " '그럼 고양이들끼리 안 싸우나요?',\n",
              " '저희 일곱은 다같이 한 가족입니다. 싸우는 일은 없어요.']"
            ]
          },
          "metadata": {},
          "execution_count": 10
        }
      ]
    },
    {
      "cell_type": "markdown",
      "source": [
        "## positive / negative pairs 구성"
      ],
      "metadata": {
        "id": "NeR4DueOEV1Y"
      }
    },
    {
      "cell_type": "code",
      "source": [
        "from collections import defaultdict\n",
        "train_json = defaultdict(dict)\n",
        "count = 0\n",
        "for session in train_session:\n",
        "    context = [session[0]]\n",
        "    for turn in range(1, len(session)):\n",
        "        utt = session[turn] \n",
        "        train_json[count]['context'] = context[:]\n",
        "        train_json[count]['response'] = utt\n",
        "        train_json[count]['label'] = 1\n",
        "        context.append(utt)\n",
        "        count += 1\n",
        "    break"
      ],
      "metadata": {
        "id": "z2PGmuw1EQEB"
      },
      "execution_count": 12,
      "outputs": []
    },
    {
      "cell_type": "code",
      "source": [
        "train_json"
      ],
      "metadata": {
        "colab": {
          "base_uri": "https://localhost:8080/"
        },
        "id": "OEiBTgyYE-GT",
        "outputId": "12c7e99d-e360-41f1-ffe3-40b696fdc30f"
      },
      "execution_count": 13,
      "outputs": [
        {
          "output_type": "execute_result",
          "data": {
            "text/plain": [
              "defaultdict(dict,\n",
              "            {0: {'context': ['안녕하세요. 저는 고양이 6마리 키워요.'],\n",
              "              'response': '고양이를 6마리나요? 키우는거 안 힘드세요?',\n",
              "              'label': 1},\n",
              "             1: {'context': ['안녕하세요. 저는 고양이 6마리 키워요.',\n",
              "               '고양이를 6마리나요? 키우는거 안 힘드세요?'],\n",
              "              'response': '제가 워낙 고양이를 좋아해서 크게 힘들진 않아요.',\n",
              "              'label': 1},\n",
              "             2: {'context': ['안녕하세요. 저는 고양이 6마리 키워요.',\n",
              "               '고양이를 6마리나요? 키우는거 안 힘드세요?',\n",
              "               '제가 워낙 고양이를 좋아해서 크게 힘들진 않아요.'],\n",
              "              'response': '가장 나이가 많은 고양이가 어떻게 돼요?',\n",
              "              'label': 1},\n",
              "             3: {'context': ['안녕하세요. 저는 고양이 6마리 키워요.',\n",
              "               '고양이를 6마리나요? 키우는거 안 힘드세요?',\n",
              "               '제가 워낙 고양이를 좋아해서 크게 힘들진 않아요.',\n",
              "               '가장 나이가 많은 고양이가 어떻게 돼요?'],\n",
              "              'response': '여섯 살입니다. 갈색 고양이에요.',\n",
              "              'label': 1},\n",
              "             4: {'context': ['안녕하세요. 저는 고양이 6마리 키워요.',\n",
              "               '고양이를 6마리나요? 키우는거 안 힘드세요?',\n",
              "               '제가 워낙 고양이를 좋아해서 크게 힘들진 않아요.',\n",
              "               '가장 나이가 많은 고양이가 어떻게 돼요?',\n",
              "               '여섯 살입니다. 갈색 고양이에요.'],\n",
              "              'response': '그럼 가장 어린 고양이가 어떻게 돼요?',\n",
              "              'label': 1},\n",
              "             5: {'context': ['안녕하세요. 저는 고양이 6마리 키워요.',\n",
              "               '고양이를 6마리나요? 키우는거 안 힘드세요?',\n",
              "               '제가 워낙 고양이를 좋아해서 크게 힘들진 않아요.',\n",
              "               '가장 나이가 많은 고양이가 어떻게 돼요?',\n",
              "               '여섯 살입니다. 갈색 고양이에요.',\n",
              "               '그럼 가장 어린 고양이가 어떻게 돼요?'],\n",
              "              'response': '한 살입니다. 작년에 분양 받았어요.',\n",
              "              'label': 1},\n",
              "             6: {'context': ['안녕하세요. 저는 고양이 6마리 키워요.',\n",
              "               '고양이를 6마리나요? 키우는거 안 힘드세요?',\n",
              "               '제가 워낙 고양이를 좋아해서 크게 힘들진 않아요.',\n",
              "               '가장 나이가 많은 고양이가 어떻게 돼요?',\n",
              "               '여섯 살입니다. 갈색 고양이에요.',\n",
              "               '그럼 가장 어린 고양이가 어떻게 돼요?',\n",
              "               '한 살입니다. 작년에 분양 받았어요.'],\n",
              "              'response': '그럼 고양이들끼리 안 싸우나요?',\n",
              "              'label': 1},\n",
              "             7: {'context': ['안녕하세요. 저는 고양이 6마리 키워요.',\n",
              "               '고양이를 6마리나요? 키우는거 안 힘드세요?',\n",
              "               '제가 워낙 고양이를 좋아해서 크게 힘들진 않아요.',\n",
              "               '가장 나이가 많은 고양이가 어떻게 돼요?',\n",
              "               '여섯 살입니다. 갈색 고양이에요.',\n",
              "               '그럼 가장 어린 고양이가 어떻게 돼요?',\n",
              "               '한 살입니다. 작년에 분양 받았어요.',\n",
              "               '그럼 고양이들끼리 안 싸우나요?'],\n",
              "              'response': '저희 일곱은 다같이 한 가족입니다. 싸우는 일은 없어요.',\n",
              "              'label': 1}})"
            ]
          },
          "metadata": {},
          "execution_count": 13
        }
      ]
    },
    {
      "cell_type": "code",
      "source": [
        "import random\n",
        "use_turns = 5 # 꼭 5일 필요는 없음\n",
        "neg_nums = 4 # 꼭 4일 필요는 없음\n",
        "\n",
        "from collections import defaultdict\n",
        "train_json = defaultdict(dict)\n",
        "count = 0\n",
        "for session in train_session:\n",
        "    context = [session[0]]\n",
        "    for turn in range(1, len(session)):\n",
        "        utt = session[turn]\n",
        "        train_json[count]['context'] = context[:][-use_turns:]\n",
        "        train_json[count]['positive_response'] = utt\n",
        "        context.append(utt)\n",
        "\n",
        "        negative_candidates = random.sample(all_utts, neg_nums)\n",
        "        train_json[count]['negative_responses'] = negative_candidates\n",
        "        count += 1\n",
        "    break"
      ],
      "metadata": {
        "id": "BfmCaB5bFBrx"
      },
      "execution_count": 14,
      "outputs": []
    },
    {
      "cell_type": "code",
      "source": [
        "train_json"
      ],
      "metadata": {
        "colab": {
          "base_uri": "https://localhost:8080/"
        },
        "id": "55uKhb62GRt5",
        "outputId": "560dd0a0-65a5-4a7f-f57c-1f24d07e3447"
      },
      "execution_count": 15,
      "outputs": [
        {
          "output_type": "execute_result",
          "data": {
            "text/plain": [
              "defaultdict(dict,\n",
              "            {0: {'context': ['안녕하세요. 저는 고양이 6마리 키워요.'],\n",
              "              'positive_response': '고양이를 6마리나요? 키우는거 안 힘드세요?',\n",
              "              'negative_responses': ['아, 순간 진짜 모르시는 줄 알고 깜짝 놀랐어요.',\n",
              "               '군청색을 입으면 악당들의 눈에 안 띄는 만큼 시민들의 눈에 안 띌 가능성도 높겠네요.',\n",
              "               '그럼 고양이들끼리 안 싸우나요?',\n",
              "               '언제까지 안 들킬지는 모르겠지만, 재미있는 상상이네요.']},\n",
              "             1: {'context': ['안녕하세요. 저는 고양이 6마리 키워요.',\n",
              "               '고양이를 6마리나요? 키우는거 안 힘드세요?'],\n",
              "              'positive_response': '제가 워낙 고양이를 좋아해서 크게 힘들진 않아요.',\n",
              "              'negative_responses': ['하지만 1년 전 부터 티켓이 매진되어서, 암표를 구하셔야 될 거에요.',\n",
              "               '농구를 잘하고 싶으면 여러가지를 잘해야죠.',\n",
              "               '그러면 저도 오늘 치즈 피자를 먹어보고 싶어지네요.',\n",
              "               '그렇군요, 전 비틀즈의 헤이 주드를 제일 좋아해요.']},\n",
              "             2: {'context': ['안녕하세요. 저는 고양이 6마리 키워요.',\n",
              "               '고양이를 6마리나요? 키우는거 안 힘드세요?',\n",
              "               '제가 워낙 고양이를 좋아해서 크게 힘들진 않아요.'],\n",
              "              'positive_response': '가장 나이가 많은 고양이가 어떻게 돼요?',\n",
              "              'negative_responses': ['그리고 대학교에서는 말 그래도 수업을 따로 들으면 되요.',\n",
              "               '쓰레기는 많았나요?',\n",
              "               '그럼 꽃나들이 같은건 못 가시는 건가요?',\n",
              "               '네, 하지만 젖니여서 영구치에는 영향이 없었어요.']},\n",
              "             3: {'context': ['안녕하세요. 저는 고양이 6마리 키워요.',\n",
              "               '고양이를 6마리나요? 키우는거 안 힘드세요?',\n",
              "               '제가 워낙 고양이를 좋아해서 크게 힘들진 않아요.',\n",
              "               '가장 나이가 많은 고양이가 어떻게 돼요?'],\n",
              "              'positive_response': '여섯 살입니다. 갈색 고양이에요.',\n",
              "              'negative_responses': ['학구열이 높은건 정말 좋은 것 같아요.',\n",
              "               '네, 매일 아침 손님들이 식사 대용으로 드실만한 빵을 찾다가, 베이글로 정했습니다.',\n",
              "               '그래서 저도 깜짝 놀랐어요.',\n",
              "               '그래도 왠지 양옆으로 움직이는 인어 지느러미는 상상하기 힘든 것 같아요.']},\n",
              "             4: {'context': ['안녕하세요. 저는 고양이 6마리 키워요.',\n",
              "               '고양이를 6마리나요? 키우는거 안 힘드세요?',\n",
              "               '제가 워낙 고양이를 좋아해서 크게 힘들진 않아요.',\n",
              "               '가장 나이가 많은 고양이가 어떻게 돼요?',\n",
              "               '여섯 살입니다. 갈색 고양이에요.'],\n",
              "              'positive_response': '그럼 가장 어린 고양이가 어떻게 돼요?',\n",
              "              'negative_responses': ['시간 여행이 가능하면 뭘 할 것 같아요?',\n",
              "               '딴 메달이 있으시나요?',\n",
              "               '학교 운동장에서 하려고 합니다.',\n",
              "               '저는 초록색이 가장 좋습니다.']},\n",
              "             5: {'context': ['고양이를 6마리나요? 키우는거 안 힘드세요?',\n",
              "               '제가 워낙 고양이를 좋아해서 크게 힘들진 않아요.',\n",
              "               '가장 나이가 많은 고양이가 어떻게 돼요?',\n",
              "               '여섯 살입니다. 갈색 고양이에요.',\n",
              "               '그럼 가장 어린 고양이가 어떻게 돼요?'],\n",
              "              'positive_response': '한 살입니다. 작년에 분양 받았어요.',\n",
              "              'negative_responses': ['그 불안한 것을 줄여주는 것이 저희 호텔의 주 업무입니다.',\n",
              "               '저도 그 경기 보러 가는데, 운이 좋으면 만날 수도 있겟네요.',\n",
              "               '네, 제가 생각해도 조금 특이한 것 같아요.',\n",
              "               '데이브, 아침은 꼭 먹어야죠.']},\n",
              "             6: {'context': ['제가 워낙 고양이를 좋아해서 크게 힘들진 않아요.',\n",
              "               '가장 나이가 많은 고양이가 어떻게 돼요?',\n",
              "               '여섯 살입니다. 갈색 고양이에요.',\n",
              "               '그럼 가장 어린 고양이가 어떻게 돼요?',\n",
              "               '한 살입니다. 작년에 분양 받았어요.'],\n",
              "              'positive_response': '그럼 고양이들끼리 안 싸우나요?',\n",
              "              'negative_responses': ['네, 그리고 돈도 많이 버세요!',\n",
              "               '저는 포스터를 원하지는 않지만, 헌혈을 하러 갈게요.',\n",
              "               '아쉽네요. 청경채 없는 동파육에 도전하시는 건 어떤가요?',\n",
              "               '저는 병원에서 일하느라 여가시간이 그렇게 많지는 않아요.']},\n",
              "             7: {'context': ['가장 나이가 많은 고양이가 어떻게 돼요?',\n",
              "               '여섯 살입니다. 갈색 고양이에요.',\n",
              "               '그럼 가장 어린 고양이가 어떻게 돼요?',\n",
              "               '한 살입니다. 작년에 분양 받았어요.',\n",
              "               '그럼 고양이들끼리 안 싸우나요?'],\n",
              "              'positive_response': '저희 일곱은 다같이 한 가족입니다. 싸우는 일은 없어요.',\n",
              "              'negative_responses': ['멋지네요. 이제는 뭘 하고 싶으세요?',\n",
              "               '경쟁 회사에 취직하고 나서는, 일 뿐만 아니라 취미활동도 하고 있습니다. 퇴근하고 나면 근처에 있는 종합체육시설에서 수영을 해요.',\n",
              "               '언어란 복잡하네요. 어른이 돼서도 배울 수는 없나요?',\n",
              "               '제가 제일 좋아하는 음식 중 하나입니다.']}})"
            ]
          },
          "metadata": {},
          "execution_count": 15
        }
      ]
    },
    {
      "cell_type": "code",
      "source": [
        "import random\n",
        "neg_nums = 4\n",
        "\n",
        "from collections import defaultdict\n",
        "train_json = defaultdict(dict)\n",
        "count = 0\n",
        "for session in train_session:\n",
        "    context = [session[0]]\n",
        "    for turn in range(1, len(session)):\n",
        "        utt = session[turn]\n",
        "        train_json[count]['context'] = context[:][-use_turns:]\n",
        "        train_json[count]['positive_response'] = utt        \n",
        "        context.append(utt)        \n",
        "        \n",
        "        negative_candidates = random.sample(all_utts, neg_nums)\n",
        "        train_json[count]['negative_responses'] = negative_candidates\n",
        "        count += 1\n",
        "    \n",
        "import json\n",
        "with open('/content/drive/MyDrive/인공지능/멀티턴응답선택/korean_smile_style_dataset/train.json', 'w') as outfile:\n",
        "    json.dump(train_json, outfile)"
      ],
      "metadata": {
        "id": "Vl6agE0ZGlU_"
      },
      "execution_count": 17,
      "outputs": []
    },
    {
      "cell_type": "code",
      "source": [
        "import random\n",
        "neg_nums = 4\n",
        "\n",
        "from collections import defaultdict\n",
        "dev_json = defaultdict(dict)\n",
        "count = 0\n",
        "for session in valid_session:\n",
        "    context = [session[0]]\n",
        "    for turn in range(1, len(session)):\n",
        "        utt = session[turn]\n",
        "        dev_json[count]['context'] = context[:][-use_turns:]\n",
        "        dev_json[count]['positive_response'] = utt        \n",
        "        context.append(utt)        \n",
        "        \n",
        "        negative_candidates = random.sample(all_utts, neg_nums)\n",
        "        dev_json[count]['negative_responses'] = negative_candidates\n",
        "        count += 1\n",
        "    \n",
        "import json\n",
        "with open('/content/drive/MyDrive/인공지능/멀티턴응답선택/korean_smile_style_dataset/dev.json', 'w') as outfile:\n",
        "    json.dump(dev_json, outfile)"
      ],
      "metadata": {
        "id": "bOeUuYm_UOM2"
      },
      "execution_count": 18,
      "outputs": []
    },
    {
      "cell_type": "code",
      "source": [],
      "metadata": {
        "id": "eMGmqh98UX7T"
      },
      "execution_count": null,
      "outputs": []
    }
  ]
}