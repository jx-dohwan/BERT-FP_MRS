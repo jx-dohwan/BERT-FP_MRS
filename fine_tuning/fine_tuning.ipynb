{
  "nbformat": 4,
  "nbformat_minor": 0,
  "metadata": {
    "colab": {
      "provenance": [],
      "machine_shape": "hm",
      "mount_file_id": "13CXwgPpD6te_DMFC65rtkNcRwj6hk3Pn",
      "authorship_tag": "ABX9TyO6j6bzLFDVo/KXU5sJKPMY",
      "include_colab_link": true
    },
    "kernelspec": {
      "name": "python3",
      "display_name": "Python 3"
    },
    "language_info": {
      "name": "python"
    },
    "widgets": {
      "application/vnd.jupyter.widget-state+json": {
        "b40435cfd7b849be8281053a7f629623": {
          "model_module": "@jupyter-widgets/controls",
          "model_name": "HBoxModel",
          "model_module_version": "1.5.0",
          "state": {
            "_dom_classes": [],
            "_model_module": "@jupyter-widgets/controls",
            "_model_module_version": "1.5.0",
            "_model_name": "HBoxModel",
            "_view_count": null,
            "_view_module": "@jupyter-widgets/controls",
            "_view_module_version": "1.5.0",
            "_view_name": "HBoxView",
            "box_style": "",
            "children": [
              "IPY_MODEL_868b2fc4fe4744b4bb566e5577af18f7",
              "IPY_MODEL_c6eba09626604187a6370d6c36a89e08",
              "IPY_MODEL_e5fec57cd0924caaa7d5ce5f6e1ea53e"
            ],
            "layout": "IPY_MODEL_718c6d7716834bba9e6ded49a11eafba"
          }
        },
        "868b2fc4fe4744b4bb566e5577af18f7": {
          "model_module": "@jupyter-widgets/controls",
          "model_name": "HTMLModel",
          "model_module_version": "1.5.0",
          "state": {
            "_dom_classes": [],
            "_model_module": "@jupyter-widgets/controls",
            "_model_module_version": "1.5.0",
            "_model_name": "HTMLModel",
            "_view_count": null,
            "_view_module": "@jupyter-widgets/controls",
            "_view_module_version": "1.5.0",
            "_view_name": "HTMLView",
            "description": "",
            "description_tooltip": null,
            "layout": "IPY_MODEL_2242ac8c678c4345a23de34d6d450872",
            "placeholder": "​",
            "style": "IPY_MODEL_7c0e4b6ddce4491fa7ee3dc4c57a14ce",
            "value": "Downloading (…)okenizer_config.json: 100%"
          }
        },
        "c6eba09626604187a6370d6c36a89e08": {
          "model_module": "@jupyter-widgets/controls",
          "model_name": "FloatProgressModel",
          "model_module_version": "1.5.0",
          "state": {
            "_dom_classes": [],
            "_model_module": "@jupyter-widgets/controls",
            "_model_module_version": "1.5.0",
            "_model_name": "FloatProgressModel",
            "_view_count": null,
            "_view_module": "@jupyter-widgets/controls",
            "_view_module_version": "1.5.0",
            "_view_name": "ProgressView",
            "bar_style": "success",
            "description": "",
            "description_tooltip": null,
            "layout": "IPY_MODEL_e8f80059d6184f2ab0c41e057ac42bee",
            "max": 375,
            "min": 0,
            "orientation": "horizontal",
            "style": "IPY_MODEL_38d6e9c99a6941c7aa644447ff09a8d7",
            "value": 375
          }
        },
        "e5fec57cd0924caaa7d5ce5f6e1ea53e": {
          "model_module": "@jupyter-widgets/controls",
          "model_name": "HTMLModel",
          "model_module_version": "1.5.0",
          "state": {
            "_dom_classes": [],
            "_model_module": "@jupyter-widgets/controls",
            "_model_module_version": "1.5.0",
            "_model_name": "HTMLModel",
            "_view_count": null,
            "_view_module": "@jupyter-widgets/controls",
            "_view_module_version": "1.5.0",
            "_view_name": "HTMLView",
            "description": "",
            "description_tooltip": null,
            "layout": "IPY_MODEL_844f503de0b44d739284b22140b8f77b",
            "placeholder": "​",
            "style": "IPY_MODEL_ecb456908d3345c4b189f6c0a59f7e0a",
            "value": " 375/375 [00:00&lt;00:00, 19.0kB/s]"
          }
        },
        "718c6d7716834bba9e6ded49a11eafba": {
          "model_module": "@jupyter-widgets/base",
          "model_name": "LayoutModel",
          "model_module_version": "1.2.0",
          "state": {
            "_model_module": "@jupyter-widgets/base",
            "_model_module_version": "1.2.0",
            "_model_name": "LayoutModel",
            "_view_count": null,
            "_view_module": "@jupyter-widgets/base",
            "_view_module_version": "1.2.0",
            "_view_name": "LayoutView",
            "align_content": null,
            "align_items": null,
            "align_self": null,
            "border": null,
            "bottom": null,
            "display": null,
            "flex": null,
            "flex_flow": null,
            "grid_area": null,
            "grid_auto_columns": null,
            "grid_auto_flow": null,
            "grid_auto_rows": null,
            "grid_column": null,
            "grid_gap": null,
            "grid_row": null,
            "grid_template_areas": null,
            "grid_template_columns": null,
            "grid_template_rows": null,
            "height": null,
            "justify_content": null,
            "justify_items": null,
            "left": null,
            "margin": null,
            "max_height": null,
            "max_width": null,
            "min_height": null,
            "min_width": null,
            "object_fit": null,
            "object_position": null,
            "order": null,
            "overflow": null,
            "overflow_x": null,
            "overflow_y": null,
            "padding": null,
            "right": null,
            "top": null,
            "visibility": null,
            "width": null
          }
        },
        "2242ac8c678c4345a23de34d6d450872": {
          "model_module": "@jupyter-widgets/base",
          "model_name": "LayoutModel",
          "model_module_version": "1.2.0",
          "state": {
            "_model_module": "@jupyter-widgets/base",
            "_model_module_version": "1.2.0",
            "_model_name": "LayoutModel",
            "_view_count": null,
            "_view_module": "@jupyter-widgets/base",
            "_view_module_version": "1.2.0",
            "_view_name": "LayoutView",
            "align_content": null,
            "align_items": null,
            "align_self": null,
            "border": null,
            "bottom": null,
            "display": null,
            "flex": null,
            "flex_flow": null,
            "grid_area": null,
            "grid_auto_columns": null,
            "grid_auto_flow": null,
            "grid_auto_rows": null,
            "grid_column": null,
            "grid_gap": null,
            "grid_row": null,
            "grid_template_areas": null,
            "grid_template_columns": null,
            "grid_template_rows": null,
            "height": null,
            "justify_content": null,
            "justify_items": null,
            "left": null,
            "margin": null,
            "max_height": null,
            "max_width": null,
            "min_height": null,
            "min_width": null,
            "object_fit": null,
            "object_position": null,
            "order": null,
            "overflow": null,
            "overflow_x": null,
            "overflow_y": null,
            "padding": null,
            "right": null,
            "top": null,
            "visibility": null,
            "width": null
          }
        },
        "7c0e4b6ddce4491fa7ee3dc4c57a14ce": {
          "model_module": "@jupyter-widgets/controls",
          "model_name": "DescriptionStyleModel",
          "model_module_version": "1.5.0",
          "state": {
            "_model_module": "@jupyter-widgets/controls",
            "_model_module_version": "1.5.0",
            "_model_name": "DescriptionStyleModel",
            "_view_count": null,
            "_view_module": "@jupyter-widgets/base",
            "_view_module_version": "1.2.0",
            "_view_name": "StyleView",
            "description_width": ""
          }
        },
        "e8f80059d6184f2ab0c41e057ac42bee": {
          "model_module": "@jupyter-widgets/base",
          "model_name": "LayoutModel",
          "model_module_version": "1.2.0",
          "state": {
            "_model_module": "@jupyter-widgets/base",
            "_model_module_version": "1.2.0",
            "_model_name": "LayoutModel",
            "_view_count": null,
            "_view_module": "@jupyter-widgets/base",
            "_view_module_version": "1.2.0",
            "_view_name": "LayoutView",
            "align_content": null,
            "align_items": null,
            "align_self": null,
            "border": null,
            "bottom": null,
            "display": null,
            "flex": null,
            "flex_flow": null,
            "grid_area": null,
            "grid_auto_columns": null,
            "grid_auto_flow": null,
            "grid_auto_rows": null,
            "grid_column": null,
            "grid_gap": null,
            "grid_row": null,
            "grid_template_areas": null,
            "grid_template_columns": null,
            "grid_template_rows": null,
            "height": null,
            "justify_content": null,
            "justify_items": null,
            "left": null,
            "margin": null,
            "max_height": null,
            "max_width": null,
            "min_height": null,
            "min_width": null,
            "object_fit": null,
            "object_position": null,
            "order": null,
            "overflow": null,
            "overflow_x": null,
            "overflow_y": null,
            "padding": null,
            "right": null,
            "top": null,
            "visibility": null,
            "width": null
          }
        },
        "38d6e9c99a6941c7aa644447ff09a8d7": {
          "model_module": "@jupyter-widgets/controls",
          "model_name": "ProgressStyleModel",
          "model_module_version": "1.5.0",
          "state": {
            "_model_module": "@jupyter-widgets/controls",
            "_model_module_version": "1.5.0",
            "_model_name": "ProgressStyleModel",
            "_view_count": null,
            "_view_module": "@jupyter-widgets/base",
            "_view_module_version": "1.2.0",
            "_view_name": "StyleView",
            "bar_color": null,
            "description_width": ""
          }
        },
        "844f503de0b44d739284b22140b8f77b": {
          "model_module": "@jupyter-widgets/base",
          "model_name": "LayoutModel",
          "model_module_version": "1.2.0",
          "state": {
            "_model_module": "@jupyter-widgets/base",
            "_model_module_version": "1.2.0",
            "_model_name": "LayoutModel",
            "_view_count": null,
            "_view_module": "@jupyter-widgets/base",
            "_view_module_version": "1.2.0",
            "_view_name": "LayoutView",
            "align_content": null,
            "align_items": null,
            "align_self": null,
            "border": null,
            "bottom": null,
            "display": null,
            "flex": null,
            "flex_flow": null,
            "grid_area": null,
            "grid_auto_columns": null,
            "grid_auto_flow": null,
            "grid_auto_rows": null,
            "grid_column": null,
            "grid_gap": null,
            "grid_row": null,
            "grid_template_areas": null,
            "grid_template_columns": null,
            "grid_template_rows": null,
            "height": null,
            "justify_content": null,
            "justify_items": null,
            "left": null,
            "margin": null,
            "max_height": null,
            "max_width": null,
            "min_height": null,
            "min_width": null,
            "object_fit": null,
            "object_position": null,
            "order": null,
            "overflow": null,
            "overflow_x": null,
            "overflow_y": null,
            "padding": null,
            "right": null,
            "top": null,
            "visibility": null,
            "width": null
          }
        },
        "ecb456908d3345c4b189f6c0a59f7e0a": {
          "model_module": "@jupyter-widgets/controls",
          "model_name": "DescriptionStyleModel",
          "model_module_version": "1.5.0",
          "state": {
            "_model_module": "@jupyter-widgets/controls",
            "_model_module_version": "1.5.0",
            "_model_name": "DescriptionStyleModel",
            "_view_count": null,
            "_view_module": "@jupyter-widgets/base",
            "_view_module_version": "1.2.0",
            "_view_name": "StyleView",
            "description_width": ""
          }
        },
        "838cdc014bea45b4aa007270bda0b1f2": {
          "model_module": "@jupyter-widgets/controls",
          "model_name": "HBoxModel",
          "model_module_version": "1.5.0",
          "state": {
            "_dom_classes": [],
            "_model_module": "@jupyter-widgets/controls",
            "_model_module_version": "1.5.0",
            "_model_name": "HBoxModel",
            "_view_count": null,
            "_view_module": "@jupyter-widgets/controls",
            "_view_module_version": "1.5.0",
            "_view_name": "HBoxView",
            "box_style": "",
            "children": [
              "IPY_MODEL_48c876b86d474a97b1f5008243d0f202",
              "IPY_MODEL_f7bd20ffaeb246bca38c60a52e034ed3",
              "IPY_MODEL_184a613419d248b1974a0ba149fc9b00"
            ],
            "layout": "IPY_MODEL_7b9ed1c0f8744a95aeaf5ea751c47109"
          }
        },
        "48c876b86d474a97b1f5008243d0f202": {
          "model_module": "@jupyter-widgets/controls",
          "model_name": "HTMLModel",
          "model_module_version": "1.5.0",
          "state": {
            "_dom_classes": [],
            "_model_module": "@jupyter-widgets/controls",
            "_model_module_version": "1.5.0",
            "_model_name": "HTMLModel",
            "_view_count": null,
            "_view_module": "@jupyter-widgets/controls",
            "_view_module_version": "1.5.0",
            "_view_name": "HTMLView",
            "description": "",
            "description_tooltip": null,
            "layout": "IPY_MODEL_581d562eda5647729ac90c704a64d135",
            "placeholder": "​",
            "style": "IPY_MODEL_eb4997f98784412f841d44399dea9535",
            "value": "Downloading (…)solve/main/vocab.txt: 100%"
          }
        },
        "f7bd20ffaeb246bca38c60a52e034ed3": {
          "model_module": "@jupyter-widgets/controls",
          "model_name": "FloatProgressModel",
          "model_module_version": "1.5.0",
          "state": {
            "_dom_classes": [],
            "_model_module": "@jupyter-widgets/controls",
            "_model_module_version": "1.5.0",
            "_model_name": "FloatProgressModel",
            "_view_count": null,
            "_view_module": "@jupyter-widgets/controls",
            "_view_module_version": "1.5.0",
            "_view_name": "ProgressView",
            "bar_style": "success",
            "description": "",
            "description_tooltip": null,
            "layout": "IPY_MODEL_176e413ecc3c4658af92a81d16d897a1",
            "max": 248477,
            "min": 0,
            "orientation": "horizontal",
            "style": "IPY_MODEL_9a43e762c9f24fd5a33af6c884047a26",
            "value": 248477
          }
        },
        "184a613419d248b1974a0ba149fc9b00": {
          "model_module": "@jupyter-widgets/controls",
          "model_name": "HTMLModel",
          "model_module_version": "1.5.0",
          "state": {
            "_dom_classes": [],
            "_model_module": "@jupyter-widgets/controls",
            "_model_module_version": "1.5.0",
            "_model_name": "HTMLModel",
            "_view_count": null,
            "_view_module": "@jupyter-widgets/controls",
            "_view_module_version": "1.5.0",
            "_view_name": "HTMLView",
            "description": "",
            "description_tooltip": null,
            "layout": "IPY_MODEL_f1d6532bc03342f9b8bc5b3e5eca733e",
            "placeholder": "​",
            "style": "IPY_MODEL_57e294c53fa64b9db6955405a31912c2",
            "value": " 248k/248k [00:00&lt;00:00, 3.04MB/s]"
          }
        },
        "7b9ed1c0f8744a95aeaf5ea751c47109": {
          "model_module": "@jupyter-widgets/base",
          "model_name": "LayoutModel",
          "model_module_version": "1.2.0",
          "state": {
            "_model_module": "@jupyter-widgets/base",
            "_model_module_version": "1.2.0",
            "_model_name": "LayoutModel",
            "_view_count": null,
            "_view_module": "@jupyter-widgets/base",
            "_view_module_version": "1.2.0",
            "_view_name": "LayoutView",
            "align_content": null,
            "align_items": null,
            "align_self": null,
            "border": null,
            "bottom": null,
            "display": null,
            "flex": null,
            "flex_flow": null,
            "grid_area": null,
            "grid_auto_columns": null,
            "grid_auto_flow": null,
            "grid_auto_rows": null,
            "grid_column": null,
            "grid_gap": null,
            "grid_row": null,
            "grid_template_areas": null,
            "grid_template_columns": null,
            "grid_template_rows": null,
            "height": null,
            "justify_content": null,
            "justify_items": null,
            "left": null,
            "margin": null,
            "max_height": null,
            "max_width": null,
            "min_height": null,
            "min_width": null,
            "object_fit": null,
            "object_position": null,
            "order": null,
            "overflow": null,
            "overflow_x": null,
            "overflow_y": null,
            "padding": null,
            "right": null,
            "top": null,
            "visibility": null,
            "width": null
          }
        },
        "581d562eda5647729ac90c704a64d135": {
          "model_module": "@jupyter-widgets/base",
          "model_name": "LayoutModel",
          "model_module_version": "1.2.0",
          "state": {
            "_model_module": "@jupyter-widgets/base",
            "_model_module_version": "1.2.0",
            "_model_name": "LayoutModel",
            "_view_count": null,
            "_view_module": "@jupyter-widgets/base",
            "_view_module_version": "1.2.0",
            "_view_name": "LayoutView",
            "align_content": null,
            "align_items": null,
            "align_self": null,
            "border": null,
            "bottom": null,
            "display": null,
            "flex": null,
            "flex_flow": null,
            "grid_area": null,
            "grid_auto_columns": null,
            "grid_auto_flow": null,
            "grid_auto_rows": null,
            "grid_column": null,
            "grid_gap": null,
            "grid_row": null,
            "grid_template_areas": null,
            "grid_template_columns": null,
            "grid_template_rows": null,
            "height": null,
            "justify_content": null,
            "justify_items": null,
            "left": null,
            "margin": null,
            "max_height": null,
            "max_width": null,
            "min_height": null,
            "min_width": null,
            "object_fit": null,
            "object_position": null,
            "order": null,
            "overflow": null,
            "overflow_x": null,
            "overflow_y": null,
            "padding": null,
            "right": null,
            "top": null,
            "visibility": null,
            "width": null
          }
        },
        "eb4997f98784412f841d44399dea9535": {
          "model_module": "@jupyter-widgets/controls",
          "model_name": "DescriptionStyleModel",
          "model_module_version": "1.5.0",
          "state": {
            "_model_module": "@jupyter-widgets/controls",
            "_model_module_version": "1.5.0",
            "_model_name": "DescriptionStyleModel",
            "_view_count": null,
            "_view_module": "@jupyter-widgets/base",
            "_view_module_version": "1.2.0",
            "_view_name": "StyleView",
            "description_width": ""
          }
        },
        "176e413ecc3c4658af92a81d16d897a1": {
          "model_module": "@jupyter-widgets/base",
          "model_name": "LayoutModel",
          "model_module_version": "1.2.0",
          "state": {
            "_model_module": "@jupyter-widgets/base",
            "_model_module_version": "1.2.0",
            "_model_name": "LayoutModel",
            "_view_count": null,
            "_view_module": "@jupyter-widgets/base",
            "_view_module_version": "1.2.0",
            "_view_name": "LayoutView",
            "align_content": null,
            "align_items": null,
            "align_self": null,
            "border": null,
            "bottom": null,
            "display": null,
            "flex": null,
            "flex_flow": null,
            "grid_area": null,
            "grid_auto_columns": null,
            "grid_auto_flow": null,
            "grid_auto_rows": null,
            "grid_column": null,
            "grid_gap": null,
            "grid_row": null,
            "grid_template_areas": null,
            "grid_template_columns": null,
            "grid_template_rows": null,
            "height": null,
            "justify_content": null,
            "justify_items": null,
            "left": null,
            "margin": null,
            "max_height": null,
            "max_width": null,
            "min_height": null,
            "min_width": null,
            "object_fit": null,
            "object_position": null,
            "order": null,
            "overflow": null,
            "overflow_x": null,
            "overflow_y": null,
            "padding": null,
            "right": null,
            "top": null,
            "visibility": null,
            "width": null
          }
        },
        "9a43e762c9f24fd5a33af6c884047a26": {
          "model_module": "@jupyter-widgets/controls",
          "model_name": "ProgressStyleModel",
          "model_module_version": "1.5.0",
          "state": {
            "_model_module": "@jupyter-widgets/controls",
            "_model_module_version": "1.5.0",
            "_model_name": "ProgressStyleModel",
            "_view_count": null,
            "_view_module": "@jupyter-widgets/base",
            "_view_module_version": "1.2.0",
            "_view_name": "StyleView",
            "bar_color": null,
            "description_width": ""
          }
        },
        "f1d6532bc03342f9b8bc5b3e5eca733e": {
          "model_module": "@jupyter-widgets/base",
          "model_name": "LayoutModel",
          "model_module_version": "1.2.0",
          "state": {
            "_model_module": "@jupyter-widgets/base",
            "_model_module_version": "1.2.0",
            "_model_name": "LayoutModel",
            "_view_count": null,
            "_view_module": "@jupyter-widgets/base",
            "_view_module_version": "1.2.0",
            "_view_name": "LayoutView",
            "align_content": null,
            "align_items": null,
            "align_self": null,
            "border": null,
            "bottom": null,
            "display": null,
            "flex": null,
            "flex_flow": null,
            "grid_area": null,
            "grid_auto_columns": null,
            "grid_auto_flow": null,
            "grid_auto_rows": null,
            "grid_column": null,
            "grid_gap": null,
            "grid_row": null,
            "grid_template_areas": null,
            "grid_template_columns": null,
            "grid_template_rows": null,
            "height": null,
            "justify_content": null,
            "justify_items": null,
            "left": null,
            "margin": null,
            "max_height": null,
            "max_width": null,
            "min_height": null,
            "min_width": null,
            "object_fit": null,
            "object_position": null,
            "order": null,
            "overflow": null,
            "overflow_x": null,
            "overflow_y": null,
            "padding": null,
            "right": null,
            "top": null,
            "visibility": null,
            "width": null
          }
        },
        "57e294c53fa64b9db6955405a31912c2": {
          "model_module": "@jupyter-widgets/controls",
          "model_name": "DescriptionStyleModel",
          "model_module_version": "1.5.0",
          "state": {
            "_model_module": "@jupyter-widgets/controls",
            "_model_module_version": "1.5.0",
            "_model_name": "DescriptionStyleModel",
            "_view_count": null,
            "_view_module": "@jupyter-widgets/base",
            "_view_module_version": "1.2.0",
            "_view_name": "StyleView",
            "description_width": ""
          }
        },
        "fc62ae563b564e9883ba0c2cae8104d7": {
          "model_module": "@jupyter-widgets/controls",
          "model_name": "HBoxModel",
          "model_module_version": "1.5.0",
          "state": {
            "_dom_classes": [],
            "_model_module": "@jupyter-widgets/controls",
            "_model_module_version": "1.5.0",
            "_model_name": "HBoxModel",
            "_view_count": null,
            "_view_module": "@jupyter-widgets/controls",
            "_view_module_version": "1.5.0",
            "_view_name": "HBoxView",
            "box_style": "",
            "children": [
              "IPY_MODEL_5b403d49f73b4007b2a61cad62320cca",
              "IPY_MODEL_3d95f256cb1644bc879228cd9086c0f1",
              "IPY_MODEL_6745e5493a074b24a45d24530a6e2b96"
            ],
            "layout": "IPY_MODEL_a6fb8b77b9964589ae81393d789f0f18"
          }
        },
        "5b403d49f73b4007b2a61cad62320cca": {
          "model_module": "@jupyter-widgets/controls",
          "model_name": "HTMLModel",
          "model_module_version": "1.5.0",
          "state": {
            "_dom_classes": [],
            "_model_module": "@jupyter-widgets/controls",
            "_model_module_version": "1.5.0",
            "_model_name": "HTMLModel",
            "_view_count": null,
            "_view_module": "@jupyter-widgets/controls",
            "_view_module_version": "1.5.0",
            "_view_name": "HTMLView",
            "description": "",
            "description_tooltip": null,
            "layout": "IPY_MODEL_32d80fbe3bd648dfb88d915e5a9fbc98",
            "placeholder": "​",
            "style": "IPY_MODEL_43cb5f0fd7d34958aadadd6c86ca81c6",
            "value": "Downloading (…)/main/tokenizer.json: 100%"
          }
        },
        "3d95f256cb1644bc879228cd9086c0f1": {
          "model_module": "@jupyter-widgets/controls",
          "model_name": "FloatProgressModel",
          "model_module_version": "1.5.0",
          "state": {
            "_dom_classes": [],
            "_model_module": "@jupyter-widgets/controls",
            "_model_module_version": "1.5.0",
            "_model_name": "FloatProgressModel",
            "_view_count": null,
            "_view_module": "@jupyter-widgets/controls",
            "_view_module_version": "1.5.0",
            "_view_name": "ProgressView",
            "bar_style": "success",
            "description": "",
            "description_tooltip": null,
            "layout": "IPY_MODEL_ad85e932420448e1bc0397dee86d46cf",
            "max": 751504,
            "min": 0,
            "orientation": "horizontal",
            "style": "IPY_MODEL_97b404bc853546b78092f6203befabd5",
            "value": 751504
          }
        },
        "6745e5493a074b24a45d24530a6e2b96": {
          "model_module": "@jupyter-widgets/controls",
          "model_name": "HTMLModel",
          "model_module_version": "1.5.0",
          "state": {
            "_dom_classes": [],
            "_model_module": "@jupyter-widgets/controls",
            "_model_module_version": "1.5.0",
            "_model_name": "HTMLModel",
            "_view_count": null,
            "_view_module": "@jupyter-widgets/controls",
            "_view_module_version": "1.5.0",
            "_view_name": "HTMLView",
            "description": "",
            "description_tooltip": null,
            "layout": "IPY_MODEL_032fe9d0e93548539bd572778baf656c",
            "placeholder": "​",
            "style": "IPY_MODEL_cdd2e0b7075e4cf4815eb756ebbee7e9",
            "value": " 752k/752k [00:00&lt;00:00, 6.77MB/s]"
          }
        },
        "a6fb8b77b9964589ae81393d789f0f18": {
          "model_module": "@jupyter-widgets/base",
          "model_name": "LayoutModel",
          "model_module_version": "1.2.0",
          "state": {
            "_model_module": "@jupyter-widgets/base",
            "_model_module_version": "1.2.0",
            "_model_name": "LayoutModel",
            "_view_count": null,
            "_view_module": "@jupyter-widgets/base",
            "_view_module_version": "1.2.0",
            "_view_name": "LayoutView",
            "align_content": null,
            "align_items": null,
            "align_self": null,
            "border": null,
            "bottom": null,
            "display": null,
            "flex": null,
            "flex_flow": null,
            "grid_area": null,
            "grid_auto_columns": null,
            "grid_auto_flow": null,
            "grid_auto_rows": null,
            "grid_column": null,
            "grid_gap": null,
            "grid_row": null,
            "grid_template_areas": null,
            "grid_template_columns": null,
            "grid_template_rows": null,
            "height": null,
            "justify_content": null,
            "justify_items": null,
            "left": null,
            "margin": null,
            "max_height": null,
            "max_width": null,
            "min_height": null,
            "min_width": null,
            "object_fit": null,
            "object_position": null,
            "order": null,
            "overflow": null,
            "overflow_x": null,
            "overflow_y": null,
            "padding": null,
            "right": null,
            "top": null,
            "visibility": null,
            "width": null
          }
        },
        "32d80fbe3bd648dfb88d915e5a9fbc98": {
          "model_module": "@jupyter-widgets/base",
          "model_name": "LayoutModel",
          "model_module_version": "1.2.0",
          "state": {
            "_model_module": "@jupyter-widgets/base",
            "_model_module_version": "1.2.0",
            "_model_name": "LayoutModel",
            "_view_count": null,
            "_view_module": "@jupyter-widgets/base",
            "_view_module_version": "1.2.0",
            "_view_name": "LayoutView",
            "align_content": null,
            "align_items": null,
            "align_self": null,
            "border": null,
            "bottom": null,
            "display": null,
            "flex": null,
            "flex_flow": null,
            "grid_area": null,
            "grid_auto_columns": null,
            "grid_auto_flow": null,
            "grid_auto_rows": null,
            "grid_column": null,
            "grid_gap": null,
            "grid_row": null,
            "grid_template_areas": null,
            "grid_template_columns": null,
            "grid_template_rows": null,
            "height": null,
            "justify_content": null,
            "justify_items": null,
            "left": null,
            "margin": null,
            "max_height": null,
            "max_width": null,
            "min_height": null,
            "min_width": null,
            "object_fit": null,
            "object_position": null,
            "order": null,
            "overflow": null,
            "overflow_x": null,
            "overflow_y": null,
            "padding": null,
            "right": null,
            "top": null,
            "visibility": null,
            "width": null
          }
        },
        "43cb5f0fd7d34958aadadd6c86ca81c6": {
          "model_module": "@jupyter-widgets/controls",
          "model_name": "DescriptionStyleModel",
          "model_module_version": "1.5.0",
          "state": {
            "_model_module": "@jupyter-widgets/controls",
            "_model_module_version": "1.5.0",
            "_model_name": "DescriptionStyleModel",
            "_view_count": null,
            "_view_module": "@jupyter-widgets/base",
            "_view_module_version": "1.2.0",
            "_view_name": "StyleView",
            "description_width": ""
          }
        },
        "ad85e932420448e1bc0397dee86d46cf": {
          "model_module": "@jupyter-widgets/base",
          "model_name": "LayoutModel",
          "model_module_version": "1.2.0",
          "state": {
            "_model_module": "@jupyter-widgets/base",
            "_model_module_version": "1.2.0",
            "_model_name": "LayoutModel",
            "_view_count": null,
            "_view_module": "@jupyter-widgets/base",
            "_view_module_version": "1.2.0",
            "_view_name": "LayoutView",
            "align_content": null,
            "align_items": null,
            "align_self": null,
            "border": null,
            "bottom": null,
            "display": null,
            "flex": null,
            "flex_flow": null,
            "grid_area": null,
            "grid_auto_columns": null,
            "grid_auto_flow": null,
            "grid_auto_rows": null,
            "grid_column": null,
            "grid_gap": null,
            "grid_row": null,
            "grid_template_areas": null,
            "grid_template_columns": null,
            "grid_template_rows": null,
            "height": null,
            "justify_content": null,
            "justify_items": null,
            "left": null,
            "margin": null,
            "max_height": null,
            "max_width": null,
            "min_height": null,
            "min_width": null,
            "object_fit": null,
            "object_position": null,
            "order": null,
            "overflow": null,
            "overflow_x": null,
            "overflow_y": null,
            "padding": null,
            "right": null,
            "top": null,
            "visibility": null,
            "width": null
          }
        },
        "97b404bc853546b78092f6203befabd5": {
          "model_module": "@jupyter-widgets/controls",
          "model_name": "ProgressStyleModel",
          "model_module_version": "1.5.0",
          "state": {
            "_model_module": "@jupyter-widgets/controls",
            "_model_module_version": "1.5.0",
            "_model_name": "ProgressStyleModel",
            "_view_count": null,
            "_view_module": "@jupyter-widgets/base",
            "_view_module_version": "1.2.0",
            "_view_name": "StyleView",
            "bar_color": null,
            "description_width": ""
          }
        },
        "032fe9d0e93548539bd572778baf656c": {
          "model_module": "@jupyter-widgets/base",
          "model_name": "LayoutModel",
          "model_module_version": "1.2.0",
          "state": {
            "_model_module": "@jupyter-widgets/base",
            "_model_module_version": "1.2.0",
            "_model_name": "LayoutModel",
            "_view_count": null,
            "_view_module": "@jupyter-widgets/base",
            "_view_module_version": "1.2.0",
            "_view_name": "LayoutView",
            "align_content": null,
            "align_items": null,
            "align_self": null,
            "border": null,
            "bottom": null,
            "display": null,
            "flex": null,
            "flex_flow": null,
            "grid_area": null,
            "grid_auto_columns": null,
            "grid_auto_flow": null,
            "grid_auto_rows": null,
            "grid_column": null,
            "grid_gap": null,
            "grid_row": null,
            "grid_template_areas": null,
            "grid_template_columns": null,
            "grid_template_rows": null,
            "height": null,
            "justify_content": null,
            "justify_items": null,
            "left": null,
            "margin": null,
            "max_height": null,
            "max_width": null,
            "min_height": null,
            "min_width": null,
            "object_fit": null,
            "object_position": null,
            "order": null,
            "overflow": null,
            "overflow_x": null,
            "overflow_y": null,
            "padding": null,
            "right": null,
            "top": null,
            "visibility": null,
            "width": null
          }
        },
        "cdd2e0b7075e4cf4815eb756ebbee7e9": {
          "model_module": "@jupyter-widgets/controls",
          "model_name": "DescriptionStyleModel",
          "model_module_version": "1.5.0",
          "state": {
            "_model_module": "@jupyter-widgets/controls",
            "_model_module_version": "1.5.0",
            "_model_name": "DescriptionStyleModel",
            "_view_count": null,
            "_view_module": "@jupyter-widgets/base",
            "_view_module_version": "1.2.0",
            "_view_name": "StyleView",
            "description_width": ""
          }
        },
        "90d78900ee8d43579e046a8b70eea77e": {
          "model_module": "@jupyter-widgets/controls",
          "model_name": "HBoxModel",
          "model_module_version": "1.5.0",
          "state": {
            "_dom_classes": [],
            "_model_module": "@jupyter-widgets/controls",
            "_model_module_version": "1.5.0",
            "_model_name": "HBoxModel",
            "_view_count": null,
            "_view_module": "@jupyter-widgets/controls",
            "_view_module_version": "1.5.0",
            "_view_name": "HBoxView",
            "box_style": "",
            "children": [
              "IPY_MODEL_b261edbe99814acd81be1f42bc58af88",
              "IPY_MODEL_ab44fe6e8d494874ad276db78c8c4c71",
              "IPY_MODEL_de2134eb14f640889f9281e55c8582d1"
            ],
            "layout": "IPY_MODEL_72f029557c3645408198fdc7f90a7113"
          }
        },
        "b261edbe99814acd81be1f42bc58af88": {
          "model_module": "@jupyter-widgets/controls",
          "model_name": "HTMLModel",
          "model_module_version": "1.5.0",
          "state": {
            "_dom_classes": [],
            "_model_module": "@jupyter-widgets/controls",
            "_model_module_version": "1.5.0",
            "_model_name": "HTMLModel",
            "_view_count": null,
            "_view_module": "@jupyter-widgets/controls",
            "_view_module_version": "1.5.0",
            "_view_name": "HTMLView",
            "description": "",
            "description_tooltip": null,
            "layout": "IPY_MODEL_e180a88f32554f8992ffe24133ac5962",
            "placeholder": "​",
            "style": "IPY_MODEL_8b7b69d5faae471ca998c2fbcc57fbfb",
            "value": "Downloading (…)cial_tokens_map.json: 100%"
          }
        },
        "ab44fe6e8d494874ad276db78c8c4c71": {
          "model_module": "@jupyter-widgets/controls",
          "model_name": "FloatProgressModel",
          "model_module_version": "1.5.0",
          "state": {
            "_dom_classes": [],
            "_model_module": "@jupyter-widgets/controls",
            "_model_module_version": "1.5.0",
            "_model_name": "FloatProgressModel",
            "_view_count": null,
            "_view_module": "@jupyter-widgets/controls",
            "_view_module_version": "1.5.0",
            "_view_name": "ProgressView",
            "bar_style": "success",
            "description": "",
            "description_tooltip": null,
            "layout": "IPY_MODEL_ed6ddcf9f24c4d97b742a88cdbb858bb",
            "max": 173,
            "min": 0,
            "orientation": "horizontal",
            "style": "IPY_MODEL_6784346ed9654da2a8089da9e00e2914",
            "value": 173
          }
        },
        "de2134eb14f640889f9281e55c8582d1": {
          "model_module": "@jupyter-widgets/controls",
          "model_name": "HTMLModel",
          "model_module_version": "1.5.0",
          "state": {
            "_dom_classes": [],
            "_model_module": "@jupyter-widgets/controls",
            "_model_module_version": "1.5.0",
            "_model_name": "HTMLModel",
            "_view_count": null,
            "_view_module": "@jupyter-widgets/controls",
            "_view_module_version": "1.5.0",
            "_view_name": "HTMLView",
            "description": "",
            "description_tooltip": null,
            "layout": "IPY_MODEL_f0c4ea635fd44315a0625933d5104b81",
            "placeholder": "​",
            "style": "IPY_MODEL_f451b5f8d11043b5b1a7c1cca10e1087",
            "value": " 173/173 [00:00&lt;00:00, 11.7kB/s]"
          }
        },
        "72f029557c3645408198fdc7f90a7113": {
          "model_module": "@jupyter-widgets/base",
          "model_name": "LayoutModel",
          "model_module_version": "1.2.0",
          "state": {
            "_model_module": "@jupyter-widgets/base",
            "_model_module_version": "1.2.0",
            "_model_name": "LayoutModel",
            "_view_count": null,
            "_view_module": "@jupyter-widgets/base",
            "_view_module_version": "1.2.0",
            "_view_name": "LayoutView",
            "align_content": null,
            "align_items": null,
            "align_self": null,
            "border": null,
            "bottom": null,
            "display": null,
            "flex": null,
            "flex_flow": null,
            "grid_area": null,
            "grid_auto_columns": null,
            "grid_auto_flow": null,
            "grid_auto_rows": null,
            "grid_column": null,
            "grid_gap": null,
            "grid_row": null,
            "grid_template_areas": null,
            "grid_template_columns": null,
            "grid_template_rows": null,
            "height": null,
            "justify_content": null,
            "justify_items": null,
            "left": null,
            "margin": null,
            "max_height": null,
            "max_width": null,
            "min_height": null,
            "min_width": null,
            "object_fit": null,
            "object_position": null,
            "order": null,
            "overflow": null,
            "overflow_x": null,
            "overflow_y": null,
            "padding": null,
            "right": null,
            "top": null,
            "visibility": null,
            "width": null
          }
        },
        "e180a88f32554f8992ffe24133ac5962": {
          "model_module": "@jupyter-widgets/base",
          "model_name": "LayoutModel",
          "model_module_version": "1.2.0",
          "state": {
            "_model_module": "@jupyter-widgets/base",
            "_model_module_version": "1.2.0",
            "_model_name": "LayoutModel",
            "_view_count": null,
            "_view_module": "@jupyter-widgets/base",
            "_view_module_version": "1.2.0",
            "_view_name": "LayoutView",
            "align_content": null,
            "align_items": null,
            "align_self": null,
            "border": null,
            "bottom": null,
            "display": null,
            "flex": null,
            "flex_flow": null,
            "grid_area": null,
            "grid_auto_columns": null,
            "grid_auto_flow": null,
            "grid_auto_rows": null,
            "grid_column": null,
            "grid_gap": null,
            "grid_row": null,
            "grid_template_areas": null,
            "grid_template_columns": null,
            "grid_template_rows": null,
            "height": null,
            "justify_content": null,
            "justify_items": null,
            "left": null,
            "margin": null,
            "max_height": null,
            "max_width": null,
            "min_height": null,
            "min_width": null,
            "object_fit": null,
            "object_position": null,
            "order": null,
            "overflow": null,
            "overflow_x": null,
            "overflow_y": null,
            "padding": null,
            "right": null,
            "top": null,
            "visibility": null,
            "width": null
          }
        },
        "8b7b69d5faae471ca998c2fbcc57fbfb": {
          "model_module": "@jupyter-widgets/controls",
          "model_name": "DescriptionStyleModel",
          "model_module_version": "1.5.0",
          "state": {
            "_model_module": "@jupyter-widgets/controls",
            "_model_module_version": "1.5.0",
            "_model_name": "DescriptionStyleModel",
            "_view_count": null,
            "_view_module": "@jupyter-widgets/base",
            "_view_module_version": "1.2.0",
            "_view_name": "StyleView",
            "description_width": ""
          }
        },
        "ed6ddcf9f24c4d97b742a88cdbb858bb": {
          "model_module": "@jupyter-widgets/base",
          "model_name": "LayoutModel",
          "model_module_version": "1.2.0",
          "state": {
            "_model_module": "@jupyter-widgets/base",
            "_model_module_version": "1.2.0",
            "_model_name": "LayoutModel",
            "_view_count": null,
            "_view_module": "@jupyter-widgets/base",
            "_view_module_version": "1.2.0",
            "_view_name": "LayoutView",
            "align_content": null,
            "align_items": null,
            "align_self": null,
            "border": null,
            "bottom": null,
            "display": null,
            "flex": null,
            "flex_flow": null,
            "grid_area": null,
            "grid_auto_columns": null,
            "grid_auto_flow": null,
            "grid_auto_rows": null,
            "grid_column": null,
            "grid_gap": null,
            "grid_row": null,
            "grid_template_areas": null,
            "grid_template_columns": null,
            "grid_template_rows": null,
            "height": null,
            "justify_content": null,
            "justify_items": null,
            "left": null,
            "margin": null,
            "max_height": null,
            "max_width": null,
            "min_height": null,
            "min_width": null,
            "object_fit": null,
            "object_position": null,
            "order": null,
            "overflow": null,
            "overflow_x": null,
            "overflow_y": null,
            "padding": null,
            "right": null,
            "top": null,
            "visibility": null,
            "width": null
          }
        },
        "6784346ed9654da2a8089da9e00e2914": {
          "model_module": "@jupyter-widgets/controls",
          "model_name": "ProgressStyleModel",
          "model_module_version": "1.5.0",
          "state": {
            "_model_module": "@jupyter-widgets/controls",
            "_model_module_version": "1.5.0",
            "_model_name": "ProgressStyleModel",
            "_view_count": null,
            "_view_module": "@jupyter-widgets/base",
            "_view_module_version": "1.2.0",
            "_view_name": "StyleView",
            "bar_color": null,
            "description_width": ""
          }
        },
        "f0c4ea635fd44315a0625933d5104b81": {
          "model_module": "@jupyter-widgets/base",
          "model_name": "LayoutModel",
          "model_module_version": "1.2.0",
          "state": {
            "_model_module": "@jupyter-widgets/base",
            "_model_module_version": "1.2.0",
            "_model_name": "LayoutModel",
            "_view_count": null,
            "_view_module": "@jupyter-widgets/base",
            "_view_module_version": "1.2.0",
            "_view_name": "LayoutView",
            "align_content": null,
            "align_items": null,
            "align_self": null,
            "border": null,
            "bottom": null,
            "display": null,
            "flex": null,
            "flex_flow": null,
            "grid_area": null,
            "grid_auto_columns": null,
            "grid_auto_flow": null,
            "grid_auto_rows": null,
            "grid_column": null,
            "grid_gap": null,
            "grid_row": null,
            "grid_template_areas": null,
            "grid_template_columns": null,
            "grid_template_rows": null,
            "height": null,
            "justify_content": null,
            "justify_items": null,
            "left": null,
            "margin": null,
            "max_height": null,
            "max_width": null,
            "min_height": null,
            "min_width": null,
            "object_fit": null,
            "object_position": null,
            "order": null,
            "overflow": null,
            "overflow_x": null,
            "overflow_y": null,
            "padding": null,
            "right": null,
            "top": null,
            "visibility": null,
            "width": null
          }
        },
        "f451b5f8d11043b5b1a7c1cca10e1087": {
          "model_module": "@jupyter-widgets/controls",
          "model_name": "DescriptionStyleModel",
          "model_module_version": "1.5.0",
          "state": {
            "_model_module": "@jupyter-widgets/controls",
            "_model_module_version": "1.5.0",
            "_model_name": "DescriptionStyleModel",
            "_view_count": null,
            "_view_module": "@jupyter-widgets/base",
            "_view_module_version": "1.2.0",
            "_view_name": "StyleView",
            "description_width": ""
          }
        },
        "0ffbf8f90f724b019b5ec045ee246e7a": {
          "model_module": "@jupyter-widgets/controls",
          "model_name": "HBoxModel",
          "model_module_version": "1.5.0",
          "state": {
            "_dom_classes": [],
            "_model_module": "@jupyter-widgets/controls",
            "_model_module_version": "1.5.0",
            "_model_name": "HBoxModel",
            "_view_count": null,
            "_view_module": "@jupyter-widgets/controls",
            "_view_module_version": "1.5.0",
            "_view_name": "HBoxView",
            "box_style": "",
            "children": [
              "IPY_MODEL_f7fb38c9960f479eb02ffbd07f53a359",
              "IPY_MODEL_00ce3e909c2c4825be0b24f89bd49f20",
              "IPY_MODEL_5e4c0eb0ab724865b91abdf1802547a7"
            ],
            "layout": "IPY_MODEL_dc3da0dd221841298f63e8bd275401c6"
          }
        },
        "f7fb38c9960f479eb02ffbd07f53a359": {
          "model_module": "@jupyter-widgets/controls",
          "model_name": "HTMLModel",
          "model_module_version": "1.5.0",
          "state": {
            "_dom_classes": [],
            "_model_module": "@jupyter-widgets/controls",
            "_model_module_version": "1.5.0",
            "_model_name": "HTMLModel",
            "_view_count": null,
            "_view_module": "@jupyter-widgets/controls",
            "_view_module_version": "1.5.0",
            "_view_name": "HTMLView",
            "description": "",
            "description_tooltip": null,
            "layout": "IPY_MODEL_4ed7672c8a8844e3944b9e59e45dbb0c",
            "placeholder": "​",
            "style": "IPY_MODEL_928b9a03e9af4104888b7fd90d58218d",
            "value": "Downloading (…)lve/main/config.json: 100%"
          }
        },
        "00ce3e909c2c4825be0b24f89bd49f20": {
          "model_module": "@jupyter-widgets/controls",
          "model_name": "FloatProgressModel",
          "model_module_version": "1.5.0",
          "state": {
            "_dom_classes": [],
            "_model_module": "@jupyter-widgets/controls",
            "_model_module_version": "1.5.0",
            "_model_name": "FloatProgressModel",
            "_view_count": null,
            "_view_module": "@jupyter-widgets/controls",
            "_view_module_version": "1.5.0",
            "_view_name": "ProgressView",
            "bar_style": "success",
            "description": "",
            "description_tooltip": null,
            "layout": "IPY_MODEL_bfafbb9486bf4f8f9cbd70fa0ab962b7",
            "max": 546,
            "min": 0,
            "orientation": "horizontal",
            "style": "IPY_MODEL_749f3f756ec94079928cad4fb0fa1d25",
            "value": 546
          }
        },
        "5e4c0eb0ab724865b91abdf1802547a7": {
          "model_module": "@jupyter-widgets/controls",
          "model_name": "HTMLModel",
          "model_module_version": "1.5.0",
          "state": {
            "_dom_classes": [],
            "_model_module": "@jupyter-widgets/controls",
            "_model_module_version": "1.5.0",
            "_model_name": "HTMLModel",
            "_view_count": null,
            "_view_module": "@jupyter-widgets/controls",
            "_view_module_version": "1.5.0",
            "_view_name": "HTMLView",
            "description": "",
            "description_tooltip": null,
            "layout": "IPY_MODEL_7e25a2816457480498903c606469ec76",
            "placeholder": "​",
            "style": "IPY_MODEL_86cf5a6638454eed839bc1b52181a652",
            "value": " 546/546 [00:00&lt;00:00, 28.5kB/s]"
          }
        },
        "dc3da0dd221841298f63e8bd275401c6": {
          "model_module": "@jupyter-widgets/base",
          "model_name": "LayoutModel",
          "model_module_version": "1.2.0",
          "state": {
            "_model_module": "@jupyter-widgets/base",
            "_model_module_version": "1.2.0",
            "_model_name": "LayoutModel",
            "_view_count": null,
            "_view_module": "@jupyter-widgets/base",
            "_view_module_version": "1.2.0",
            "_view_name": "LayoutView",
            "align_content": null,
            "align_items": null,
            "align_self": null,
            "border": null,
            "bottom": null,
            "display": null,
            "flex": null,
            "flex_flow": null,
            "grid_area": null,
            "grid_auto_columns": null,
            "grid_auto_flow": null,
            "grid_auto_rows": null,
            "grid_column": null,
            "grid_gap": null,
            "grid_row": null,
            "grid_template_areas": null,
            "grid_template_columns": null,
            "grid_template_rows": null,
            "height": null,
            "justify_content": null,
            "justify_items": null,
            "left": null,
            "margin": null,
            "max_height": null,
            "max_width": null,
            "min_height": null,
            "min_width": null,
            "object_fit": null,
            "object_position": null,
            "order": null,
            "overflow": null,
            "overflow_x": null,
            "overflow_y": null,
            "padding": null,
            "right": null,
            "top": null,
            "visibility": null,
            "width": null
          }
        },
        "4ed7672c8a8844e3944b9e59e45dbb0c": {
          "model_module": "@jupyter-widgets/base",
          "model_name": "LayoutModel",
          "model_module_version": "1.2.0",
          "state": {
            "_model_module": "@jupyter-widgets/base",
            "_model_module_version": "1.2.0",
            "_model_name": "LayoutModel",
            "_view_count": null,
            "_view_module": "@jupyter-widgets/base",
            "_view_module_version": "1.2.0",
            "_view_name": "LayoutView",
            "align_content": null,
            "align_items": null,
            "align_self": null,
            "border": null,
            "bottom": null,
            "display": null,
            "flex": null,
            "flex_flow": null,
            "grid_area": null,
            "grid_auto_columns": null,
            "grid_auto_flow": null,
            "grid_auto_rows": null,
            "grid_column": null,
            "grid_gap": null,
            "grid_row": null,
            "grid_template_areas": null,
            "grid_template_columns": null,
            "grid_template_rows": null,
            "height": null,
            "justify_content": null,
            "justify_items": null,
            "left": null,
            "margin": null,
            "max_height": null,
            "max_width": null,
            "min_height": null,
            "min_width": null,
            "object_fit": null,
            "object_position": null,
            "order": null,
            "overflow": null,
            "overflow_x": null,
            "overflow_y": null,
            "padding": null,
            "right": null,
            "top": null,
            "visibility": null,
            "width": null
          }
        },
        "928b9a03e9af4104888b7fd90d58218d": {
          "model_module": "@jupyter-widgets/controls",
          "model_name": "DescriptionStyleModel",
          "model_module_version": "1.5.0",
          "state": {
            "_model_module": "@jupyter-widgets/controls",
            "_model_module_version": "1.5.0",
            "_model_name": "DescriptionStyleModel",
            "_view_count": null,
            "_view_module": "@jupyter-widgets/base",
            "_view_module_version": "1.2.0",
            "_view_name": "StyleView",
            "description_width": ""
          }
        },
        "bfafbb9486bf4f8f9cbd70fa0ab962b7": {
          "model_module": "@jupyter-widgets/base",
          "model_name": "LayoutModel",
          "model_module_version": "1.2.0",
          "state": {
            "_model_module": "@jupyter-widgets/base",
            "_model_module_version": "1.2.0",
            "_model_name": "LayoutModel",
            "_view_count": null,
            "_view_module": "@jupyter-widgets/base",
            "_view_module_version": "1.2.0",
            "_view_name": "LayoutView",
            "align_content": null,
            "align_items": null,
            "align_self": null,
            "border": null,
            "bottom": null,
            "display": null,
            "flex": null,
            "flex_flow": null,
            "grid_area": null,
            "grid_auto_columns": null,
            "grid_auto_flow": null,
            "grid_auto_rows": null,
            "grid_column": null,
            "grid_gap": null,
            "grid_row": null,
            "grid_template_areas": null,
            "grid_template_columns": null,
            "grid_template_rows": null,
            "height": null,
            "justify_content": null,
            "justify_items": null,
            "left": null,
            "margin": null,
            "max_height": null,
            "max_width": null,
            "min_height": null,
            "min_width": null,
            "object_fit": null,
            "object_position": null,
            "order": null,
            "overflow": null,
            "overflow_x": null,
            "overflow_y": null,
            "padding": null,
            "right": null,
            "top": null,
            "visibility": null,
            "width": null
          }
        },
        "749f3f756ec94079928cad4fb0fa1d25": {
          "model_module": "@jupyter-widgets/controls",
          "model_name": "ProgressStyleModel",
          "model_module_version": "1.5.0",
          "state": {
            "_model_module": "@jupyter-widgets/controls",
            "_model_module_version": "1.5.0",
            "_model_name": "ProgressStyleModel",
            "_view_count": null,
            "_view_module": "@jupyter-widgets/base",
            "_view_module_version": "1.2.0",
            "_view_name": "StyleView",
            "bar_color": null,
            "description_width": ""
          }
        },
        "7e25a2816457480498903c606469ec76": {
          "model_module": "@jupyter-widgets/base",
          "model_name": "LayoutModel",
          "model_module_version": "1.2.0",
          "state": {
            "_model_module": "@jupyter-widgets/base",
            "_model_module_version": "1.2.0",
            "_model_name": "LayoutModel",
            "_view_count": null,
            "_view_module": "@jupyter-widgets/base",
            "_view_module_version": "1.2.0",
            "_view_name": "LayoutView",
            "align_content": null,
            "align_items": null,
            "align_self": null,
            "border": null,
            "bottom": null,
            "display": null,
            "flex": null,
            "flex_flow": null,
            "grid_area": null,
            "grid_auto_columns": null,
            "grid_auto_flow": null,
            "grid_auto_rows": null,
            "grid_column": null,
            "grid_gap": null,
            "grid_row": null,
            "grid_template_areas": null,
            "grid_template_columns": null,
            "grid_template_rows": null,
            "height": null,
            "justify_content": null,
            "justify_items": null,
            "left": null,
            "margin": null,
            "max_height": null,
            "max_width": null,
            "min_height": null,
            "min_width": null,
            "object_fit": null,
            "object_position": null,
            "order": null,
            "overflow": null,
            "overflow_x": null,
            "overflow_y": null,
            "padding": null,
            "right": null,
            "top": null,
            "visibility": null,
            "width": null
          }
        },
        "86cf5a6638454eed839bc1b52181a652": {
          "model_module": "@jupyter-widgets/controls",
          "model_name": "DescriptionStyleModel",
          "model_module_version": "1.5.0",
          "state": {
            "_model_module": "@jupyter-widgets/controls",
            "_model_module_version": "1.5.0",
            "_model_name": "DescriptionStyleModel",
            "_view_count": null,
            "_view_module": "@jupyter-widgets/base",
            "_view_module_version": "1.2.0",
            "_view_name": "StyleView",
            "description_width": ""
          }
        },
        "90fa7d412f5943acaa9f0434778170ef": {
          "model_module": "@jupyter-widgets/controls",
          "model_name": "HBoxModel",
          "model_module_version": "1.5.0",
          "state": {
            "_dom_classes": [],
            "_model_module": "@jupyter-widgets/controls",
            "_model_module_version": "1.5.0",
            "_model_name": "HBoxModel",
            "_view_count": null,
            "_view_module": "@jupyter-widgets/controls",
            "_view_module_version": "1.5.0",
            "_view_name": "HBoxView",
            "box_style": "",
            "children": [
              "IPY_MODEL_103190c898844b05bff99bd18fec37b6",
              "IPY_MODEL_95d4bfab5b97470386d861cf89fef694",
              "IPY_MODEL_3717161877b94caa9824ad8fab59b049"
            ],
            "layout": "IPY_MODEL_f6057b3837fb4428b0825f9a5222dbe2"
          }
        },
        "103190c898844b05bff99bd18fec37b6": {
          "model_module": "@jupyter-widgets/controls",
          "model_name": "HTMLModel",
          "model_module_version": "1.5.0",
          "state": {
            "_dom_classes": [],
            "_model_module": "@jupyter-widgets/controls",
            "_model_module_version": "1.5.0",
            "_model_name": "HTMLModel",
            "_view_count": null,
            "_view_module": "@jupyter-widgets/controls",
            "_view_module_version": "1.5.0",
            "_view_name": "HTMLView",
            "description": "",
            "description_tooltip": null,
            "layout": "IPY_MODEL_81d92ad2a5704788869553432b65329b",
            "placeholder": "​",
            "style": "IPY_MODEL_2d5ef76d6641455b8bbc5297f07e7a19",
            "value": "Downloading (…)&quot;pytorch_model.bin&quot;;: 100%"
          }
        },
        "95d4bfab5b97470386d861cf89fef694": {
          "model_module": "@jupyter-widgets/controls",
          "model_name": "FloatProgressModel",
          "model_module_version": "1.5.0",
          "state": {
            "_dom_classes": [],
            "_model_module": "@jupyter-widgets/controls",
            "_model_module_version": "1.5.0",
            "_model_name": "FloatProgressModel",
            "_view_count": null,
            "_view_module": "@jupyter-widgets/controls",
            "_view_module_version": "1.5.0",
            "_view_name": "ProgressView",
            "bar_style": "success",
            "description": "",
            "description_tooltip": null,
            "layout": "IPY_MODEL_2ae5690377fb491f95fb7ba6fbad2f2f",
            "max": 442694866,
            "min": 0,
            "orientation": "horizontal",
            "style": "IPY_MODEL_ed751ed7ceb84d308d73f5e8f6da5732",
            "value": 442694866
          }
        },
        "3717161877b94caa9824ad8fab59b049": {
          "model_module": "@jupyter-widgets/controls",
          "model_name": "HTMLModel",
          "model_module_version": "1.5.0",
          "state": {
            "_dom_classes": [],
            "_model_module": "@jupyter-widgets/controls",
            "_model_module_version": "1.5.0",
            "_model_name": "HTMLModel",
            "_view_count": null,
            "_view_module": "@jupyter-widgets/controls",
            "_view_module_version": "1.5.0",
            "_view_name": "HTMLView",
            "description": "",
            "description_tooltip": null,
            "layout": "IPY_MODEL_2eb3bf102d4f4afbb556561f8abdf9a8",
            "placeholder": "​",
            "style": "IPY_MODEL_bab44a13b4c3442bb3c9492024e9494a",
            "value": " 443M/443M [00:32&lt;00:00, 19.8MB/s]"
          }
        },
        "f6057b3837fb4428b0825f9a5222dbe2": {
          "model_module": "@jupyter-widgets/base",
          "model_name": "LayoutModel",
          "model_module_version": "1.2.0",
          "state": {
            "_model_module": "@jupyter-widgets/base",
            "_model_module_version": "1.2.0",
            "_model_name": "LayoutModel",
            "_view_count": null,
            "_view_module": "@jupyter-widgets/base",
            "_view_module_version": "1.2.0",
            "_view_name": "LayoutView",
            "align_content": null,
            "align_items": null,
            "align_self": null,
            "border": null,
            "bottom": null,
            "display": null,
            "flex": null,
            "flex_flow": null,
            "grid_area": null,
            "grid_auto_columns": null,
            "grid_auto_flow": null,
            "grid_auto_rows": null,
            "grid_column": null,
            "grid_gap": null,
            "grid_row": null,
            "grid_template_areas": null,
            "grid_template_columns": null,
            "grid_template_rows": null,
            "height": null,
            "justify_content": null,
            "justify_items": null,
            "left": null,
            "margin": null,
            "max_height": null,
            "max_width": null,
            "min_height": null,
            "min_width": null,
            "object_fit": null,
            "object_position": null,
            "order": null,
            "overflow": null,
            "overflow_x": null,
            "overflow_y": null,
            "padding": null,
            "right": null,
            "top": null,
            "visibility": null,
            "width": null
          }
        },
        "81d92ad2a5704788869553432b65329b": {
          "model_module": "@jupyter-widgets/base",
          "model_name": "LayoutModel",
          "model_module_version": "1.2.0",
          "state": {
            "_model_module": "@jupyter-widgets/base",
            "_model_module_version": "1.2.0",
            "_model_name": "LayoutModel",
            "_view_count": null,
            "_view_module": "@jupyter-widgets/base",
            "_view_module_version": "1.2.0",
            "_view_name": "LayoutView",
            "align_content": null,
            "align_items": null,
            "align_self": null,
            "border": null,
            "bottom": null,
            "display": null,
            "flex": null,
            "flex_flow": null,
            "grid_area": null,
            "grid_auto_columns": null,
            "grid_auto_flow": null,
            "grid_auto_rows": null,
            "grid_column": null,
            "grid_gap": null,
            "grid_row": null,
            "grid_template_areas": null,
            "grid_template_columns": null,
            "grid_template_rows": null,
            "height": null,
            "justify_content": null,
            "justify_items": null,
            "left": null,
            "margin": null,
            "max_height": null,
            "max_width": null,
            "min_height": null,
            "min_width": null,
            "object_fit": null,
            "object_position": null,
            "order": null,
            "overflow": null,
            "overflow_x": null,
            "overflow_y": null,
            "padding": null,
            "right": null,
            "top": null,
            "visibility": null,
            "width": null
          }
        },
        "2d5ef76d6641455b8bbc5297f07e7a19": {
          "model_module": "@jupyter-widgets/controls",
          "model_name": "DescriptionStyleModel",
          "model_module_version": "1.5.0",
          "state": {
            "_model_module": "@jupyter-widgets/controls",
            "_model_module_version": "1.5.0",
            "_model_name": "DescriptionStyleModel",
            "_view_count": null,
            "_view_module": "@jupyter-widgets/base",
            "_view_module_version": "1.2.0",
            "_view_name": "StyleView",
            "description_width": ""
          }
        },
        "2ae5690377fb491f95fb7ba6fbad2f2f": {
          "model_module": "@jupyter-widgets/base",
          "model_name": "LayoutModel",
          "model_module_version": "1.2.0",
          "state": {
            "_model_module": "@jupyter-widgets/base",
            "_model_module_version": "1.2.0",
            "_model_name": "LayoutModel",
            "_view_count": null,
            "_view_module": "@jupyter-widgets/base",
            "_view_module_version": "1.2.0",
            "_view_name": "LayoutView",
            "align_content": null,
            "align_items": null,
            "align_self": null,
            "border": null,
            "bottom": null,
            "display": null,
            "flex": null,
            "flex_flow": null,
            "grid_area": null,
            "grid_auto_columns": null,
            "grid_auto_flow": null,
            "grid_auto_rows": null,
            "grid_column": null,
            "grid_gap": null,
            "grid_row": null,
            "grid_template_areas": null,
            "grid_template_columns": null,
            "grid_template_rows": null,
            "height": null,
            "justify_content": null,
            "justify_items": null,
            "left": null,
            "margin": null,
            "max_height": null,
            "max_width": null,
            "min_height": null,
            "min_width": null,
            "object_fit": null,
            "object_position": null,
            "order": null,
            "overflow": null,
            "overflow_x": null,
            "overflow_y": null,
            "padding": null,
            "right": null,
            "top": null,
            "visibility": null,
            "width": null
          }
        },
        "ed751ed7ceb84d308d73f5e8f6da5732": {
          "model_module": "@jupyter-widgets/controls",
          "model_name": "ProgressStyleModel",
          "model_module_version": "1.5.0",
          "state": {
            "_model_module": "@jupyter-widgets/controls",
            "_model_module_version": "1.5.0",
            "_model_name": "ProgressStyleModel",
            "_view_count": null,
            "_view_module": "@jupyter-widgets/base",
            "_view_module_version": "1.2.0",
            "_view_name": "StyleView",
            "bar_color": null,
            "description_width": ""
          }
        },
        "2eb3bf102d4f4afbb556561f8abdf9a8": {
          "model_module": "@jupyter-widgets/base",
          "model_name": "LayoutModel",
          "model_module_version": "1.2.0",
          "state": {
            "_model_module": "@jupyter-widgets/base",
            "_model_module_version": "1.2.0",
            "_model_name": "LayoutModel",
            "_view_count": null,
            "_view_module": "@jupyter-widgets/base",
            "_view_module_version": "1.2.0",
            "_view_name": "LayoutView",
            "align_content": null,
            "align_items": null,
            "align_self": null,
            "border": null,
            "bottom": null,
            "display": null,
            "flex": null,
            "flex_flow": null,
            "grid_area": null,
            "grid_auto_columns": null,
            "grid_auto_flow": null,
            "grid_auto_rows": null,
            "grid_column": null,
            "grid_gap": null,
            "grid_row": null,
            "grid_template_areas": null,
            "grid_template_columns": null,
            "grid_template_rows": null,
            "height": null,
            "justify_content": null,
            "justify_items": null,
            "left": null,
            "margin": null,
            "max_height": null,
            "max_width": null,
            "min_height": null,
            "min_width": null,
            "object_fit": null,
            "object_position": null,
            "order": null,
            "overflow": null,
            "overflow_x": null,
            "overflow_y": null,
            "padding": null,
            "right": null,
            "top": null,
            "visibility": null,
            "width": null
          }
        },
        "bab44a13b4c3442bb3c9492024e9494a": {
          "model_module": "@jupyter-widgets/controls",
          "model_name": "DescriptionStyleModel",
          "model_module_version": "1.5.0",
          "state": {
            "_model_module": "@jupyter-widgets/controls",
            "_model_module_version": "1.5.0",
            "_model_name": "DescriptionStyleModel",
            "_view_count": null,
            "_view_module": "@jupyter-widgets/base",
            "_view_module_version": "1.2.0",
            "_view_name": "StyleView",
            "description_width": ""
          }
        }
      }
    },
    "accelerator": "GPU",
    "gpuClass": "premium"
  },
  "cells": [
    {
      "cell_type": "markdown",
      "metadata": {
        "id": "view-in-github",
        "colab_type": "text"
      },
      "source": [
        "<a href=\"https://colab.research.google.com/github/jx-dohwan/BERT-FP_MRS/blob/main/fine_tuning/fine_tuning.ipynb\" target=\"_parent\"><img src=\"https://colab.research.google.com/assets/colab-badge.svg\" alt=\"Open In Colab\"/></a>"
      ]
    },
    {
      "cell_type": "markdown",
      "source": [
        "# fine-tuning"
      ],
      "metadata": {
        "id": "9OwEcL8qCDXm"
      }
    },
    {
      "cell_type": "code",
      "source": [
        "\n",
        "!pip install torch\n",
        "!pip install transformers==4.25.1"
      ],
      "metadata": {
        "colab": {
          "base_uri": "https://localhost:8080/"
        },
        "id": "U5HeoABfCjyN",
        "outputId": "ce8da50e-a82a-4666-d411-f21811d653fb"
      },
      "execution_count": 1,
      "outputs": [
        {
          "output_type": "stream",
          "name": "stdout",
          "text": [
            "Looking in indexes: https://pypi.org/simple, https://us-python.pkg.dev/colab-wheels/public/simple/\n",
            "Requirement already satisfied: torch in /usr/local/lib/python3.8/dist-packages (1.13.1+cu116)\n",
            "Requirement already satisfied: typing-extensions in /usr/local/lib/python3.8/dist-packages (from torch) (4.4.0)\n",
            "Looking in indexes: https://pypi.org/simple, https://us-python.pkg.dev/colab-wheels/public/simple/\n",
            "Collecting transformers==4.25.1\n",
            "  Downloading transformers-4.25.1-py3-none-any.whl (5.8 MB)\n",
            "\u001b[2K     \u001b[90m━━━━━━━━━━━━━━━━━━━━━━━━━━━━━━━━━━━━━━━━\u001b[0m \u001b[32m5.8/5.8 MB\u001b[0m \u001b[31m46.3 MB/s\u001b[0m eta \u001b[36m0:00:00\u001b[0m\n",
            "\u001b[?25hRequirement already satisfied: packaging>=20.0 in /usr/local/lib/python3.8/dist-packages (from transformers==4.25.1) (23.0)\n",
            "Requirement already satisfied: regex!=2019.12.17 in /usr/local/lib/python3.8/dist-packages (from transformers==4.25.1) (2022.6.2)\n",
            "Requirement already satisfied: tqdm>=4.27 in /usr/local/lib/python3.8/dist-packages (from transformers==4.25.1) (4.64.1)\n",
            "Requirement already satisfied: numpy>=1.17 in /usr/local/lib/python3.8/dist-packages (from transformers==4.25.1) (1.21.6)\n",
            "Requirement already satisfied: pyyaml>=5.1 in /usr/local/lib/python3.8/dist-packages (from transformers==4.25.1) (6.0)\n",
            "Collecting tokenizers!=0.11.3,<0.14,>=0.11.1\n",
            "  Downloading tokenizers-0.13.2-cp38-cp38-manylinux_2_17_x86_64.manylinux2014_x86_64.whl (7.6 MB)\n",
            "\u001b[2K     \u001b[90m━━━━━━━━━━━━━━━━━━━━━━━━━━━━━━━━━━━━━━━━\u001b[0m \u001b[32m7.6/7.6 MB\u001b[0m \u001b[31m103.8 MB/s\u001b[0m eta \u001b[36m0:00:00\u001b[0m\n",
            "\u001b[?25hRequirement already satisfied: filelock in /usr/local/lib/python3.8/dist-packages (from transformers==4.25.1) (3.9.0)\n",
            "Requirement already satisfied: requests in /usr/local/lib/python3.8/dist-packages (from transformers==4.25.1) (2.25.1)\n",
            "Collecting huggingface-hub<1.0,>=0.10.0\n",
            "  Downloading huggingface_hub-0.12.0-py3-none-any.whl (190 kB)\n",
            "\u001b[2K     \u001b[90m━━━━━━━━━━━━━━━━━━━━━━━━━━━━━━━━━━━━━━\u001b[0m \u001b[32m190.3/190.3 KB\u001b[0m \u001b[31m24.1 MB/s\u001b[0m eta \u001b[36m0:00:00\u001b[0m\n",
            "\u001b[?25hRequirement already satisfied: typing-extensions>=3.7.4.3 in /usr/local/lib/python3.8/dist-packages (from huggingface-hub<1.0,>=0.10.0->transformers==4.25.1) (4.4.0)\n",
            "Requirement already satisfied: chardet<5,>=3.0.2 in /usr/local/lib/python3.8/dist-packages (from requests->transformers==4.25.1) (4.0.0)\n",
            "Requirement already satisfied: idna<3,>=2.5 in /usr/local/lib/python3.8/dist-packages (from requests->transformers==4.25.1) (2.10)\n",
            "Requirement already satisfied: urllib3<1.27,>=1.21.1 in /usr/local/lib/python3.8/dist-packages (from requests->transformers==4.25.1) (1.24.3)\n",
            "Requirement already satisfied: certifi>=2017.4.17 in /usr/local/lib/python3.8/dist-packages (from requests->transformers==4.25.1) (2022.12.7)\n",
            "Installing collected packages: tokenizers, huggingface-hub, transformers\n",
            "Successfully installed huggingface-hub-0.12.0 tokenizers-0.13.2 transformers-4.25.1\n"
          ]
        }
      ]
    },
    {
      "cell_type": "code",
      "source": [
        "\n",
        "!git clone https://github.com/smilegate-ai/korean_smile_style_dataset\n",
        "# https://corpus.korean.go.kr/\n",
        "# https://aihub.or.kr/aihub-data/natural-language/about\n",
        "     "
      ],
      "metadata": {
        "colab": {
          "base_uri": "https://localhost:8080/"
        },
        "id": "LjErn3B3Cmsg",
        "outputId": "46c3945d-61b9-49fd-a7b0-f67b9d7c3eb4"
      },
      "execution_count": 2,
      "outputs": [
        {
          "output_type": "stream",
          "name": "stdout",
          "text": [
            "Cloning into 'korean_smile_style_dataset'...\n",
            "remote: Enumerating objects: 81, done.\u001b[K\n",
            "remote: Counting objects: 100% (81/81), done.\u001b[K\n",
            "remote: Compressing objects: 100% (77/77), done.\u001b[K\n",
            "remote: Total 81 (delta 21), reused 0 (delta 0), pack-reused 0\u001b[K\n",
            "Unpacking objects: 100% (81/81), 2.57 MiB | 4.67 MiB/s, done.\n"
          ]
        }
      ]
    },
    {
      "cell_type": "code",
      "source": [
        "import pandas as pd\n",
        "df = pd.read_csv('/content/korean_smile_style_dataset/smilestyle_dataset.tsv', sep='\\t')\n",
        "df.to_csv('./korean_smile_style_dataset/smile.csv', index=False)"
      ],
      "metadata": {
        "id": "nJ5zmyz-CpeE"
      },
      "execution_count": 3,
      "outputs": []
    },
    {
      "cell_type": "code",
      "source": [
        "!mv /content/korean_smile_style_dataset/smile.csv /content/drive/MyDrive/인공지능/멀티턴응답선택/korean_smile_style_dataset"
      ],
      "metadata": {
        "id": "BbkfAh1wC0X2"
      },
      "execution_count": 4,
      "outputs": []
    },
    {
      "cell_type": "markdown",
      "source": [
        "## 학습/검증 분할하기|"
      ],
      "metadata": {
        "id": "b8qyq1fpCFvl"
      }
    },
    {
      "cell_type": "code",
      "execution_count": 5,
      "metadata": {
        "id": "0S040Vb4Bb0U"
      },
      "outputs": [],
      "source": [
        "import csv\n",
        "f = open('/content/drive/MyDrive/인공지능/멀티턴응답선택/korean_smile_style_dataset/smile.csv', 'r')\n",
        "rdr = csv.reader(f)\n",
        "\n",
        "\"\"\" 세션 데이터 저장할 것 \"\"\"\n",
        "session_dataset = []\n",
        "session = []\n",
        "all_utts = []\n",
        "\n",
        "\"\"\" 실제 데이터 저장 방식 \"\"\"\n",
        "for i, line in enumerate(rdr):\n",
        "    if i == 0:\n",
        "        header = line\n",
        "    else:\n",
        "        utt = line[0]\n",
        "        if utt.strip() != '':\n",
        "            all_utts.append(utt)\n",
        "            session.append(utt)\n",
        "        else:\n",
        "            \"\"\" 세션 데이터 저장 \"\"\"\n",
        "            session_dataset.append(session)\n",
        "            session = []\n",
        "\"\"\" 마지막 세션 저장 \"\"\"\n",
        "session_dataset.append(session)\n",
        "f.close()"
      ]
    },
    {
      "cell_type": "code",
      "source": [
        "!head -20 /content/drive/MyDrive/인공지능/멀티턴응답선택/korean_smile_style_dataset/smile.csv"
      ],
      "metadata": {
        "colab": {
          "base_uri": "https://localhost:8080/"
        },
        "id": "IHj6PLbnDnRa",
        "outputId": "3cf9db2e-9407-4646-82ab-3678ed8c5617"
      },
      "execution_count": 6,
      "outputs": [
        {
          "output_type": "stream",
          "name": "stdout",
          "text": [
            "formal,informal,android,azae,chat,choding,emoticon,enfp,gentle,halbae,halmae,joongding,king,naruto,seonbi,sosim,translator\n",
            "안녕하세요. 저는 고양이 6마리 키워요.,안녕! 나는 고양이 6마리 키워.,휴먼. 반갑다. 안드로이드는. 고양이. 6마리. 소유중.,아이고 안녕하십니까~ 나는 그냥 고양이 6마리 키우고 있는 사람이여,하잉ㅋㅋ 나 떼걸룩 6마리 키운다!,ㅎㅇ 나 주인님 6마리 모심 ㅋㅋ,안녕!! >< 나는 고양이😺를 ➏ 마리 키우고있어!! 0_0,안녕안녕~! 나 고양이 6마리나 키운다? 완전 대박이징~,\"안녕하십니까,, 저는 고양이 6마리 키웁니다.\",안녕하신가~... 난 지금 고양이를 6마리 키우고 있다네,하유 시벌것 괭이놈 6마리 키우는데 힘들어 죽겟네,안녕하냐 ㅡㅡ 나 씹냥이 6마리나 키운다 하;,반갑소. 짐은 고양이를 6마리나 키우오.,안녕하냐니깐! 난 고양이를 6마리 키우고있다니깐!,안녕하시오! 소인은 고양이를 6마리 키우고 있소!,안녕… 난 고양이 6마리 키워 ㅠㅠ,반가운. 나는 6마리의 고양이를 소지하고 있다.\n",
            "고양이를 6마리나요? 키우는거 안 힘드세요?,고양이를 6마리나? 키우는거 안 힘들어?,고양이. 6마리. 양육. 번거로운가.,아니 무슨 고양이를 6마리나? 거 키우는 거 안 힘든가?,엥? 6마리나? 안힘듬?ㅋㅋㅋㅋ,6마리? 에바아니냐 안 힘듦?,고양이를 6마리나?!! w(ﾟДﾟ)w 키우는거 안 힘듬?? (⊙_⊙;),고양이를 6마리나? 완전 대박~ 키우는 거 안 힘들어?!,\"고양이를 6마리나 키우십니까? 안 힘드신지,,\",고양이를 6마리나? 키우는거 힘들지 않는가?,니기럴 털만 날리는 거 키우기 안 힘들데?,아니 고양이를 6마리나? 안힘드냐?,고양이를 6마리나? 키우는게 수고스럽진 않소?,고양이를 6마리나? 키우는거 힘들지 않냐니깐?,고양이를 6마리나 키우고 있는 것이오? 힘들지 않소?,고양이..6마리나? ㅠ 키우는건 혹시 안힘들어..?,6마리의 고양이? 당신은 그들로부터 지치지 않습니까?\n",
            "제가 워낙 고양이를 좋아해서 크게 힘들진 않아요.,내가 워낙 고양이를 좋아해서 크게 힘들진 않아.,안드로이드. 고양이. 선호. 힘들지. 않음.,내가 또 워~낙에 고양이를 좋아해서 크게 뭐 힘들진 않고,내가 고양이 좋아해서 딱히 안힘듬 ㅋㅋㅋ,ㄱㅊ 나 고양이 환장해서 힘든 것도 모름,뭐 나야 워낙에 고양이 좋아하니까 딱히 안힘드엉! \\(@^0^@)/,내가 또 워~낙에 고양이를 좋아하잖아~ 그렇게 크~게 힘들진 않아 ㅎㅎ~,제가 워낙 고양이를 좋아해서 크게 힘들진 않습니다.,내가 워낙에...고양이가 좋아가지고 그렇게 힘들지 않어...^^,옘병 내가 좋아하니까 키워야지 시벌것,고양이 좋아한다고ㅡㅡ 1도 안힘듬 ㅡㅡ,과인은 고양이를 어여삐 어겨 그리 수고스럽진 않소,내가 고양이를 엄청 좋아해서 별로 힘들지 않다니깐!,소인 고양이를 엄청 좋아하기 때문에 별로 힘들지 않소이다.,내가 고양이 워낙 좋아해서..ㅠㅠ 크게 힘들진 않은 것 같아..,나는 고양이의 큰 애호가. 지치지 않는다.\n",
            "가장 나이가 많은 고양이가 어떻게 돼요?,가장 나이가 많은 고양이가 몇 살이야?,제일. 나이많은. 고양이. 나이. 무엇.,그려 가장 나이가 많은 고양이가 몇살이여?,가장 나이 먹은 고양이가 몇살이야?,젤 낡은 고영희가 몇 살임?,가장 나이 먹은 고양인 몇 살이양? (´･ω･`)?,대박대박 완전 대박!! 그럼 제~일 나이 많은 고양이는 몇살이야~?!,가장 나이가 있는 고양이가 몇살입니까?,고양이들 중에서…가장 나이 먹을 애가 몇살인가?...,거 젤 빨리 뒤질 놈이 나이 얼마나 쳐먹었냐,가장 늙은애가 몇살인데,최고령 고양이의 나이는 어떻게 되는가?,가장 나이 많이 먹은 고양이가 몇 살 이냐니깐?!,나이를 가장 많이 먹은 고양이가 몇 살이오?,혹시.. 제일 나이 많은 고양이는.. 몇살이야..?ㅠ,가장 늙은 고양이가 몇 년입니까?\n",
            "여섯 살입니다. 갈색 고양이에요.,여섯 살이야. 갈색 고양이지.,고양이. 갈색. 여섯살.,6살인데 갈색 고양이 있어~,이제 여섯살이고 갈색고양이임!,\"6살, 갈색임\",여설 살!! ㄱ^o^/ 색깔은 갈색! O(*￣▽￣*)ブ,\"6살인 애 있는데, 완전 귀.여.워. 갈색 고양이야 진짜 대박이지?\",6살된 갈색 아이가 있습니다.,저…갈색 고양이인데…여섯살이지~..,저 노망난 갈색놈이 6살 뒤룩뒤룩 쳐먹은 놈이여,여섯살 갈색냥인데 왜,여섯 살이오. 갈색 고양이오.,갈색 고양이가 여섯살이라니깐!,여섯 살에 갈색 고양이오,여섯살이야.. 갈색 ㅠㅠ 고양이야..ㅠ,여섯. 고양이는 갈색이다.\n",
            "그럼 가장 어린 고양이가 어떻게 돼요?,그럼 가장 어린 고양이는?,제일. 나이어린. 고양이. 나이. 무엇.,그럼 그 가장 어린 고양이는?,그럼 가장 애기인 고양이는 몇살이야?,그럼 가장 아깽이는?,그럼 가장 애기인 고양이는?? (⊙_⊙)？,대박! 완전 귀엽겠다~!! 그럼 제~일 나이 적은 애는?! 몇살이야??,그럼 가장 어린 고양이는 나이가 어떻게 됩니까?,그럼 제일 어린 고양이는 몇살인겐가?...,새파랗게 어린놈은 얼마나 쳐먹었는데?,제일 어린애는 몇살?,허면 가장 어린 고양이는 어떻게 되는가?,그럼 가장 나이 어린 고양이는 몇살이냐니깐?,그럼 가장 어린 고양이는 몇 살인 것이오?,혹시.. 제일 나이 어린 고양이는..ㅠㅠ 몇살이야..?,가장 젊은 고양이는 어떤?\n",
            "한 살입니다. 작년에 분양 받았어요.,한 살이야. 작년에 분양 받았어.,한살. 분양시기는. 작년.,그 작년에 분양 받은 1살 있지~,작년에 분양 받았는데 1살이야!,1살 ㅋㅋ 작년에 분양 받음,한살~! (ﾉ*ФωФ)ﾉ 작년 분양 받았지롱~^0^,1살 완전 대박이지~!! 작년에 분양 받았어 진짜 너무 귀여워~!,1살 짜리 아이도 있습니다. 작년에 분양 받았지요.,한 살이지~….작년에…분양 받았어~…,1살 먹은 염병할 놈 저거 작년에 분양 받았어,1살이고 작년에 데려옴,한살이오. 작년에 분양을 받게 되었소.,한 살이고. 작년에 분양 받았다니깐!,한 살인데 작년에 분양 받았소.,한살이야 ㅠ 작년에 분양 받았어..,일년. 작년에 적용했다.\n",
            "그럼 고양이들끼리 안 싸우나요?,고양이들끼리 안 싸워?,고양이. 끼리. 다툼. 없는가.,그럼 그거 고양이끼린 안 싸우나?,냥이들끼리 안 싸움?,고앵이들끼리 안 싸움?,고양인끼린 안싸웡? ＼（〇_ｏ）／,\"하유~ 귀요미들~ 혹시 그럼,, 고양이들끼린 안 싸워?!\",고양이들끼리 다투진 않나요?,고양이들은 서로…싸우거나…그러지 않나?..,그 염병할 자식들끼린 안 싸운다냐?,고양이들 맨날 싸우겠네 ㅋ,허면 고양이들끼리 다툼이 있지는 않은가?,고양이들끼리 싸우지 않냐니깐!,고양이들끼리 싸우거나 그러지는 않소?,혹시.. 고양이들끼리 싸우지는..않아? ㅠ,고양이들은 서로 결투?\n",
            "저희 일곱은 다같이 한 가족입니다. 싸우는 일은 없어요.,우리일곱은 다같이 한 가족이야. 싸우는 일은 없어.,우리일곱. 다같이 한가족. 싸우는일. 없음.,아잇 우리 일곱명은 다같이 한 가족이지 가족! 싸우는 일은 읎어~,우리 일곱은 다 한 가족이라서 싸울 일이 없어,응~ 절대 안 싸워 7-1=0 진리지,우리 일곱은 다같이 한 가족이야~:D. 싸우는 일 따윈 업쉉~o((>ω< ))o,당연 당연!! 우리 일곱은 다같이 한 가족인걸?! ,\"저희 일곱은 다같이 한 가족이라,, 싸우는 일은 없네요 ㅎㅎ\",우리 일곱은 다~같이…가족이라서..싸우는 일이 없네 그려…허허…,\"이런 개나리 쌍화차에 끓여먹을,, 우린 가 족같은 사이여가지고 싸우면 내 손에 다 디져 그럴 일 읎어야\",우리 다같이 한식군데 싸우긴 뭘 싸움 ㅡㅡ,우리 일곱은 다같이 한 가족과 같소. 싸우는 일은 없소.,우리 일곱은 다 한 간족이라 싸우는 일이 없다니깐!,우리 일곱은 다같이 한 가족이라. 싸우는 일이 없는 것이오!,우리 일곱은 다같이 한가족이라..ㅠㅠ 싸우는 일은 없는 것 같아 ㅠ,우리 가족은 칠. 낮은 다툼의 빈도.\n",
            ",,,,,,,,,,,,,,,,\n",
            "나이가 어떻게 되시는데요?,몇 살이야?,휴먼. 나이. 무엇.,거 나이가 어떻게 되나?,몇 살임?,몇살임?,몇 살이야???? (´･ω･`)?,올해 몇살이양~?!?,\"실례가 안된다면,, 나이가 어떻게 되시나요?\",몇 살이신가?....,이 새끼 이거 몇살이여?,나이몇개?,춘추가 어떻게 되는가?,몇 살이냐니깐!,몇 살인 것이오?,혹시.. 몇살이야..?ㅠ,당신은 몇 년?\n",
            "올해로 열일곱 입니다.,올해로 열일곱이야.,올해. 열일곱.,올해로 열일곱됐지 그래,올해 열일곱이야,나? 올해 열일곱,올해로 열일곱~（￣︶￣）↗　,올해로 열일곱이야!! ^^~,올해로 열일곱 되었습니다.,올해로 열일곱이지~….,올해로 열일곱 쳐먹었다,17인데 왜,금년 열 일곱일세.,올해 열일곱이라니깐!,올해로 열일곱인것이오!,올해 열일곱인데..ㅠㅠ,이번 해는 십칠.\n",
            "그럼 고등학교 1학년이겠네요.,그럼 고등학교 1학년이겠네.,고등학교. 1학년으로. 귀결.,아이고 그럼 고등학교 1학년인가?,그럼 고1이네?,아 ㄹㅇ? 고1?,고럼 고1이겠네! ( •̀ ω •́ )✧,헐헐 대박 그럼 고1이겟넹~! 완전 귀여워!!,그럼 고등학교 1학년이시겠네요.,그럼 고1이겠네~….,아유 니미럴 핏덩이네 고등학교 1학년인갑제?,고1?,허면 고등학교 일학년이란 말인가?,그럼 고1이겠다니깐!,그럼 고등학교 1학년인 것이겠소.,그럼 혹시 고등학교 1학년이야..? ㅠ,당신은 높은 학교에서 1년.\n",
            "네 맞아요.,맞아.,맞다.,그치그치~,ㅇㅇ 맞음,ㅇㅇ,맞어유~╰(*°▽°*)╯,마장마장~!,네 그렇습니다.,맞네~….,염병,ㅇ,그렇소,그렇다니깐!,그렇소!,응..,그런.\n",
            "장래희망이 어떻게 되세요?,장래희망이 어떻게 돼?,장래희망. 무엇인가.,그럼 그 꿈은 뭐 있나?,장래희망은 뭐야?,커서 뭐할거냐?,장래희망이 뭐야? (+_+)?,그럼 막 꿈 이런거는 뭐야뭐야???!,장래희망이 있습니까?,장래희망이 뭔가?...,나중에 뭐해 쳐먹고 살래?,커서 뭐할거냐,장래에 목표하는 바가 있는가?,장래희망이 뭐냐니깐!,장래희망은 무엇이오?,장래희망은 혹시 뭐야 그럼..?,미래 직업?\n",
            "저는 외교관 되는게 꿈이에요.,난 외교관이 되는게 꿈이야.,외교관. 되기가. 꿈.,외교관 되는 게 꿈이지 뭐,내 꿈은 외교관 되는거!,나? 외교관이 꿈임,내 꿈은 외교관이 되는거야! (❁´◡`❁),나아는 외교관!! 외교관되는 게 꿈이양!!,저는 외교관 되는게 꿈입니다.,난 외교관이 되는게 꿈이였지…,외교관 되서 밥벌이 하고 살아야지 시부럴 거,외교관 될건데 왜,과인은 외교관이 되고자 함이오.,난 외교관 되는게 꿈이라니깐!,소인은 외교관이 되는게 꿈이오!,난 외교관 되고싶을 것 같은데.. ㅠㅠ,외교관 꿈을 꾼다.\n",
            ",,,,,,,,,,,,,,,,\n",
            "안녕하십니까?,안녕?,휴먼. 반갑다.,안녕하십니까~ 예 뭐 잘 지내셨나 ㅎㅎ,안뇽?,ㅎㅇ?,안뇽안뇽? ^_~,헐 안녕안녕~ 너무 반갑당 ^0^~!,안녕하십니까?,안녕한가?~…,니기럴 거 아직 안 뒈지고 잘살고 있었냐?,ㅎㅇ,반갑소,안녕하냐니깐!,잘지냈소?,안녕,반가운.\n",
            "안녕하세요.,안녕.,휴먼. 반갑다.,예 뭐 잘 지내지 머 별일이 있었겠어,안뇽안뇽,ㅎㅇㅎㅇ,안녕~[]~(￣▽￣)~*,헐 대박 안뇽안뇽 너~무 오랜만이잖아~,안녕하세요.,안녕하지~….,아쉽게도 아직 뒈지진 않았네,ㅎㅇ,반갑네,안녕하다니깐!,잘 지내고있소!,안녕,반가운.\n"
          ]
        }
      ]
    },
    {
      "cell_type": "code",
      "source": [
        "print(len(session_dataset))\n"
      ],
      "metadata": {
        "colab": {
          "base_uri": "https://localhost:8080/"
        },
        "id": "Y7c92Wb7DrlR",
        "outputId": "973f70d9-a645-4bd4-8ba2-9947d49be8f8"
      },
      "execution_count": 7,
      "outputs": [
        {
          "output_type": "stream",
          "name": "stdout",
          "text": [
            "236\n"
          ]
        }
      ]
    },
    {
      "cell_type": "code",
      "source": [
        "train_session = session_dataset[:-15]\n",
        "valid_session = session_dataset[-15:]\n",
        "len(train_session), len(valid_session)"
      ],
      "metadata": {
        "colab": {
          "base_uri": "https://localhost:8080/"
        },
        "id": "uobrf3c-EHxx",
        "outputId": "feeec6a9-c994-41d1-d599-23392ac03b88"
      },
      "execution_count": 8,
      "outputs": [
        {
          "output_type": "execute_result",
          "data": {
            "text/plain": [
              "(221, 15)"
            ]
          },
          "metadata": {},
          "execution_count": 8
        }
      ]
    },
    {
      "cell_type": "code",
      "source": [
        "train_session[0]\n",
        "# 첫번째 데이터\n",
        "# context: 안녕하세요. 저는 고양이 6마리 키워요.\n",
        "# response: 고양이를 6마리나요? 키우는거 안 힘드세요?\n",
        "\n",
        "# 두번째 데이터\n",
        "# context: 안녕하세요. 저는 고양이 6마리 키워요. | 고양이를 6마리나요? 키우는거 안 힘드세요?\n",
        "# response: 제가 워낙 고양이를 좋아해서 크게 힘들진 않아요.\n",
        "\n",
        "# 세번째 데이터\n",
        "# context: 안녕하세요. 저는 고양이 6마리 키워요. | 고양이를 6마리나요? 키우는거 안 힘드세요? | 제가 워낙 고양이를 좋아해서 크게 힘들진 않아요.\n",
        "# response: 가장 나이가 많은 고양이가 어떻게 돼요?"
      ],
      "metadata": {
        "colab": {
          "base_uri": "https://localhost:8080/"
        },
        "id": "BtyL58P7EOTA",
        "outputId": "79e5426d-44d4-461f-f4cd-b5385b530b88"
      },
      "execution_count": 9,
      "outputs": [
        {
          "output_type": "execute_result",
          "data": {
            "text/plain": [
              "['안녕하세요. 저는 고양이 6마리 키워요.',\n",
              " '고양이를 6마리나요? 키우는거 안 힘드세요?',\n",
              " '제가 워낙 고양이를 좋아해서 크게 힘들진 않아요.',\n",
              " '가장 나이가 많은 고양이가 어떻게 돼요?',\n",
              " '여섯 살입니다. 갈색 고양이에요.',\n",
              " '그럼 가장 어린 고양이가 어떻게 돼요?',\n",
              " '한 살입니다. 작년에 분양 받았어요.',\n",
              " '그럼 고양이들끼리 안 싸우나요?',\n",
              " '저희 일곱은 다같이 한 가족입니다. 싸우는 일은 없어요.']"
            ]
          },
          "metadata": {},
          "execution_count": 9
        }
      ]
    },
    {
      "cell_type": "markdown",
      "source": [
        "## positive / negative pairs 구성"
      ],
      "metadata": {
        "id": "NeR4DueOEV1Y"
      }
    },
    {
      "cell_type": "code",
      "source": [
        "from collections import defaultdict\n",
        "train_json = defaultdict(dict)\n",
        "count = 0\n",
        "for session in train_session:\n",
        "    context = [session[0]]\n",
        "    for turn in range(1, len(session)):\n",
        "        utt = session[turn] \n",
        "        train_json[count]['context'] = context[:]\n",
        "        train_json[count]['response'] = utt\n",
        "        train_json[count]['label'] = 1\n",
        "        context.append(utt)\n",
        "        count += 1\n",
        "    break"
      ],
      "metadata": {
        "id": "z2PGmuw1EQEB"
      },
      "execution_count": 10,
      "outputs": []
    },
    {
      "cell_type": "code",
      "source": [
        "train_json"
      ],
      "metadata": {
        "colab": {
          "base_uri": "https://localhost:8080/"
        },
        "id": "OEiBTgyYE-GT",
        "outputId": "81668a5e-ed29-4905-bafe-ea077dd6d362"
      },
      "execution_count": 11,
      "outputs": [
        {
          "output_type": "execute_result",
          "data": {
            "text/plain": [
              "defaultdict(dict,\n",
              "            {0: {'context': ['안녕하세요. 저는 고양이 6마리 키워요.'],\n",
              "              'response': '고양이를 6마리나요? 키우는거 안 힘드세요?',\n",
              "              'label': 1},\n",
              "             1: {'context': ['안녕하세요. 저는 고양이 6마리 키워요.',\n",
              "               '고양이를 6마리나요? 키우는거 안 힘드세요?'],\n",
              "              'response': '제가 워낙 고양이를 좋아해서 크게 힘들진 않아요.',\n",
              "              'label': 1},\n",
              "             2: {'context': ['안녕하세요. 저는 고양이 6마리 키워요.',\n",
              "               '고양이를 6마리나요? 키우는거 안 힘드세요?',\n",
              "               '제가 워낙 고양이를 좋아해서 크게 힘들진 않아요.'],\n",
              "              'response': '가장 나이가 많은 고양이가 어떻게 돼요?',\n",
              "              'label': 1},\n",
              "             3: {'context': ['안녕하세요. 저는 고양이 6마리 키워요.',\n",
              "               '고양이를 6마리나요? 키우는거 안 힘드세요?',\n",
              "               '제가 워낙 고양이를 좋아해서 크게 힘들진 않아요.',\n",
              "               '가장 나이가 많은 고양이가 어떻게 돼요?'],\n",
              "              'response': '여섯 살입니다. 갈색 고양이에요.',\n",
              "              'label': 1},\n",
              "             4: {'context': ['안녕하세요. 저는 고양이 6마리 키워요.',\n",
              "               '고양이를 6마리나요? 키우는거 안 힘드세요?',\n",
              "               '제가 워낙 고양이를 좋아해서 크게 힘들진 않아요.',\n",
              "               '가장 나이가 많은 고양이가 어떻게 돼요?',\n",
              "               '여섯 살입니다. 갈색 고양이에요.'],\n",
              "              'response': '그럼 가장 어린 고양이가 어떻게 돼요?',\n",
              "              'label': 1},\n",
              "             5: {'context': ['안녕하세요. 저는 고양이 6마리 키워요.',\n",
              "               '고양이를 6마리나요? 키우는거 안 힘드세요?',\n",
              "               '제가 워낙 고양이를 좋아해서 크게 힘들진 않아요.',\n",
              "               '가장 나이가 많은 고양이가 어떻게 돼요?',\n",
              "               '여섯 살입니다. 갈색 고양이에요.',\n",
              "               '그럼 가장 어린 고양이가 어떻게 돼요?'],\n",
              "              'response': '한 살입니다. 작년에 분양 받았어요.',\n",
              "              'label': 1},\n",
              "             6: {'context': ['안녕하세요. 저는 고양이 6마리 키워요.',\n",
              "               '고양이를 6마리나요? 키우는거 안 힘드세요?',\n",
              "               '제가 워낙 고양이를 좋아해서 크게 힘들진 않아요.',\n",
              "               '가장 나이가 많은 고양이가 어떻게 돼요?',\n",
              "               '여섯 살입니다. 갈색 고양이에요.',\n",
              "               '그럼 가장 어린 고양이가 어떻게 돼요?',\n",
              "               '한 살입니다. 작년에 분양 받았어요.'],\n",
              "              'response': '그럼 고양이들끼리 안 싸우나요?',\n",
              "              'label': 1},\n",
              "             7: {'context': ['안녕하세요. 저는 고양이 6마리 키워요.',\n",
              "               '고양이를 6마리나요? 키우는거 안 힘드세요?',\n",
              "               '제가 워낙 고양이를 좋아해서 크게 힘들진 않아요.',\n",
              "               '가장 나이가 많은 고양이가 어떻게 돼요?',\n",
              "               '여섯 살입니다. 갈색 고양이에요.',\n",
              "               '그럼 가장 어린 고양이가 어떻게 돼요?',\n",
              "               '한 살입니다. 작년에 분양 받았어요.',\n",
              "               '그럼 고양이들끼리 안 싸우나요?'],\n",
              "              'response': '저희 일곱은 다같이 한 가족입니다. 싸우는 일은 없어요.',\n",
              "              'label': 1}})"
            ]
          },
          "metadata": {},
          "execution_count": 11
        }
      ]
    },
    {
      "cell_type": "code",
      "source": [
        "import random\n",
        "use_turns = 5 # 꼭 5일 필요는 없음\n",
        "neg_nums = 4 # 꼭 4일 필요는 없음\n",
        "\n",
        "from collections import defaultdict\n",
        "train_json = defaultdict(dict)\n",
        "count = 0\n",
        "for session in train_session:\n",
        "    context = [session[0]]\n",
        "    for turn in range(1, len(session)):\n",
        "        utt = session[turn]\n",
        "        train_json[count]['context'] = context[:][-use_turns:]\n",
        "        train_json[count]['positive_response'] = utt\n",
        "        context.append(utt)\n",
        "\n",
        "        negative_candidates = random.sample(all_utts, neg_nums)\n",
        "        train_json[count]['negative_responses'] = negative_candidates\n",
        "        count += 1\n",
        "    break"
      ],
      "metadata": {
        "id": "BfmCaB5bFBrx"
      },
      "execution_count": 12,
      "outputs": []
    },
    {
      "cell_type": "code",
      "source": [
        "train_json"
      ],
      "metadata": {
        "colab": {
          "base_uri": "https://localhost:8080/"
        },
        "id": "55uKhb62GRt5",
        "outputId": "9b386537-f1be-48e0-eb0c-0cdd647877ba"
      },
      "execution_count": 13,
      "outputs": [
        {
          "output_type": "execute_result",
          "data": {
            "text/plain": [
              "defaultdict(dict,\n",
              "            {0: {'context': ['안녕하세요. 저는 고양이 6마리 키워요.'],\n",
              "              'positive_response': '고양이를 6마리나요? 키우는거 안 힘드세요?',\n",
              "              'negative_responses': ['어떤 문제가 있으신가요?',\n",
              "               '아이들이 책 읽는 걸 좋아하나요?',\n",
              "               '그리고 바나나는 영양도 풍부한 것 같아요.',\n",
              "               '부는 하데스가 관장하는 영역이 아닌가요?']},\n",
              "             1: {'context': ['안녕하세요. 저는 고양이 6마리 키워요.',\n",
              "               '고양이를 6마리나요? 키우는거 안 힘드세요?'],\n",
              "              'positive_response': '제가 워낙 고양이를 좋아해서 크게 힘들진 않아요.',\n",
              "              'negative_responses': ['학생이라고 하시니 추억들이 생각나네요. 힘들지만 열심히 노력하시길 바랄게요.',\n",
              "               '그런 논리라면 저는 너무 많은 음식을 싫어하는 것이 되겠네요.',\n",
              "               '그랬으면 좋겠네요. 하지만 요즘은 일이 별로 없어요.',\n",
              "               '두시간이면 갈 길을 네시간이나 가셨겠네요.']},\n",
              "             2: {'context': ['안녕하세요. 저는 고양이 6마리 키워요.',\n",
              "               '고양이를 6마리나요? 키우는거 안 힘드세요?',\n",
              "               '제가 워낙 고양이를 좋아해서 크게 힘들진 않아요.'],\n",
              "              'positive_response': '가장 나이가 많은 고양이가 어떻게 돼요?',\n",
              "              'negative_responses': ['네, 피아노를 칠 줄 압니다.',\n",
              "               '저는 주로 테니스 경기를 봅니다.',\n",
              "               '그러네요. 저는 치즈 피자하고 페퍼로니 피자가 가격이 같을때는 페퍼로니가 아까워서 주로 페퍼로니로 시켜요.',\n",
              "               '오늘 시험이 있었나요?']},\n",
              "             3: {'context': ['안녕하세요. 저는 고양이 6마리 키워요.',\n",
              "               '고양이를 6마리나요? 키우는거 안 힘드세요?',\n",
              "               '제가 워낙 고양이를 좋아해서 크게 힘들진 않아요.',\n",
              "               '가장 나이가 많은 고양이가 어떻게 돼요?'],\n",
              "              'positive_response': '여섯 살입니다. 갈색 고양이에요.',\n",
              "              'negative_responses': ['네, 다른 악기로는 내지 못하는 아름다운 음 같습니다.',\n",
              "               '헬스장은 어디 있나요?',\n",
              "               '어제 이상한 꿈을 꿨어요.',\n",
              "               '사람마다 미각의 기준은 다른 법이랍니다.']},\n",
              "             4: {'context': ['안녕하세요. 저는 고양이 6마리 키워요.',\n",
              "               '고양이를 6마리나요? 키우는거 안 힘드세요?',\n",
              "               '제가 워낙 고양이를 좋아해서 크게 힘들진 않아요.',\n",
              "               '가장 나이가 많은 고양이가 어떻게 돼요?',\n",
              "               '여섯 살입니다. 갈색 고양이에요.'],\n",
              "              'positive_response': '그럼 가장 어린 고양이가 어떻게 돼요?',\n",
              "              'negative_responses': ['또 설탕이 높다 보니 이빨도 잘 썩는 것 같아요.',\n",
              "               '운동을 하면 글이 다시 잘 써지나요?',\n",
              "               '그 후로도 더웠지만 관광은 계속했습니다.',\n",
              "               '슈퍼맨은 언제나 도시를 구하지만, 구하는 과정이 아슬할 때도 많다고 생각하지 않아요? 미처 대피를 하지 못해 건물 잔해에 깔릴 뻔한 할머니 혹은, 악당의 무기가 도탄된 것을 피하지 못해 위험에 빠지는 주인공의 친구같은 상황들이 자주 생기잖아요.']},\n",
              "             5: {'context': ['고양이를 6마리나요? 키우는거 안 힘드세요?',\n",
              "               '제가 워낙 고양이를 좋아해서 크게 힘들진 않아요.',\n",
              "               '가장 나이가 많은 고양이가 어떻게 돼요?',\n",
              "               '여섯 살입니다. 갈색 고양이에요.',\n",
              "               '그럼 가장 어린 고양이가 어떻게 돼요?'],\n",
              "              'positive_response': '한 살입니다. 작년에 분양 받았어요.',\n",
              "              'negative_responses': ['혈액형이 어떻게 되세요?',\n",
              "               '네, 하지만 아마 북극관에서 일하시는 분들보다는 덜 힘들거에요.',\n",
              "               '그런가요?',\n",
              "               '지금은 거의 안 합니다. 가족행사 같은 곳에서만 종종 연주하는 정도에요.']},\n",
              "             6: {'context': ['제가 워낙 고양이를 좋아해서 크게 힘들진 않아요.',\n",
              "               '가장 나이가 많은 고양이가 어떻게 돼요?',\n",
              "               '여섯 살입니다. 갈색 고양이에요.',\n",
              "               '그럼 가장 어린 고양이가 어떻게 돼요?',\n",
              "               '한 살입니다. 작년에 분양 받았어요.'],\n",
              "              'positive_response': '그럼 고양이들끼리 안 싸우나요?',\n",
              "              'negative_responses': ['안녕하세요. 제 이름은 조난이고 19살입니다. 당신의 이름은 무엇입니까?',\n",
              "               '그래도 캥거루가 제 마당을 좋아하는 것을 보면 제가 잔디 관리를 잘 한다는 말 아니겠습니까.',\n",
              "               '첼로는 생각보다 어려운 악기입니다.',\n",
              "               '안녕하세요, 뭘 읽고 계신가요?']},\n",
              "             7: {'context': ['가장 나이가 많은 고양이가 어떻게 돼요?',\n",
              "               '여섯 살입니다. 갈색 고양이에요.',\n",
              "               '그럼 가장 어린 고양이가 어떻게 돼요?',\n",
              "               '한 살입니다. 작년에 분양 받았어요.',\n",
              "               '그럼 고양이들끼리 안 싸우나요?'],\n",
              "              'positive_response': '저희 일곱은 다같이 한 가족입니다. 싸우는 일은 없어요.',\n",
              "              'negative_responses': ['한번도 마셔본 적이 없는데, 어떤 맛인가요?',\n",
              "               '제 기억 상으로는 초등학교 때부터 계속 썼었던 것 같아요.',\n",
              "               '안녕하세요, 제 이름은 미치이고 미치의 메이크업 채널을 유튜브에서 운영하고 있어요.',\n",
              "               '네, 시리얼 먹고 있는 중입니다. 같이 드실래요?']}})"
            ]
          },
          "metadata": {},
          "execution_count": 13
        }
      ]
    },
    {
      "cell_type": "code",
      "source": [
        "# import random\n",
        "# neg_nums = 4\n",
        "\n",
        "# from collections import defaultdict\n",
        "# train_json = defaultdict(dict)\n",
        "# count = 0\n",
        "# for session in train_session:\n",
        "#     context = [session[0]]\n",
        "#     for turn in range(1, len(session)):\n",
        "#         utt = session[turn]\n",
        "#         train_json[count]['context'] = context[:][-use_turns:]\n",
        "#         train_json[count]['positive_response'] = utt        \n",
        "#         context.append(utt)        \n",
        "        \n",
        "#         negative_candidates = random.sample(all_utts, neg_nums)\n",
        "#         train_json[count]['negative_responses'] = negative_candidates\n",
        "#         count += 1\n",
        "    \n",
        "# import json\n",
        "# with open('/content/drive/MyDrive/인공지능/멀티턴응답선택/korean_smile_style_dataset/train.json', 'w') as outfile:\n",
        "#     json.dump(train_json, outfile)"
      ],
      "metadata": {
        "id": "Vl6agE0ZGlU_"
      },
      "execution_count": 14,
      "outputs": []
    },
    {
      "cell_type": "code",
      "source": [
        "import json, pdb\n",
        "from torch.utils.data import Dataset\n",
        "from transformers import AutoTokenizer\n",
        "\n",
        "class fine_loader(Dataset):\n",
        "    def __init__(self, data_path):\n",
        "        self.tokenizer = AutoTokenizer.from_pretrained('klue/roberta-base')\n",
        "        special_tokens = {'sep_token': '<SEP>'}\n",
        "        self.tokenizer.add_special_tokens(special_tokens)\n",
        "        \n",
        "        \"\"\" 세션 데이터 \"\"\"\n",
        "        with open(data_path, 'r') as f:\n",
        "            self.session_dataset = json.load(f)\n",
        "        \n",
        "    def __len__(self): # 기본적인 구성\n",
        "        return len(self.session_dataset)\n",
        "    \n",
        "    def __getitem__(self, idx): # 기본적인 구성\n",
        "        session = self.session_dataset[str(idx)]\n",
        "        context = session['context']\n",
        "        positive_response = session['positive_response']\n",
        "        negative_responses = session['negative_responses']\n",
        "        session_tokens = []\n",
        "        session_labels = []\n",
        "        \n",
        "        \"\"\" MRS 입력 \"\"\"\n",
        "        context_token = [self.tokenizer.cls_token_id]\n",
        "        for utt in context:\n",
        "            context_token += self.tokenizer.encode(utt, add_special_tokens=False)\n",
        "            context_token += [self.tokenizer.sep_token_id]\n",
        "        \n",
        "        pos_respons_token = [self.tokenizer.eos_token_id]\n",
        "        pos_respons_token += self.tokenizer.encode(positive_response, add_special_tokens=False)\n",
        "        positive_tokens = context_token + pos_respons_token\n",
        "        session_tokens.append(positive_tokens)\n",
        "        session_labels.append(1)\n",
        "        \n",
        "        for negative_response in negative_responses:\n",
        "            neg_respons_token = [self.tokenizer.eos_token_id]\n",
        "            neg_respons_token += self.tokenizer.encode(negative_response, add_special_tokens=False)\n",
        "            negative_tokens = context_token + neg_respons_token        \n",
        "            session_tokens.append(negative_tokens)\n",
        "            session_labels.append(0)\n",
        "        \n",
        "        return session_tokens, session_labels"
      ],
      "metadata": {
        "id": "bOeUuYm_UOM2"
      },
      "execution_count": 15,
      "outputs": []
    },
    {
      "cell_type": "code",
      "source": [
        "from torch.utils.data import DataLoader\n",
        "train_path = '/content/drive/MyDrive/인공지능/멀티턴응답선택/korean_smile_style_dataset/train.json'\n",
        "train_dataset = fine_loader(train_path)"
      ],
      "metadata": {
        "id": "eMGmqh98UX7T",
        "colab": {
          "base_uri": "https://localhost:8080/",
          "height": 145,
          "referenced_widgets": [
            "b40435cfd7b849be8281053a7f629623",
            "868b2fc4fe4744b4bb566e5577af18f7",
            "c6eba09626604187a6370d6c36a89e08",
            "e5fec57cd0924caaa7d5ce5f6e1ea53e",
            "718c6d7716834bba9e6ded49a11eafba",
            "2242ac8c678c4345a23de34d6d450872",
            "7c0e4b6ddce4491fa7ee3dc4c57a14ce",
            "e8f80059d6184f2ab0c41e057ac42bee",
            "38d6e9c99a6941c7aa644447ff09a8d7",
            "844f503de0b44d739284b22140b8f77b",
            "ecb456908d3345c4b189f6c0a59f7e0a",
            "838cdc014bea45b4aa007270bda0b1f2",
            "48c876b86d474a97b1f5008243d0f202",
            "f7bd20ffaeb246bca38c60a52e034ed3",
            "184a613419d248b1974a0ba149fc9b00",
            "7b9ed1c0f8744a95aeaf5ea751c47109",
            "581d562eda5647729ac90c704a64d135",
            "eb4997f98784412f841d44399dea9535",
            "176e413ecc3c4658af92a81d16d897a1",
            "9a43e762c9f24fd5a33af6c884047a26",
            "f1d6532bc03342f9b8bc5b3e5eca733e",
            "57e294c53fa64b9db6955405a31912c2",
            "fc62ae563b564e9883ba0c2cae8104d7",
            "5b403d49f73b4007b2a61cad62320cca",
            "3d95f256cb1644bc879228cd9086c0f1",
            "6745e5493a074b24a45d24530a6e2b96",
            "a6fb8b77b9964589ae81393d789f0f18",
            "32d80fbe3bd648dfb88d915e5a9fbc98",
            "43cb5f0fd7d34958aadadd6c86ca81c6",
            "ad85e932420448e1bc0397dee86d46cf",
            "97b404bc853546b78092f6203befabd5",
            "032fe9d0e93548539bd572778baf656c",
            "cdd2e0b7075e4cf4815eb756ebbee7e9",
            "90d78900ee8d43579e046a8b70eea77e",
            "b261edbe99814acd81be1f42bc58af88",
            "ab44fe6e8d494874ad276db78c8c4c71",
            "de2134eb14f640889f9281e55c8582d1",
            "72f029557c3645408198fdc7f90a7113",
            "e180a88f32554f8992ffe24133ac5962",
            "8b7b69d5faae471ca998c2fbcc57fbfb",
            "ed6ddcf9f24c4d97b742a88cdbb858bb",
            "6784346ed9654da2a8089da9e00e2914",
            "f0c4ea635fd44315a0625933d5104b81",
            "f451b5f8d11043b5b1a7c1cca10e1087"
          ]
        },
        "outputId": "45c4c387-277e-4f1c-ad01-b2890b923f0e"
      },
      "execution_count": 16,
      "outputs": [
        {
          "output_type": "display_data",
          "data": {
            "text/plain": [
              "Downloading (…)okenizer_config.json:   0%|          | 0.00/375 [00:00<?, ?B/s]"
            ],
            "application/vnd.jupyter.widget-view+json": {
              "version_major": 2,
              "version_minor": 0,
              "model_id": "b40435cfd7b849be8281053a7f629623"
            }
          },
          "metadata": {}
        },
        {
          "output_type": "display_data",
          "data": {
            "text/plain": [
              "Downloading (…)solve/main/vocab.txt:   0%|          | 0.00/248k [00:00<?, ?B/s]"
            ],
            "application/vnd.jupyter.widget-view+json": {
              "version_major": 2,
              "version_minor": 0,
              "model_id": "838cdc014bea45b4aa007270bda0b1f2"
            }
          },
          "metadata": {}
        },
        {
          "output_type": "display_data",
          "data": {
            "text/plain": [
              "Downloading (…)/main/tokenizer.json:   0%|          | 0.00/752k [00:00<?, ?B/s]"
            ],
            "application/vnd.jupyter.widget-view+json": {
              "version_major": 2,
              "version_minor": 0,
              "model_id": "fc62ae563b564e9883ba0c2cae8104d7"
            }
          },
          "metadata": {}
        },
        {
          "output_type": "display_data",
          "data": {
            "text/plain": [
              "Downloading (…)cial_tokens_map.json:   0%|          | 0.00/173 [00:00<?, ?B/s]"
            ],
            "application/vnd.jupyter.widget-view+json": {
              "version_major": 2,
              "version_minor": 0,
              "model_id": "90d78900ee8d43579e046a8b70eea77e"
            }
          },
          "metadata": {}
        }
      ]
    },
    {
      "cell_type": "code",
      "source": [
        "session_tokens, session_labels = train_dataset[1]"
      ],
      "metadata": {
        "id": "q0x1Y8p1olwJ"
      },
      "execution_count": 17,
      "outputs": []
    },
    {
      "cell_type": "code",
      "source": [
        "len(session_tokens), len(session_tokens[0]), len(session_tokens[1])"
      ],
      "metadata": {
        "colab": {
          "base_uri": "https://localhost:8080/"
        },
        "id": "pBSlj-1gvnxQ",
        "outputId": "406c696d-5ccb-4349-a112-b457a35ec067"
      },
      "execution_count": 18,
      "outputs": [
        {
          "output_type": "execute_result",
          "data": {
            "text/plain": [
              "(5, 44, 39)"
            ]
          },
          "metadata": {},
          "execution_count": 18
        }
      ]
    },
    {
      "cell_type": "code",
      "source": [
        "train_dataset.tokenizer.decode(session_tokens[4])"
      ],
      "metadata": {
        "colab": {
          "base_uri": "https://localhost:8080/",
          "height": 54
        },
        "id": "1c4sE11QvyT0",
        "outputId": "d9ae6539-ff01-4fd2-c841-ed5df0e503aa"
      },
      "execution_count": 19,
      "outputs": [
        {
          "output_type": "execute_result",
          "data": {
            "text/plain": [
              "'[CLS] 안녕하세요. 저는 고양이 6마리 키워요. <SEP> 고양이를 6마리나요? 키우는거 안 힘드세요? <SEP> [SEP] 저는 항상 옷을 같은 곳에서 삽니다. 직접 만들지는 않고요.'"
            ],
            "application/vnd.google.colaboratory.intrinsic+json": {
              "type": "string"
            }
          },
          "metadata": {},
          "execution_count": 19
        }
      ]
    },
    {
      "cell_type": "code",
      "source": [
        "session_labels"
      ],
      "metadata": {
        "colab": {
          "base_uri": "https://localhost:8080/"
        },
        "id": "8W8AKVl3vyRR",
        "outputId": "e1b55623-0891-4eec-fda3-0fa42805b7fe"
      },
      "execution_count": 20,
      "outputs": [
        {
          "output_type": "execute_result",
          "data": {
            "text/plain": [
              "[1, 0, 0, 0, 0]"
            ]
          },
          "metadata": {},
          "execution_count": 20
        }
      ]
    },
    {
      "cell_type": "markdown",
      "source": [
        "## 배치 처리하기"
      ],
      "metadata": {
        "id": "tBcchCo8v5wE"
      }
    },
    {
      "cell_type": "code",
      "source": [
        "import json, pdb\n",
        "from torch.utils.data import Dataset\n",
        "from transformers import AutoTokenizer\n",
        "import torch\n",
        "\n",
        "class fine_loader(Dataset):\n",
        "    def __init__(self, data_path):\n",
        "        self.tokenizer = AutoTokenizer.from_pretrained('klue/roberta-base')\n",
        "        special_tokens = {'sep_token': '<SEP>'}\n",
        "        self.tokenizer.add_special_tokens(special_tokens)\n",
        "        \n",
        "        \"\"\" 세션 데이터 \"\"\"\n",
        "        with open(data_path, 'r') as f:\n",
        "            self.session_dataset = json.load(f)\n",
        "        \n",
        "    def __len__(self): # 기본적인 구성\n",
        "        return len(self.session_dataset)\n",
        "    \n",
        "    def __getitem__(self, idx): # 기본적인 구성\n",
        "        session = self.session_dataset[str(idx)]\n",
        "        context = session['context']\n",
        "        positive_response = session['positive_response']\n",
        "        negative_responses = session['negative_responses']\n",
        "        session_tokens = []\n",
        "        session_labels = []\n",
        "        \n",
        "        \"\"\" MRS 입력 \"\"\"\n",
        "        context_token = [self.tokenizer.cls_token_id]\n",
        "        for utt in context:\n",
        "            context_token += self.tokenizer.encode(utt, add_special_tokens=False)\n",
        "            context_token += [self.tokenizer.sep_token_id]\n",
        "        \n",
        "        pos_respons_token = [self.tokenizer.eos_token_id]\n",
        "        pos_respons_token += self.tokenizer.encode(positive_response, add_special_tokens=False)\n",
        "        positive_tokens = context_token + pos_respons_token\n",
        "        session_tokens.append(positive_tokens)\n",
        "        session_labels.append(1)\n",
        "        \n",
        "        for negative_response in negative_responses:\n",
        "            neg_respons_token = [self.tokenizer.eos_token_id]\n",
        "            neg_respons_token += self.tokenizer.encode(negative_response, add_special_tokens=False)\n",
        "            negative_tokens = context_token + neg_respons_token        \n",
        "            session_tokens.append(negative_tokens)\n",
        "            session_labels.append(0)\n",
        "        \n",
        "        return session_tokens, session_labels\n",
        "    \n",
        "    def collate_fn(self, sessions): # 배치를 위한 구성\n",
        "        '''\n",
        "            input:\n",
        "                data: [(session1), (session2), ... ]\n",
        "            return:\n",
        "                batch_input_tokens_pad: (B, L) padded\n",
        "                batch_labels: (B)\n",
        "        '''        \n",
        "        # 최대 길이 찾기 for padding\n",
        "        max_input_len = 0\n",
        "        for session in sessions:\n",
        "            session_tokens, session_labels = session\n",
        "            input_tokens_len = [len(x) for x in session_tokens]\n",
        "            max_input_len = max(max_input_len, max(input_tokens_len))\n",
        "        \n",
        "        batch_input_tokens, batch_input_labels = [], []\n",
        "        batch_input_attentions = []\n",
        "        for session in sessions:\n",
        "            session_tokens, session_labels = session\n",
        "            for session_token in session_tokens:\n",
        "                input_token = session_token + [self.tokenizer.pad_token_id for _ in range(max_input_len-len(session_token))]\n",
        "                input_attention = [1 for _ in range(len(session_token))] + [0 for _ in range(max_input_len-len(session_token))]\n",
        "                batch_input_tokens.append(input_token)\n",
        "                batch_input_attentions.append(input_attention)\n",
        "            batch_input_labels += session_labels\n",
        "        \n",
        "        return torch.tensor(batch_input_tokens), torch.tensor(batch_input_attentions), torch.tensor(batch_input_labels)"
      ],
      "metadata": {
        "id": "rpDWGkzCvyOm"
      },
      "execution_count": 21,
      "outputs": []
    },
    {
      "cell_type": "code",
      "source": [
        "!touch dataset.py"
      ],
      "metadata": {
        "id": "S-XnUDHOvyML"
      },
      "execution_count": 22,
      "outputs": []
    },
    {
      "cell_type": "code",
      "source": [
        "from dataset import fine_loader\n",
        "from torch.utils.data import DataLoader\n",
        "train_path = '/content/drive/MyDrive/인공지능/멀티턴응답선택/korean_smile_style_dataset/train.json'\n",
        "train_dataset = fine_loader(train_path)\n",
        "train_dataloader = DataLoader(train_dataset, batch_size=2, shuffle=False, num_workers=4, collate_fn=train_dataset.collate_fn)"
      ],
      "metadata": {
        "id": "X9ISV9f9FnLE"
      },
      "execution_count": 23,
      "outputs": []
    },
    {
      "cell_type": "code",
      "source": [
        "for data in train_dataloader:\n",
        "    batch_input_tokens, batch_input_attentions, batch_input_labels = data\n",
        "    break"
      ],
      "metadata": {
        "id": "LGJ29t0aGUFL"
      },
      "execution_count": 24,
      "outputs": []
    },
    {
      "cell_type": "code",
      "source": [
        "batch_input_tokens.shape, batch_input_attentions.shape, batch_input_labels.shape"
      ],
      "metadata": {
        "colab": {
          "base_uri": "https://localhost:8080/"
        },
        "id": "qCl7kP3lHVba",
        "outputId": "822bce95-811d-4be7-a5f6-1c67f3ffd0c3"
      },
      "execution_count": 25,
      "outputs": [
        {
          "output_type": "execute_result",
          "data": {
            "text/plain": [
              "(torch.Size([10, 53]), torch.Size([10, 53]), torch.Size([10]))"
            ]
          },
          "metadata": {},
          "execution_count": 25
        }
      ]
    },
    {
      "cell_type": "code",
      "source": [
        "batch_input_tokens"
      ],
      "metadata": {
        "colab": {
          "base_uri": "https://localhost:8080/"
        },
        "id": "RlGSsczsH5wC",
        "outputId": "3dc18b55-6ec9-43c4-d6ea-e18c57c4e931"
      },
      "execution_count": 26,
      "outputs": [
        {
          "output_type": "execute_result",
          "data": {
            "text/plain": [
              "tensor([[    0,  5891,  2205,  5971,    18,  1535,  2259,  7003,    26, 12736,\n",
              "          5972,  2182,    18, 32000,     2,  7003,  2138,    26, 12736,  2075,\n",
              "          2182,    35,  5688,  2259,  2180,  1378, 18941,  5971,    35,     1,\n",
              "             1,     1,     1,     1,     1,     1,     1,     1,     1,     1,\n",
              "             1,     1,     1,     1,     1,     1,     1,     1,     1,     1,\n",
              "             1,     1,     1],\n",
              "        [    0,  5891,  2205,  5971,    18,  1535,  2259,  7003,    26, 12736,\n",
              "          5972,  2182,    18, 32000,     2, 10073, 22087,  2570,  2079,  5306,\n",
              "          2256,  2955,  2069,  4920,  5723, 11800,    18,     1,     1,     1,\n",
              "             1,     1,     1,     1,     1,     1,     1,     1,     1,     1,\n",
              "             1,     1,     1,     1,     1,     1,     1,     1,     1,     1,\n",
              "             1,     1,     1],\n",
              "        [    0,  5891,  2205,  5971,    18,  1535,  2259,  7003,    26, 12736,\n",
              "          5972,  2182,    18, 32000,     2,  4177,  4241,  2052,  5971,    16,\n",
              "          7944,  4402,  2119,  5050,  1164,  1295,  1513,  2219,  3606,    18,\n",
              "             1,     1,     1,     1,     1,     1,     1,     1,     1,     1,\n",
              "             1,     1,     1,     1,     1,     1,     1,     1,     1,     1,\n",
              "             1,     1,     1],\n",
              "        [    0,  5891,  2205,  5971,    18,  1535,  2259,  7003,    26, 12736,\n",
              "          5972,  2182,    18, 32000,     2,  3934,  2154,  4756,  4609,   867,\n",
              "          2052,  4768,  2073,  4366,  7673,   575,   555,  2227,  2182,    18,\n",
              "             1,     1,     1,     1,     1,     1,     1,     1,     1,     1,\n",
              "             1,     1,     1,     1,     1,     1,     1,     1,     1,     1,\n",
              "             1,     1,     1],\n",
              "        [    0,  5891,  2205,  5971,    18,  1535,  2259,  7003,    26, 12736,\n",
              "          5972,  2182,    18, 32000,     2,  5891,  2205,  5971,    16,  1097,\n",
              "          1889,  2259,  1570,  2052,  5971,    35,     1,     1,     1,     1,\n",
              "             1,     1,     1,     1,     1,     1,     1,     1,     1,     1,\n",
              "             1,     1,     1,     1,     1,     1,     1,     1,     1,     1,\n",
              "             1,     1,     1],\n",
              "        [    0,  5891,  2205,  5971,    18,  1535,  2259,  7003,    26, 12736,\n",
              "          5972,  2182,    18, 32000,  7003,  2138,    26, 12736,  2075,  2182,\n",
              "            35,  5688,  2259,  2180,  1378, 18941,  5971,    35, 32000,     2,\n",
              "          1545,  2116,  7020,  7003,  2138, 30581,  1750,  2318,  4390,  2043,\n",
              "          1380,  2227,  2182,    18,     1,     1,     1,     1,     1,     1,\n",
              "             1,     1,     1],\n",
              "        [    0,  5891,  2205,  5971,    18,  1535,  2259,  7003,    26, 12736,\n",
              "          5972,  2182,    18, 32000,  7003,  2138,    26, 12736,  2075,  2182,\n",
              "            35,  5688,  2259,  2180,  1378, 18941,  5971,    35, 32000,     2,\n",
              "          5662,  3731,  2170,  4671,  2205,  2067,  2075,  2182,    35,     1,\n",
              "             1,     1,     1,     1,     1,     1,     1,     1,     1,     1,\n",
              "             1,     1,     1],\n",
              "        [    0,  5891,  2205,  5971,    18,  1535,  2259,  7003,    26, 12736,\n",
              "          5972,  2182,    18, 32000,  7003,  2138,    26, 12736,  2075,  2182,\n",
              "            35,  5688,  2259,  2180,  1378, 18941,  5971,    35, 32000,     2,\n",
              "         14834,  3929,  2259, 10771,  2170,  1513,  2259,   568,  2088,    16,\n",
              "         14834,  4762,  2116, 17791,  2170,  1513,  2259,  5845, 13474,  2052,\n",
              "          2170,  2182,    18],\n",
              "        [    0,  5891,  2205,  5971,    18,  1535,  2259,  7003,    26, 12736,\n",
              "          5972,  2182,    18, 32000,  7003,  2138,    26, 12736,  2075,  2182,\n",
              "            35,  5688,  2259,  2180,  1378, 18941,  5971,    35, 32000,     2,\n",
              "          3673, 10721,  2170,  1733,  2052,  3919,  8865,  2689, 13964,  5264,\n",
              "          1059,  2088,  3741, 13232,  2321,    18,     1,     1,     1,     1,\n",
              "             1,     1,     1],\n",
              "        [    0,  5891,  2205,  5971,    18,  1535,  2259,  7003,    26, 12736,\n",
              "          5972,  2182,    18, 32000,  7003,  2138,    26, 12736,  2075,  2182,\n",
              "            35,  5688,  2259,  2180,  1378, 18941,  5971,    35, 32000,     2,\n",
              "          1535,  2259,  4744,  1451,  2069,   555,  2073,   601, 27135,  1239,\n",
              "          3606,    18,  3868,  3679,  2118,  2259,  1380,  2088,  2182,    18,\n",
              "             1,     1,     1]])"
            ]
          },
          "metadata": {},
          "execution_count": 26
        }
      ]
    },
    {
      "cell_type": "markdown",
      "source": [
        "## 모델링하기"
      ],
      "metadata": {
        "id": "jN2zZ6NwJcBX"
      }
    },
    {
      "cell_type": "code",
      "source": [
        "from transformers import RobertaForMaskedLM, AutoTokenizer\n",
        "import torch\n",
        "import torch.nn as nn\n",
        "\n",
        "class FineModel(nn.Module):\n",
        "    def __init__(self):\n",
        "        super(FineModel, self).__init__()\n",
        "        self.model = RobertaForMaskedLM.from_pretrained('klue/roberta-base')\n",
        "        self.hiddenDim = self.model.config.hidden_size\n",
        "        \n",
        "        self.tokenizer = AutoTokenizer.from_pretrained('klue/roberta-base')\n",
        "        special_tokens = {'sep_token': '<SEP>'}\n",
        "        self.tokenizer.add_special_tokens(special_tokens)\n",
        "        self.model.resize_token_embeddings(len(self.tokenizer))        \n",
        "        \n",
        "        \"\"\" score matrix \"\"\"\n",
        "        # self.W = nn.Linear(self.hiddenDim, 3)\n",
        "        self.W2 = nn.Linear(self.hiddenDim, 2)\n",
        "        \n",
        "    def forward(self, batch_input_tokens, batch_input_attentions):\n",
        "        ## Binary Classification (pointwise)\n",
        "        outputs = self.model(batch_input_tokens, attention_mask=batch_input_attentions, output_hidden_states=True)['hidden_states'][-1] # [B, L, hidden_dim]\n",
        "        cls_outputs = outputs[:,0,:] # [B, hidden_dim]/0은 cls를 해당\n",
        "        cls_logits = self.W2(cls_outputs) # [B, 2]\n",
        "         \n",
        "        return cls_logits"
      ],
      "metadata": {
        "id": "BJJOsTsZJbyV"
      },
      "execution_count": 27,
      "outputs": []
    },
    {
      "cell_type": "code",
      "source": [
        "!touch model.py"
      ],
      "metadata": {
        "id": "3GaF-YMgH8MJ"
      },
      "execution_count": 28,
      "outputs": []
    },
    {
      "cell_type": "code",
      "source": [
        "import torch\n",
        "from model import FineModel\n",
        "fine_model = FineModel()\n",
        "result = fine_model(batch_input_tokens, batch_input_attentions)"
      ],
      "metadata": {
        "id": "d-UUA-Z8KqWH",
        "colab": {
          "base_uri": "https://localhost:8080/",
          "height": 81,
          "referenced_widgets": [
            "0ffbf8f90f724b019b5ec045ee246e7a",
            "f7fb38c9960f479eb02ffbd07f53a359",
            "00ce3e909c2c4825be0b24f89bd49f20",
            "5e4c0eb0ab724865b91abdf1802547a7",
            "dc3da0dd221841298f63e8bd275401c6",
            "4ed7672c8a8844e3944b9e59e45dbb0c",
            "928b9a03e9af4104888b7fd90d58218d",
            "bfafbb9486bf4f8f9cbd70fa0ab962b7",
            "749f3f756ec94079928cad4fb0fa1d25",
            "7e25a2816457480498903c606469ec76",
            "86cf5a6638454eed839bc1b52181a652",
            "90fa7d412f5943acaa9f0434778170ef",
            "103190c898844b05bff99bd18fec37b6",
            "95d4bfab5b97470386d861cf89fef694",
            "3717161877b94caa9824ad8fab59b049",
            "f6057b3837fb4428b0825f9a5222dbe2",
            "81d92ad2a5704788869553432b65329b",
            "2d5ef76d6641455b8bbc5297f07e7a19",
            "2ae5690377fb491f95fb7ba6fbad2f2f",
            "ed751ed7ceb84d308d73f5e8f6da5732",
            "2eb3bf102d4f4afbb556561f8abdf9a8",
            "bab44a13b4c3442bb3c9492024e9494a"
          ]
        },
        "outputId": "76a3bbc9-8ab7-4465-826d-afc53b632603"
      },
      "execution_count": 29,
      "outputs": [
        {
          "output_type": "display_data",
          "data": {
            "text/plain": [
              "Downloading (…)lve/main/config.json:   0%|          | 0.00/546 [00:00<?, ?B/s]"
            ],
            "application/vnd.jupyter.widget-view+json": {
              "version_major": 2,
              "version_minor": 0,
              "model_id": "0ffbf8f90f724b019b5ec045ee246e7a"
            }
          },
          "metadata": {}
        },
        {
          "output_type": "display_data",
          "data": {
            "text/plain": [
              "Downloading (…)\"pytorch_model.bin\";:   0%|          | 0.00/443M [00:00<?, ?B/s]"
            ],
            "application/vnd.jupyter.widget-view+json": {
              "version_major": 2,
              "version_minor": 0,
              "model_id": "90fa7d412f5943acaa9f0434778170ef"
            }
          },
          "metadata": {}
        }
      ]
    },
    {
      "cell_type": "code",
      "source": [
        "result"
      ],
      "metadata": {
        "colab": {
          "base_uri": "https://localhost:8080/"
        },
        "id": "59QXHDZyMNlx",
        "outputId": "b162eb27-109b-45c0-9fb2-099e64a3dcaa"
      },
      "execution_count": 30,
      "outputs": [
        {
          "output_type": "execute_result",
          "data": {
            "text/plain": [
              "tensor([[ 0.3844, -0.1820],\n",
              "        [ 0.4085, -0.1985],\n",
              "        [ 0.4116, -0.1793],\n",
              "        [ 0.4070, -0.1682],\n",
              "        [ 0.3877, -0.1602],\n",
              "        [ 0.3821, -0.2148],\n",
              "        [ 0.3955, -0.1609],\n",
              "        [ 0.4285, -0.2139],\n",
              "        [ 0.4197, -0.1930],\n",
              "        [ 0.4493, -0.1887]], grad_fn=<AddmmBackward0>)"
            ]
          },
          "metadata": {},
          "execution_count": 30
        }
      ]
    },
    {
      "cell_type": "code",
      "source": [
        "# fine_model.load_state_dict(torch.load('/content/drive/MyDrive/인공지능/멀티턴응답선택/post_model.bin'))\n",
        "# result2 = fine_model(batch_input_tokens, batch_input_attentions)\n"
      ],
      "metadata": {
        "id": "OkNAu8UjQKiq"
      },
      "execution_count": 31,
      "outputs": []
    },
    {
      "cell_type": "code",
      "source": [
        "# key가 안맞는 부분은 초기화 사용\n",
        "# fine_model = FineModel()\n",
        "fine_model.load_state_dict(torch.load('/content/drive/MyDrive/인공지능/멀티턴응답선택/post_model.bin'), strict=False)"
      ],
      "metadata": {
        "colab": {
          "base_uri": "https://localhost:8080/"
        },
        "id": "RlFa1JzQuild",
        "outputId": "7e275628-d713-4370-9f11-e1618978ac49"
      },
      "execution_count": 32,
      "outputs": [
        {
          "output_type": "execute_result",
          "data": {
            "text/plain": [
              "_IncompatibleKeys(missing_keys=['W2.weight', 'W2.bias'], unexpected_keys=['W.weight', 'W.bias'])"
            ]
          },
          "metadata": {},
          "execution_count": 32
        }
      ]
    },
    {
      "cell_type": "code",
      "source": [
        "result2 = fine_model(batch_input_tokens, batch_input_attentions)\n",
        "result2"
      ],
      "metadata": {
        "colab": {
          "base_uri": "https://localhost:8080/"
        },
        "id": "Xlmf9XVwu4H3",
        "outputId": "f3cfed7b-6699-4101-ab79-156c1e136a02"
      },
      "execution_count": 33,
      "outputs": [
        {
          "output_type": "execute_result",
          "data": {
            "text/plain": [
              "tensor([[ 0.1197, -0.1944],\n",
              "        [ 0.1042,  0.0373],\n",
              "        [-0.1418, -0.1794],\n",
              "        [ 0.1040, -0.0032],\n",
              "        [-0.2196, -0.2352],\n",
              "        [ 0.1223, -0.1943],\n",
              "        [ 0.1872, -0.0718],\n",
              "        [ 0.2275, -0.0715],\n",
              "        [ 0.3380, -0.0444],\n",
              "        [ 0.2661,  0.0124]], grad_fn=<AddmmBackward0>)"
            ]
          },
          "metadata": {},
          "execution_count": 33
        }
      ]
    },
    {
      "cell_type": "markdown",
      "source": [
        "## 학습코드"
      ],
      "metadata": {
        "id": "DigRGss-NeAS"
      }
    },
    {
      "cell_type": "code",
      "source": [
        "from dataset import fine_loader\n",
        "from torch.utils.data import DataLoader\n",
        "train_path ='/content/drive/MyDrive/인공지능/멀티턴응답선택/korean_smile_style_dataset/train.json'\n",
        "train_dataset = fine_loader(train_path)\n",
        "\n",
        "train_dataloader = DataLoader(train_dataset, batch_size=1, shuffle=False, num_workers=4, collate_fn=train_dataset.collate_fn)\n",
        "\n",
        "dev_path = '/content/drive/MyDrive/인공지능/멀티턴응답선택/korean_smile_style_dataset/dev.json'\n",
        "dev_dataset = fine_loader(dev_path)\n",
        "dev_dataloader = DataLoader(dev_dataset, batch_size=1, shuffle=False, num_workers=4, collate_fn=dev_dataset.collate_fn)"
      ],
      "metadata": {
        "id": "RdI-n5fUv0_7"
      },
      "execution_count": 34,
      "outputs": []
    },
    {
      "cell_type": "code",
      "source": [
        "len(train_dataloader), len(dev_dataloader)"
      ],
      "metadata": {
        "colab": {
          "base_uri": "https://localhost:8080/"
        },
        "id": "tfUo2yOTOoQ5",
        "outputId": "b9d79126-002d-401e-b6fc-846e6502768b"
      },
      "execution_count": 35,
      "outputs": [
        {
          "output_type": "execute_result",
          "data": {
            "text/plain": [
              "(3020, 214)"
            ]
          },
          "metadata": {},
          "execution_count": 35
        }
      ]
    },
    {
      "cell_type": "code",
      "source": [
        "import torch\n",
        "from model import FineModel\n",
        "fine_model = FineModel().cuda()\n",
        "fine_model.load_state_dict(torch.load('/content/drive/MyDrive/인공지능/멀티턴응답선택/post_model.bin'), strict=False)"
      ],
      "metadata": {
        "colab": {
          "base_uri": "https://localhost:8080/"
        },
        "id": "jXnwFS8uOurD",
        "outputId": "6b136ddc-c817-433d-9d90-a07f98671666"
      },
      "execution_count": 36,
      "outputs": [
        {
          "output_type": "execute_result",
          "data": {
            "text/plain": [
              "_IncompatibleKeys(missing_keys=['W2.weight', 'W2.bias'], unexpected_keys=['W.weight', 'W.bias'])"
            ]
          },
          "metadata": {},
          "execution_count": 36
        }
      ]
    },
    {
      "cell_type": "code",
      "source": [
        "import torch.nn as nn\n",
        "def CELoss(pred_outs, labels):\n",
        "    \"\"\"\n",
        "        pred_outs : [batch, clsNum]\n",
        "        labels : [batch]\n",
        "    \"\"\"\n",
        "    loss = nn.CrossEntropyLoss()\n",
        "    loss_val = loss(pred_outs, labels)\n",
        "    return loss_val"
      ],
      "metadata": {
        "id": "ojWqva2JO9-7"
      },
      "execution_count": 37,
      "outputs": []
    },
    {
      "cell_type": "code",
      "source": [
        "import torch\n",
        "from transformers import get_linear_schedule_with_warmup\n",
        "from tqdm import tqdm\n",
        "import pdb\n",
        "\n",
        "training_epochs = 5\n",
        "max_grad_norm = 10\n",
        "lr = 1e-5\n",
        "num_training_steps = len(train_dataset)*training_epochs\n",
        "num_warmup_steps = len(train_dataset)\n",
        "optimizer = torch.optim.AdamW(fine_model.parameters(), lr=lr) # , eps=1e-06, weight_decay=0.01\n",
        "scheduler = get_linear_schedule_with_warmup(optimizer, num_warmup_steps=num_warmup_steps, num_training_steps=num_training_steps)\n",
        "\n",
        "for epoch in range(training_epochs):\n",
        "    fine_model.train() \n",
        "    for i_batch, data in enumerate(tqdm(train_dataloader)):\n",
        "        batch_input_tokens, batch_input_attentions, batch_input_labels = data\n",
        "        \n",
        "        batch_input_tokens = batch_input_tokens.cuda()\n",
        "        batch_input_attentions = batch_input_attentions.cuda()\n",
        "        batch_input_labels = batch_input_labels.cuda()\n",
        "        \n",
        "        \"\"\"Prediction\"\"\"\n",
        "        outputs = fine_model(batch_input_tokens, batch_input_attentions)\n",
        "        loss_val = CELoss(outputs, batch_input_labels)\n",
        "        \n",
        "        loss_val.backward()\n",
        "        torch.nn.utils.clip_grad_norm_(fine_model.parameters(), max_grad_norm)\n",
        "        optimizer.step()\n",
        "        scheduler.step()\n",
        "        optimizer.zero_grad()        \n",
        "        break\n",
        "    break"
      ],
      "metadata": {
        "colab": {
          "base_uri": "https://localhost:8080/"
        },
        "id": "6Pr0si8nPaYC",
        "outputId": "a7d6f037-eaf6-4cff-c0d4-7ccdf0434743"
      },
      "execution_count": 38,
      "outputs": [
        {
          "output_type": "stream",
          "name": "stderr",
          "text": [
            "  0%|          | 0/3020 [00:04<?, ?it/s]\n"
          ]
        }
      ]
    },
    {
      "cell_type": "markdown",
      "source": [
        "## 평가방법"
      ],
      "metadata": {
        "id": "3AwCtI1sVt8B"
      }
    },
    {
      "cell_type": "code",
      "source": [
        "## label: [1, 0, 0, 1, 0, 0]\n",
        "## pred:  [1, 0, 1, 0, 1, 0]\n",
        "# precision = 1/3\n",
        "# recall = 1/2\n",
        "# 100명의 입원자가있고 암발생을 검진하는 AI. 실제로는 99명은 암에 안걸렸고 1명이 암걸렸습니다.\n",
        "# 모델입장에서 모두 암에 안걸렸다고 하면? accuracy = 99%\n",
        "# recall = 0/1\n",
        "# 모델입장에서 10명 암에걸렸다고 판단. 이중에는 실제 암환자가 있었다.\n",
        "# precision = 1/10, recall = 1/1\n",
        "\n",
        "# 10개중 9개가 negative 1개가 positive\n",
        "# R10@1: reponse candidate가 10개가 있다. 1이라는 것은 top-1을 보겠다. --> 1/1, 0/1\n",
        "# R10@5: reponse candidate가 10개가 있다. 5이라는 것은 top-5을 보겠다. --> 1/1, 0/1\n",
        "\n",
        "# 10개중 7개가 negative 3개가 positve (Douban은 positive 개수가 매번 달라짐)\n",
        "# R10@1: reponse candidate가 10개가 있다. 1이라는 것은 top-1을 보겠다. --> 1/3, 0/3\n",
        "# P@1: reponse candidate가 10개가 있다. 1이라는 것은 top-1을 보겠다. --> 1/1, 0/1\n",
        "\n",
        "# 결과적으로 이 실습에서는 R@1을 사용할겁니다."
      ],
      "metadata": {
        "id": "Gqctzjb8XTtg"
      },
      "execution_count": 39,
      "outputs": []
    },
    {
      "cell_type": "code",
      "source": [
        "import pdb\n",
        "from torch.nn.functional import softmax\n",
        "def CalP1(fine_model, dataloader):\n",
        "    fine_model.eval()\n",
        "    correct = 0\n",
        "    for i_batch, data in enumerate(tqdm(dataloader, desc='evaluation')):\n",
        "        batch_input_tokens, batch_input_attentions, batch_input_labels = data\n",
        "\n",
        "        batch_input_tokens = batch_input_tokens.cuda()\n",
        "        batch_input_attentions = batch_input_attentions.cuda()\n",
        "        batch_input_labels = batch_input_labels.cuda()\n",
        "\n",
        "        \"\"\" Prediction \"\"\"\n",
        "        outputs = fine_model(batch_input_tokens, batch_input_attentions)\n",
        "        probs = softmax(outputs, 1)\n",
        "        true_probs = probs[:,1] # pisitive에 해당하는 확률률\n",
        "        pred_ind = true_probs.argmax(0).item() # 5개의 후보중 가장 큰 인덱스\n",
        "        gt_ind = batch_input_labels.argmax(0).item() # 레이블에서 가장 큰 인덱스 가져오기\n",
        "        if pred_ind == gt_ind:\n",
        "            correct += 1\n",
        "    return round(correct/len(dataloader)*100, 2)"
      ],
      "metadata": {
        "id": "gkS3RB0gRTOh"
      },
      "execution_count": 40,
      "outputs": []
    },
    {
      "cell_type": "code",
      "source": [
        "CalP1(fine_model, dev_dataloader)"
      ],
      "metadata": {
        "colab": {
          "base_uri": "https://localhost:8080/"
        },
        "id": "xSBB3A7PbPaa",
        "outputId": "f328b39a-e3da-457e-c256-0538a4dc359a"
      },
      "execution_count": 41,
      "outputs": [
        {
          "output_type": "stream",
          "name": "stderr",
          "text": [
            "evaluation: 100%|██████████| 214/214 [00:04<00:00, 51.07it/s]\n"
          ]
        },
        {
          "output_type": "execute_result",
          "data": {
            "text/plain": [
              "75.7"
            ]
          },
          "metadata": {},
          "execution_count": 41
        }
      ]
    },
    {
      "cell_type": "code",
      "source": [
        "import os\n",
        "def SaveModel(model, path):\n",
        "    if not os.path.exists(path):\n",
        "        os.makedirs(path)\n",
        "    torch.save(model.state_dict(), os.path.join(path, '/content/drive/MyDrive/인공지능/멀티턴응답선택/fine_model.bin'))"
      ],
      "metadata": {
        "id": "86tpM4BVbUc2"
      },
      "execution_count": 42,
      "outputs": []
    },
    {
      "cell_type": "markdown",
      "source": [
        "## 최종 학습 코드"
      ],
      "metadata": {
        "id": "O569uu8HagoR"
      }
    },
    {
      "cell_type": "code",
      "source": [
        "\"\"\" 데이터 로딩 \"\"\"\n",
        "from dataset import fine_loader\n",
        "from torch.utils.data import DataLoader\n",
        "train_path ='/content/drive/MyDrive/인공지능/멀티턴응답선택/korean_smile_style_dataset/train.json'\n",
        "train_dataset = fine_loader(train_path)\n",
        "\n",
        "train_dataloader = DataLoader(train_dataset, batch_size=1, shuffle=False, num_workers=4, collate_fn=train_dataset.collate_fn)\n",
        "\n",
        "dev_path = '/content/drive/MyDrive/인공지능/멀티턴응답선택/korean_smile_style_dataset/dev.json'\n",
        "dev_dataset = fine_loader(dev_path)\n",
        "dev_dataloader = DataLoader(dev_dataset, batch_size=1, shuffle=False, num_workers=4, collate_fn=dev_dataset.collate_fn)\n",
        "\"\"\" 모델 로딩 \"\"\"\n",
        "import torch\n",
        "from model import FineModel\n",
        "fine_model = FineModel().cuda()\n",
        "fine_model.load_state_dict(torch.load('/content/drive/MyDrive/인공지능/멀티턴응답선택/post_model.bin'), strict=False)\n",
        "\n",
        "\"\"\" loss 식 \"\"\"\n",
        "import torch.nn as nn\n",
        "def CELoss(pred_outs, labels):\n",
        "    \"\"\"\n",
        "        pred_outs: [batch, clsNum]\n",
        "        labels: [batch]\n",
        "    \"\"\"\n",
        "    loss = nn.CrossEntropyLoss()\n",
        "    loss_val = loss(pred_outs, labels)\n",
        "    return loss_val\n",
        "\n",
        "\"\"\" 평가 \"\"\"\n",
        "from torch.nn.functional import softmax\n",
        "def CalP1(fine_model, dataloader):\n",
        "    fine_model.eval()\n",
        "    correct = 0\n",
        "    for i_batch, data in enumerate(tqdm(dataloader, desc=\"evaluation\")):\n",
        "        batch_input_tokens, batch_input_attentions, batch_input_labels = data\n",
        "        \n",
        "        batch_input_tokens = batch_input_tokens.cuda()\n",
        "        batch_input_attentions = batch_input_attentions.cuda()\n",
        "        batch_input_labels = batch_input_labels.cuda()\n",
        "        \n",
        "        \"\"\"Prediction\"\"\"\n",
        "        outputs = fine_model(batch_input_tokens, batch_input_attentions)    \n",
        "        probs = softmax(outputs, 1)\n",
        "        true_probs = probs[:,1]\n",
        "        pred_ind = true_probs.argmax(0).item()\n",
        "        gt_ind = batch_input_labels.argmax(0).item()\n",
        "        \n",
        "        if pred_ind == gt_ind:\n",
        "            correct += 1\n",
        "    return round(correct/len(dataloader)*100, 2)\n",
        "\n",
        "\"\"\" 모델 저장 \"\"\"\n",
        "import os\n",
        "def SaveModel(model, path):\n",
        "    if not os.path.exists(path):\n",
        "        os.makedirs(path)\n",
        "    torch.save(model.state_dict(), os.path.join(path, '/content/drive/MyDrive/인공지능/멀티턴응답선택/fine_model.bin'))\n",
        "\n",
        "\"\"\" 학습 \"\"\"\n",
        "import torch\n",
        "from transformers import get_linear_schedule_with_warmup\n",
        "from tqdm import tqdm\n",
        "import pdb\n",
        "\n",
        "training_epochs = 5\n",
        "max_grad_norm = 10\n",
        "lr = 1e-6\n",
        "num_training_steps = len(train_dataset)*training_epochs\n",
        "num_warmup_steps = len(train_dataset)\n",
        "optimizer = torch.optim.AdamW(fine_model.parameters(), lr=lr) # , eps=1e-06, weight_decay=0.01\n",
        "scheduler = get_linear_schedule_with_warmup(optimizer, num_warmup_steps=num_warmup_steps, num_training_steps=num_training_steps)\n",
        "\n",
        "best_p1 = 0\n",
        "for epoch in range(training_epochs):\n",
        "    fine_model.train() \n",
        "    for i_batch, data in enumerate(tqdm(train_dataloader)):\n",
        "        batch_input_tokens, batch_input_attentions, batch_input_labels = data\n",
        "        \n",
        "        batch_input_tokens = batch_input_tokens.cuda()\n",
        "        batch_input_attentions = batch_input_attentions.cuda()\n",
        "        batch_input_labels = batch_input_labels.cuda()\n",
        "        \n",
        "        \"\"\"Prediction\"\"\"\n",
        "        outputs = fine_model(batch_input_tokens, batch_input_attentions)\n",
        "        loss_val = CELoss(outputs, batch_input_labels)\n",
        "        \n",
        "        loss_val.backward()\n",
        "        torch.nn.utils.clip_grad_norm_(fine_model.parameters(), max_grad_norm)\n",
        "        optimizer.step()\n",
        "        scheduler.step()\n",
        "        optimizer.zero_grad()\n",
        "        \n",
        "    fine_model.eval()\n",
        "    p1 = CalP1(fine_model, dev_dataloader)\n",
        "    print(f\"Epoch: {epoch}번째 모델 성능(p@1): {p1}\")\n",
        "    if p1 > best_p1:\n",
        "        best_p1 = p1\n",
        "        print(f\"BEST 성능(p@1): {best_p1}\")\n",
        "        SaveModel(fine_model, '.')"
      ],
      "metadata": {
        "colab": {
          "base_uri": "https://localhost:8080/"
        },
        "id": "ZOex1RcWbojY",
        "outputId": "471a918a-01fe-4843-fd11-04c1c2d6cf07"
      },
      "execution_count": 43,
      "outputs": [
        {
          "output_type": "stream",
          "name": "stderr",
          "text": [
            "100%|██████████| 3020/3020 [03:15<00:00, 15.46it/s]\n",
            "evaluation: 100%|██████████| 214/214 [00:03<00:00, 55.54it/s]\n"
          ]
        },
        {
          "output_type": "stream",
          "name": "stdout",
          "text": [
            "Epoch: 0번째 모델 성능(p@1): 93.46\n",
            "BEST 성능(p@1): 93.46\n"
          ]
        },
        {
          "output_type": "stream",
          "name": "stderr",
          "text": [
            "100%|██████████| 3020/3020 [03:16<00:00, 15.36it/s]\n",
            "evaluation: 100%|██████████| 214/214 [00:03<00:00, 54.71it/s]\n"
          ]
        },
        {
          "output_type": "stream",
          "name": "stdout",
          "text": [
            "Epoch: 1번째 모델 성능(p@1): 94.86\n",
            "BEST 성능(p@1): 94.86\n"
          ]
        },
        {
          "output_type": "stream",
          "name": "stderr",
          "text": [
            "100%|██████████| 3020/3020 [03:18<00:00, 15.25it/s]\n",
            "evaluation: 100%|██████████| 214/214 [00:03<00:00, 55.18it/s]\n"
          ]
        },
        {
          "output_type": "stream",
          "name": "stdout",
          "text": [
            "Epoch: 2번째 모델 성능(p@1): 94.39\n"
          ]
        },
        {
          "output_type": "stream",
          "name": "stderr",
          "text": [
            "100%|██████████| 3020/3020 [03:16<00:00, 15.35it/s]\n",
            "evaluation: 100%|██████████| 214/214 [00:03<00:00, 55.50it/s]\n"
          ]
        },
        {
          "output_type": "stream",
          "name": "stdout",
          "text": [
            "Epoch: 3번째 모델 성능(p@1): 94.39\n"
          ]
        },
        {
          "output_type": "stream",
          "name": "stderr",
          "text": [
            "100%|██████████| 3020/3020 [03:16<00:00, 15.39it/s]\n",
            "evaluation: 100%|██████████| 214/214 [00:03<00:00, 55.11it/s]"
          ]
        },
        {
          "output_type": "stream",
          "name": "stdout",
          "text": [
            "Epoch: 4번째 모델 성능(p@1): 94.86\n"
          ]
        },
        {
          "output_type": "stream",
          "name": "stderr",
          "text": [
            "\n"
          ]
        }
      ]
    },
    {
      "cell_type": "code",
      "source": [
        "!touch fine_train.py"
      ],
      "metadata": {
        "id": "a4rQ3qRDc7uV"
      },
      "execution_count": 44,
      "outputs": []
    },
    {
      "cell_type": "code",
      "source": [
        "# !python3 fine_train.py"
      ],
      "metadata": {
        "id": "ag_mnuGXc_da"
      },
      "execution_count": 45,
      "outputs": []
    },
    {
      "cell_type": "markdown",
      "metadata": {
        "id": "Catgf4vtsuJl"
      },
      "source": [
        "# 멀티턴 응답선택 모델 분석하기"
      ]
    },
    {
      "cell_type": "code",
      "execution_count": 47,
      "metadata": {
        "id": "iKULLXShstSn"
      },
      "outputs": [],
      "source": [
        "# # 모델 성능 상펴보기 (R5@1)\n",
        "# ##############################################\n",
        "# Post-training X\n",
        "# BEST 성능(p@1): 91.1214953271028\n",
        "# ##############################################\n",
        "# Post-training O\n",
        "# BEST 성능(p@1): 93.92523364485982"
      ]
    },
    {
      "cell_type": "code",
      "execution_count": null,
      "metadata": {
        "id": "faf434bb-c8e4-4820-bfb8-81132091c5f8"
      },
      "outputs": [],
      "source": [
        "# 테스트 샘플이 랜덤 네거티브로만 샘플링되었기 때문에 비교적 쉬운 상황이라 성능이 높음\n",
        "# positive가 여러 개인 후보일 경우는 P@1 등의 다른 평가메트릭도 같이 보는게 좋음"
      ]
    },
    {
      "cell_type": "markdown",
      "metadata": {
        "id": "ba13cb3b-a85c-4e23-8d6c-eb05a908ac93"
      },
      "source": [
        "## 모델 테스트하기 - 자신만의 입력으로 테스트해보기"
      ]
    },
    {
      "cell_type": "code",
      "source": [
        "# !cp './drive/MyDrive/공부자료/03_패캠교육자료/fine_model.bin' ."
      ],
      "metadata": {
        "id": "2Lkqylm9HtVr"
      },
      "execution_count": null,
      "outputs": []
    },
    {
      "cell_type": "code",
      "execution_count": 48,
      "metadata": {
        "id": "03fc31fc-3ee9-485d-bdeb-a08bef45518e",
        "outputId": "c75549b1-2900-4877-c2d9-79f8c9b5c98a",
        "colab": {
          "base_uri": "https://localhost:8080/"
        }
      },
      "outputs": [
        {
          "output_type": "execute_result",
          "data": {
            "text/plain": [
              "<All keys matched successfully>"
            ]
          },
          "metadata": {},
          "execution_count": 48
        }
      ],
      "source": [
        "\"\"\" 모델 로딩 \"\"\"\n",
        "import torch\n",
        "from model import FineModel\n",
        "fine_model = FineModel().cuda()\n",
        "fine_model.load_state_dict(torch.load('/content/drive/MyDrive/인공지능/멀티턴응답선택/fine_model.bin'))"
      ]
    },
    {
      "cell_type": "code",
      "execution_count": 49,
      "metadata": {
        "id": "52bbf0a4-fe60-4b85-a1d6-e355a98519ee"
      },
      "outputs": [],
      "source": [
        "# 모델이 학습되는 데이터가 너무 적어서 다양한 입력 형태를 반영하기 어렵다.\n",
        "# 컨텍스트는 dev 셋에서 하나의 샘플을 가져옴\n",
        "context = [\"어떤 문제가 있으신가요?\", \"어떤 차를 사야 할지 잘 모르겠어요.\", \"차는 한 번 사면 10년도 넘게 써서, 신중하게 골라야 해요.\"]\n",
        "candidates = [\"저 좀 도와주실 수 있나요?\", \"저는 농구를 좋아합니다.\", \"자동차는 신중히 골라야합니다.\", \"저는 차 마시는거를 좋아합니다.\", \"날씨가 화창합니다.\", \"저는 차를 좋아합니다.\"]"
      ]
    },
    {
      "cell_type": "code",
      "execution_count": 50,
      "metadata": {
        "id": "6feef73c-20fa-4253-8b5f-f62d528cd514"
      },
      "outputs": [],
      "source": [
        "context_token = [fine_model.tokenizer.cls_token_id]\n",
        "for utt in context:\n",
        "    context_token += fine_model.tokenizer.encode(utt, add_special_tokens=False)\n",
        "    context_token += [fine_model.tokenizer.sep_token_id]\n",
        "\n",
        "session_tokens = []    \n",
        "for response in candidates:\n",
        "    response_token = [fine_model.tokenizer.eos_token_id]\n",
        "    response_token += fine_model.tokenizer.encode(response, add_special_tokens=False)\n",
        "    candidate_tokens = context_token + response_token        \n",
        "    session_tokens.append(candidate_tokens)\n",
        "    \n",
        "# 최대 길이 찾기 for padding\n",
        "max_input_len = 0\n",
        "input_tokens_len = [len(x) for x in session_tokens]\n",
        "max_input_len = max(max_input_len, max(input_tokens_len))    \n",
        "    \n",
        "batch_input_tokens = []\n",
        "batch_input_attentions = []\n",
        "for session_token in session_tokens:\n",
        "    input_token = session_token + [fine_model.tokenizer.pad_token_id for _ in range(max_input_len-len(session_token))]\n",
        "    input_attention = [1 for _ in range(len(session_token))] + [0 for _ in range(max_input_len-len(session_token))]\n",
        "    batch_input_tokens.append(input_token)\n",
        "    batch_input_attentions.append(input_attention)\n",
        "    \n",
        "batch_input_tokens = torch.tensor(batch_input_tokens).cuda()\n",
        "batch_input_attentions = torch.tensor(batch_input_attentions).cuda()"
      ]
    },
    {
      "cell_type": "code",
      "execution_count": 51,
      "metadata": {
        "id": "d6a89430-92e3-4c6e-b818-bc7c97e01eb7",
        "outputId": "1c52f2e3-28ab-41ed-8b8e-a238d1eb97ce",
        "colab": {
          "base_uri": "https://localhost:8080/"
        }
      },
      "outputs": [
        {
          "output_type": "execute_result",
          "data": {
            "text/plain": [
              "(torch.Size([6, 53]), torch.Size([6, 53]))"
            ]
          },
          "metadata": {},
          "execution_count": 51
        }
      ],
      "source": [
        "batch_input_tokens.shape, batch_input_attentions.shape"
      ]
    },
    {
      "cell_type": "code",
      "execution_count": 52,
      "metadata": {
        "id": "0ba5ba49-994e-4576-aa34-d0ced261c80e",
        "outputId": "44f76792-be45-490c-a3d3-c91d5ced107b",
        "colab": {
          "base_uri": "https://localhost:8080/"
        }
      },
      "outputs": [
        {
          "output_type": "stream",
          "name": "stdout",
          "text": [
            "['어떤 문제가 있으신가요?', '어떤 차를 사야 할지 잘 모르겠어요.', '차는 한 번 사면 10년도 넘게 써서, 신중하게 골라야 해요.']\n",
            "저 좀 도와주실 수 있나요? ## 0.003\n",
            "저는 농구를 좋아합니다. ## 0.001\n",
            "자동차는 신중히 골라야합니다. ## 0.967\n",
            "저는 차 마시는거를 좋아합니다. ## 0.957\n",
            "날씨가 화창합니다. ## 0.003\n",
            "저는 차를 좋아합니다. ## 0.976\n"
          ]
        }
      ],
      "source": [
        "softmax = torch.nn.Softmax(dim=1)\n",
        "results = fine_model(batch_input_tokens, batch_input_attentions)\n",
        "prob = softmax(results)\n",
        "true_prob = prob[:,1].tolist()\n",
        "\n",
        "print(context)\n",
        "for utt, prob in zip(candidates, true_prob):\n",
        "    print(utt, '##', round(prob,3))"
      ]
    },
    {
      "cell_type": "markdown",
      "source": [
        "## 모델링의 발전 생각해보기"
      ],
      "metadata": {
        "id": "Rj4d9gAqQoiJ"
      }
    },
    {
      "cell_type": "code",
      "execution_count": 53,
      "metadata": {
        "id": "961fbeea-af8f-4f49-87bb-abfc67d4ace4"
      },
      "outputs": [],
      "source": [
        "## 학습 데이터가 현저히 부족하기 때문에 실제 다양한 테스트에 대해 잘 작동하기 어렵다.\n",
        "## 이 테스크는 기본적으로 엄청나게 많은 학습 데이터를 사용하는 것이 일반적 (몇십만개 정도)\n",
        "# ㄴ 이런 것을 해결하기 위해서는 멀티지피유 학습\n",
        "## 학습 데이터와 유사한 톤을 사용하는 것이 좋다.\n",
        "# ㄴ 줄임말, 그 시대만의 용어?\n",
        "## 키워드에따라 bias가 되는 문제는 발생 (이를 해결하기 위한 연구도 존재)\n",
        "#--------------------------------------------------------------------------------#\n",
        "## 실제 화자가 2명만 존재하는 시나리오일까? (3명이상의 다화자 발화인 경우에는?)\n",
        "# ㄴ [CLS] <s1> 발화1 <s2> 발화2 <s1> 발화3 <s3> [SEP] 발화4(candidate)\n",
        "## 현재는 정적 네거티브 샘플링 --> 동적으로 샘플링 or negative 후보 생성하기\n",
        "## 다른 도메인으로의 확장은?\n",
        "## 그래프적인 모델링\n",
        "## 외부지식, 즉 발화의 추가적인 특징을 (토픽, 질문인지 평서문인지 등) 활용할 수 있다면?\n",
        "## 적당한 context 길이를 선정 / 혹은 같은 세션을 판단할 수 있는 모듈이 있다면?\n",
        "## distillation (teacher: 미래의 발화를 활용한 모델)"
      ]
    },
    {
      "cell_type": "code",
      "source": [],
      "metadata": {
        "id": "zDbAhvW9mZgJ"
      },
      "execution_count": null,
      "outputs": []
    }
  ]
}