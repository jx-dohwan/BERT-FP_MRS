{
  "nbformat": 4,
  "nbformat_minor": 0,
  "metadata": {
    "colab": {
      "provenance": [],
      "mount_file_id": "1f95LnlhFI6R17cIcJASiE98AfGy3uuCr",
      "authorship_tag": "ABX9TyN5k9FEumI5F2ZloNa0edQ7",
      "include_colab_link": true
    },
    "kernelspec": {
      "name": "python3",
      "display_name": "Python 3"
    },
    "language_info": {
      "name": "python"
    },
    "widgets": {
      "application/vnd.jupyter.widget-state+json": {
        "813d5a666a6e469395c48669c8fde2dd": {
          "model_module": "@jupyter-widgets/controls",
          "model_name": "HBoxModel",
          "model_module_version": "1.5.0",
          "state": {
            "_dom_classes": [],
            "_model_module": "@jupyter-widgets/controls",
            "_model_module_version": "1.5.0",
            "_model_name": "HBoxModel",
            "_view_count": null,
            "_view_module": "@jupyter-widgets/controls",
            "_view_module_version": "1.5.0",
            "_view_name": "HBoxView",
            "box_style": "",
            "children": [
              "IPY_MODEL_f3233d55c83a4addbde89f9b28a0f51d",
              "IPY_MODEL_fb44e0ae23e24b1a8cb7d2f9e43cedf6",
              "IPY_MODEL_659fa670069144d0a12145abcd3d24ed"
            ],
            "layout": "IPY_MODEL_01cd82e70f024094ba33cfe9c8584f6b"
          }
        },
        "f3233d55c83a4addbde89f9b28a0f51d": {
          "model_module": "@jupyter-widgets/controls",
          "model_name": "HTMLModel",
          "model_module_version": "1.5.0",
          "state": {
            "_dom_classes": [],
            "_model_module": "@jupyter-widgets/controls",
            "_model_module_version": "1.5.0",
            "_model_name": "HTMLModel",
            "_view_count": null,
            "_view_module": "@jupyter-widgets/controls",
            "_view_module_version": "1.5.0",
            "_view_name": "HTMLView",
            "description": "",
            "description_tooltip": null,
            "layout": "IPY_MODEL_afbca8d94d5f4a8490a68b7f57dcedaf",
            "placeholder": "​",
            "style": "IPY_MODEL_a1f315b0d5e84c0f92b9b7afcfef4325",
            "value": "Downloading (…)okenizer_config.json: 100%"
          }
        },
        "fb44e0ae23e24b1a8cb7d2f9e43cedf6": {
          "model_module": "@jupyter-widgets/controls",
          "model_name": "FloatProgressModel",
          "model_module_version": "1.5.0",
          "state": {
            "_dom_classes": [],
            "_model_module": "@jupyter-widgets/controls",
            "_model_module_version": "1.5.0",
            "_model_name": "FloatProgressModel",
            "_view_count": null,
            "_view_module": "@jupyter-widgets/controls",
            "_view_module_version": "1.5.0",
            "_view_name": "ProgressView",
            "bar_style": "success",
            "description": "",
            "description_tooltip": null,
            "layout": "IPY_MODEL_ab079997ae4e4b16b1fe92d98936b662",
            "max": 375,
            "min": 0,
            "orientation": "horizontal",
            "style": "IPY_MODEL_50d39abcf10248bfa223494d4c9af43c",
            "value": 375
          }
        },
        "659fa670069144d0a12145abcd3d24ed": {
          "model_module": "@jupyter-widgets/controls",
          "model_name": "HTMLModel",
          "model_module_version": "1.5.0",
          "state": {
            "_dom_classes": [],
            "_model_module": "@jupyter-widgets/controls",
            "_model_module_version": "1.5.0",
            "_model_name": "HTMLModel",
            "_view_count": null,
            "_view_module": "@jupyter-widgets/controls",
            "_view_module_version": "1.5.0",
            "_view_name": "HTMLView",
            "description": "",
            "description_tooltip": null,
            "layout": "IPY_MODEL_a04cf09f27b44c4c8333b8174e0f83c5",
            "placeholder": "​",
            "style": "IPY_MODEL_2ad0839603884b149df52fb7c920edec",
            "value": " 375/375 [00:00&lt;00:00, 9.33kB/s]"
          }
        },
        "01cd82e70f024094ba33cfe9c8584f6b": {
          "model_module": "@jupyter-widgets/base",
          "model_name": "LayoutModel",
          "model_module_version": "1.2.0",
          "state": {
            "_model_module": "@jupyter-widgets/base",
            "_model_module_version": "1.2.0",
            "_model_name": "LayoutModel",
            "_view_count": null,
            "_view_module": "@jupyter-widgets/base",
            "_view_module_version": "1.2.0",
            "_view_name": "LayoutView",
            "align_content": null,
            "align_items": null,
            "align_self": null,
            "border": null,
            "bottom": null,
            "display": null,
            "flex": null,
            "flex_flow": null,
            "grid_area": null,
            "grid_auto_columns": null,
            "grid_auto_flow": null,
            "grid_auto_rows": null,
            "grid_column": null,
            "grid_gap": null,
            "grid_row": null,
            "grid_template_areas": null,
            "grid_template_columns": null,
            "grid_template_rows": null,
            "height": null,
            "justify_content": null,
            "justify_items": null,
            "left": null,
            "margin": null,
            "max_height": null,
            "max_width": null,
            "min_height": null,
            "min_width": null,
            "object_fit": null,
            "object_position": null,
            "order": null,
            "overflow": null,
            "overflow_x": null,
            "overflow_y": null,
            "padding": null,
            "right": null,
            "top": null,
            "visibility": null,
            "width": null
          }
        },
        "afbca8d94d5f4a8490a68b7f57dcedaf": {
          "model_module": "@jupyter-widgets/base",
          "model_name": "LayoutModel",
          "model_module_version": "1.2.0",
          "state": {
            "_model_module": "@jupyter-widgets/base",
            "_model_module_version": "1.2.0",
            "_model_name": "LayoutModel",
            "_view_count": null,
            "_view_module": "@jupyter-widgets/base",
            "_view_module_version": "1.2.0",
            "_view_name": "LayoutView",
            "align_content": null,
            "align_items": null,
            "align_self": null,
            "border": null,
            "bottom": null,
            "display": null,
            "flex": null,
            "flex_flow": null,
            "grid_area": null,
            "grid_auto_columns": null,
            "grid_auto_flow": null,
            "grid_auto_rows": null,
            "grid_column": null,
            "grid_gap": null,
            "grid_row": null,
            "grid_template_areas": null,
            "grid_template_columns": null,
            "grid_template_rows": null,
            "height": null,
            "justify_content": null,
            "justify_items": null,
            "left": null,
            "margin": null,
            "max_height": null,
            "max_width": null,
            "min_height": null,
            "min_width": null,
            "object_fit": null,
            "object_position": null,
            "order": null,
            "overflow": null,
            "overflow_x": null,
            "overflow_y": null,
            "padding": null,
            "right": null,
            "top": null,
            "visibility": null,
            "width": null
          }
        },
        "a1f315b0d5e84c0f92b9b7afcfef4325": {
          "model_module": "@jupyter-widgets/controls",
          "model_name": "DescriptionStyleModel",
          "model_module_version": "1.5.0",
          "state": {
            "_model_module": "@jupyter-widgets/controls",
            "_model_module_version": "1.5.0",
            "_model_name": "DescriptionStyleModel",
            "_view_count": null,
            "_view_module": "@jupyter-widgets/base",
            "_view_module_version": "1.2.0",
            "_view_name": "StyleView",
            "description_width": ""
          }
        },
        "ab079997ae4e4b16b1fe92d98936b662": {
          "model_module": "@jupyter-widgets/base",
          "model_name": "LayoutModel",
          "model_module_version": "1.2.0",
          "state": {
            "_model_module": "@jupyter-widgets/base",
            "_model_module_version": "1.2.0",
            "_model_name": "LayoutModel",
            "_view_count": null,
            "_view_module": "@jupyter-widgets/base",
            "_view_module_version": "1.2.0",
            "_view_name": "LayoutView",
            "align_content": null,
            "align_items": null,
            "align_self": null,
            "border": null,
            "bottom": null,
            "display": null,
            "flex": null,
            "flex_flow": null,
            "grid_area": null,
            "grid_auto_columns": null,
            "grid_auto_flow": null,
            "grid_auto_rows": null,
            "grid_column": null,
            "grid_gap": null,
            "grid_row": null,
            "grid_template_areas": null,
            "grid_template_columns": null,
            "grid_template_rows": null,
            "height": null,
            "justify_content": null,
            "justify_items": null,
            "left": null,
            "margin": null,
            "max_height": null,
            "max_width": null,
            "min_height": null,
            "min_width": null,
            "object_fit": null,
            "object_position": null,
            "order": null,
            "overflow": null,
            "overflow_x": null,
            "overflow_y": null,
            "padding": null,
            "right": null,
            "top": null,
            "visibility": null,
            "width": null
          }
        },
        "50d39abcf10248bfa223494d4c9af43c": {
          "model_module": "@jupyter-widgets/controls",
          "model_name": "ProgressStyleModel",
          "model_module_version": "1.5.0",
          "state": {
            "_model_module": "@jupyter-widgets/controls",
            "_model_module_version": "1.5.0",
            "_model_name": "ProgressStyleModel",
            "_view_count": null,
            "_view_module": "@jupyter-widgets/base",
            "_view_module_version": "1.2.0",
            "_view_name": "StyleView",
            "bar_color": null,
            "description_width": ""
          }
        },
        "a04cf09f27b44c4c8333b8174e0f83c5": {
          "model_module": "@jupyter-widgets/base",
          "model_name": "LayoutModel",
          "model_module_version": "1.2.0",
          "state": {
            "_model_module": "@jupyter-widgets/base",
            "_model_module_version": "1.2.0",
            "_model_name": "LayoutModel",
            "_view_count": null,
            "_view_module": "@jupyter-widgets/base",
            "_view_module_version": "1.2.0",
            "_view_name": "LayoutView",
            "align_content": null,
            "align_items": null,
            "align_self": null,
            "border": null,
            "bottom": null,
            "display": null,
            "flex": null,
            "flex_flow": null,
            "grid_area": null,
            "grid_auto_columns": null,
            "grid_auto_flow": null,
            "grid_auto_rows": null,
            "grid_column": null,
            "grid_gap": null,
            "grid_row": null,
            "grid_template_areas": null,
            "grid_template_columns": null,
            "grid_template_rows": null,
            "height": null,
            "justify_content": null,
            "justify_items": null,
            "left": null,
            "margin": null,
            "max_height": null,
            "max_width": null,
            "min_height": null,
            "min_width": null,
            "object_fit": null,
            "object_position": null,
            "order": null,
            "overflow": null,
            "overflow_x": null,
            "overflow_y": null,
            "padding": null,
            "right": null,
            "top": null,
            "visibility": null,
            "width": null
          }
        },
        "2ad0839603884b149df52fb7c920edec": {
          "model_module": "@jupyter-widgets/controls",
          "model_name": "DescriptionStyleModel",
          "model_module_version": "1.5.0",
          "state": {
            "_model_module": "@jupyter-widgets/controls",
            "_model_module_version": "1.5.0",
            "_model_name": "DescriptionStyleModel",
            "_view_count": null,
            "_view_module": "@jupyter-widgets/base",
            "_view_module_version": "1.2.0",
            "_view_name": "StyleView",
            "description_width": ""
          }
        },
        "a73c132585404b2d9d12cea5e6081393": {
          "model_module": "@jupyter-widgets/controls",
          "model_name": "HBoxModel",
          "model_module_version": "1.5.0",
          "state": {
            "_dom_classes": [],
            "_model_module": "@jupyter-widgets/controls",
            "_model_module_version": "1.5.0",
            "_model_name": "HBoxModel",
            "_view_count": null,
            "_view_module": "@jupyter-widgets/controls",
            "_view_module_version": "1.5.0",
            "_view_name": "HBoxView",
            "box_style": "",
            "children": [
              "IPY_MODEL_5d8cf48c6b6f419cbc9f704debadb9bb",
              "IPY_MODEL_44528bae9f6d4ffd9c8cd4d8b8940fcf",
              "IPY_MODEL_ab8b194eeaa54481b64395a7bc7e7ec9"
            ],
            "layout": "IPY_MODEL_c9b998c5c3d54434bff0f171d7c8858d"
          }
        },
        "5d8cf48c6b6f419cbc9f704debadb9bb": {
          "model_module": "@jupyter-widgets/controls",
          "model_name": "HTMLModel",
          "model_module_version": "1.5.0",
          "state": {
            "_dom_classes": [],
            "_model_module": "@jupyter-widgets/controls",
            "_model_module_version": "1.5.0",
            "_model_name": "HTMLModel",
            "_view_count": null,
            "_view_module": "@jupyter-widgets/controls",
            "_view_module_version": "1.5.0",
            "_view_name": "HTMLView",
            "description": "",
            "description_tooltip": null,
            "layout": "IPY_MODEL_0d9cbcf7ca7446fa946d2987c23ff227",
            "placeholder": "​",
            "style": "IPY_MODEL_825fe0476d4f47d78820995016afbfb9",
            "value": "Downloading (…)solve/main/vocab.txt: 100%"
          }
        },
        "44528bae9f6d4ffd9c8cd4d8b8940fcf": {
          "model_module": "@jupyter-widgets/controls",
          "model_name": "FloatProgressModel",
          "model_module_version": "1.5.0",
          "state": {
            "_dom_classes": [],
            "_model_module": "@jupyter-widgets/controls",
            "_model_module_version": "1.5.0",
            "_model_name": "FloatProgressModel",
            "_view_count": null,
            "_view_module": "@jupyter-widgets/controls",
            "_view_module_version": "1.5.0",
            "_view_name": "ProgressView",
            "bar_style": "success",
            "description": "",
            "description_tooltip": null,
            "layout": "IPY_MODEL_3586b8d7292940d29df336ebebb1f76e",
            "max": 248477,
            "min": 0,
            "orientation": "horizontal",
            "style": "IPY_MODEL_39aaf982ddc64e1881433fed4d864498",
            "value": 248477
          }
        },
        "ab8b194eeaa54481b64395a7bc7e7ec9": {
          "model_module": "@jupyter-widgets/controls",
          "model_name": "HTMLModel",
          "model_module_version": "1.5.0",
          "state": {
            "_dom_classes": [],
            "_model_module": "@jupyter-widgets/controls",
            "_model_module_version": "1.5.0",
            "_model_name": "HTMLModel",
            "_view_count": null,
            "_view_module": "@jupyter-widgets/controls",
            "_view_module_version": "1.5.0",
            "_view_name": "HTMLView",
            "description": "",
            "description_tooltip": null,
            "layout": "IPY_MODEL_a9020b528ef8444ea1921999da590bf1",
            "placeholder": "​",
            "style": "IPY_MODEL_f088f0447d8844cfbeeaafcb3dd572c7",
            "value": " 248k/248k [00:00&lt;00:00, 2.39MB/s]"
          }
        },
        "c9b998c5c3d54434bff0f171d7c8858d": {
          "model_module": "@jupyter-widgets/base",
          "model_name": "LayoutModel",
          "model_module_version": "1.2.0",
          "state": {
            "_model_module": "@jupyter-widgets/base",
            "_model_module_version": "1.2.0",
            "_model_name": "LayoutModel",
            "_view_count": null,
            "_view_module": "@jupyter-widgets/base",
            "_view_module_version": "1.2.0",
            "_view_name": "LayoutView",
            "align_content": null,
            "align_items": null,
            "align_self": null,
            "border": null,
            "bottom": null,
            "display": null,
            "flex": null,
            "flex_flow": null,
            "grid_area": null,
            "grid_auto_columns": null,
            "grid_auto_flow": null,
            "grid_auto_rows": null,
            "grid_column": null,
            "grid_gap": null,
            "grid_row": null,
            "grid_template_areas": null,
            "grid_template_columns": null,
            "grid_template_rows": null,
            "height": null,
            "justify_content": null,
            "justify_items": null,
            "left": null,
            "margin": null,
            "max_height": null,
            "max_width": null,
            "min_height": null,
            "min_width": null,
            "object_fit": null,
            "object_position": null,
            "order": null,
            "overflow": null,
            "overflow_x": null,
            "overflow_y": null,
            "padding": null,
            "right": null,
            "top": null,
            "visibility": null,
            "width": null
          }
        },
        "0d9cbcf7ca7446fa946d2987c23ff227": {
          "model_module": "@jupyter-widgets/base",
          "model_name": "LayoutModel",
          "model_module_version": "1.2.0",
          "state": {
            "_model_module": "@jupyter-widgets/base",
            "_model_module_version": "1.2.0",
            "_model_name": "LayoutModel",
            "_view_count": null,
            "_view_module": "@jupyter-widgets/base",
            "_view_module_version": "1.2.0",
            "_view_name": "LayoutView",
            "align_content": null,
            "align_items": null,
            "align_self": null,
            "border": null,
            "bottom": null,
            "display": null,
            "flex": null,
            "flex_flow": null,
            "grid_area": null,
            "grid_auto_columns": null,
            "grid_auto_flow": null,
            "grid_auto_rows": null,
            "grid_column": null,
            "grid_gap": null,
            "grid_row": null,
            "grid_template_areas": null,
            "grid_template_columns": null,
            "grid_template_rows": null,
            "height": null,
            "justify_content": null,
            "justify_items": null,
            "left": null,
            "margin": null,
            "max_height": null,
            "max_width": null,
            "min_height": null,
            "min_width": null,
            "object_fit": null,
            "object_position": null,
            "order": null,
            "overflow": null,
            "overflow_x": null,
            "overflow_y": null,
            "padding": null,
            "right": null,
            "top": null,
            "visibility": null,
            "width": null
          }
        },
        "825fe0476d4f47d78820995016afbfb9": {
          "model_module": "@jupyter-widgets/controls",
          "model_name": "DescriptionStyleModel",
          "model_module_version": "1.5.0",
          "state": {
            "_model_module": "@jupyter-widgets/controls",
            "_model_module_version": "1.5.0",
            "_model_name": "DescriptionStyleModel",
            "_view_count": null,
            "_view_module": "@jupyter-widgets/base",
            "_view_module_version": "1.2.0",
            "_view_name": "StyleView",
            "description_width": ""
          }
        },
        "3586b8d7292940d29df336ebebb1f76e": {
          "model_module": "@jupyter-widgets/base",
          "model_name": "LayoutModel",
          "model_module_version": "1.2.0",
          "state": {
            "_model_module": "@jupyter-widgets/base",
            "_model_module_version": "1.2.0",
            "_model_name": "LayoutModel",
            "_view_count": null,
            "_view_module": "@jupyter-widgets/base",
            "_view_module_version": "1.2.0",
            "_view_name": "LayoutView",
            "align_content": null,
            "align_items": null,
            "align_self": null,
            "border": null,
            "bottom": null,
            "display": null,
            "flex": null,
            "flex_flow": null,
            "grid_area": null,
            "grid_auto_columns": null,
            "grid_auto_flow": null,
            "grid_auto_rows": null,
            "grid_column": null,
            "grid_gap": null,
            "grid_row": null,
            "grid_template_areas": null,
            "grid_template_columns": null,
            "grid_template_rows": null,
            "height": null,
            "justify_content": null,
            "justify_items": null,
            "left": null,
            "margin": null,
            "max_height": null,
            "max_width": null,
            "min_height": null,
            "min_width": null,
            "object_fit": null,
            "object_position": null,
            "order": null,
            "overflow": null,
            "overflow_x": null,
            "overflow_y": null,
            "padding": null,
            "right": null,
            "top": null,
            "visibility": null,
            "width": null
          }
        },
        "39aaf982ddc64e1881433fed4d864498": {
          "model_module": "@jupyter-widgets/controls",
          "model_name": "ProgressStyleModel",
          "model_module_version": "1.5.0",
          "state": {
            "_model_module": "@jupyter-widgets/controls",
            "_model_module_version": "1.5.0",
            "_model_name": "ProgressStyleModel",
            "_view_count": null,
            "_view_module": "@jupyter-widgets/base",
            "_view_module_version": "1.2.0",
            "_view_name": "StyleView",
            "bar_color": null,
            "description_width": ""
          }
        },
        "a9020b528ef8444ea1921999da590bf1": {
          "model_module": "@jupyter-widgets/base",
          "model_name": "LayoutModel",
          "model_module_version": "1.2.0",
          "state": {
            "_model_module": "@jupyter-widgets/base",
            "_model_module_version": "1.2.0",
            "_model_name": "LayoutModel",
            "_view_count": null,
            "_view_module": "@jupyter-widgets/base",
            "_view_module_version": "1.2.0",
            "_view_name": "LayoutView",
            "align_content": null,
            "align_items": null,
            "align_self": null,
            "border": null,
            "bottom": null,
            "display": null,
            "flex": null,
            "flex_flow": null,
            "grid_area": null,
            "grid_auto_columns": null,
            "grid_auto_flow": null,
            "grid_auto_rows": null,
            "grid_column": null,
            "grid_gap": null,
            "grid_row": null,
            "grid_template_areas": null,
            "grid_template_columns": null,
            "grid_template_rows": null,
            "height": null,
            "justify_content": null,
            "justify_items": null,
            "left": null,
            "margin": null,
            "max_height": null,
            "max_width": null,
            "min_height": null,
            "min_width": null,
            "object_fit": null,
            "object_position": null,
            "order": null,
            "overflow": null,
            "overflow_x": null,
            "overflow_y": null,
            "padding": null,
            "right": null,
            "top": null,
            "visibility": null,
            "width": null
          }
        },
        "f088f0447d8844cfbeeaafcb3dd572c7": {
          "model_module": "@jupyter-widgets/controls",
          "model_name": "DescriptionStyleModel",
          "model_module_version": "1.5.0",
          "state": {
            "_model_module": "@jupyter-widgets/controls",
            "_model_module_version": "1.5.0",
            "_model_name": "DescriptionStyleModel",
            "_view_count": null,
            "_view_module": "@jupyter-widgets/base",
            "_view_module_version": "1.2.0",
            "_view_name": "StyleView",
            "description_width": ""
          }
        },
        "75c67cc09c1d4d67858d3cd1b8504157": {
          "model_module": "@jupyter-widgets/controls",
          "model_name": "HBoxModel",
          "model_module_version": "1.5.0",
          "state": {
            "_dom_classes": [],
            "_model_module": "@jupyter-widgets/controls",
            "_model_module_version": "1.5.0",
            "_model_name": "HBoxModel",
            "_view_count": null,
            "_view_module": "@jupyter-widgets/controls",
            "_view_module_version": "1.5.0",
            "_view_name": "HBoxView",
            "box_style": "",
            "children": [
              "IPY_MODEL_2aad52b845924fc6b8e2da59e891dbf6",
              "IPY_MODEL_b33d07531fe54f0891f02ddbb8270466",
              "IPY_MODEL_0c63d7e48b154064a38b391964084a8b"
            ],
            "layout": "IPY_MODEL_324df8d169264596a0cc9f0faab6ad05"
          }
        },
        "2aad52b845924fc6b8e2da59e891dbf6": {
          "model_module": "@jupyter-widgets/controls",
          "model_name": "HTMLModel",
          "model_module_version": "1.5.0",
          "state": {
            "_dom_classes": [],
            "_model_module": "@jupyter-widgets/controls",
            "_model_module_version": "1.5.0",
            "_model_name": "HTMLModel",
            "_view_count": null,
            "_view_module": "@jupyter-widgets/controls",
            "_view_module_version": "1.5.0",
            "_view_name": "HTMLView",
            "description": "",
            "description_tooltip": null,
            "layout": "IPY_MODEL_f6d094cfe1e8474e85b8bf1003927d14",
            "placeholder": "​",
            "style": "IPY_MODEL_0316b8aff2284448b105349fbe0e3217",
            "value": "Downloading (…)/main/tokenizer.json: 100%"
          }
        },
        "b33d07531fe54f0891f02ddbb8270466": {
          "model_module": "@jupyter-widgets/controls",
          "model_name": "FloatProgressModel",
          "model_module_version": "1.5.0",
          "state": {
            "_dom_classes": [],
            "_model_module": "@jupyter-widgets/controls",
            "_model_module_version": "1.5.0",
            "_model_name": "FloatProgressModel",
            "_view_count": null,
            "_view_module": "@jupyter-widgets/controls",
            "_view_module_version": "1.5.0",
            "_view_name": "ProgressView",
            "bar_style": "success",
            "description": "",
            "description_tooltip": null,
            "layout": "IPY_MODEL_22af0b74291d4e5a9417adf7ae40e97c",
            "max": 751504,
            "min": 0,
            "orientation": "horizontal",
            "style": "IPY_MODEL_c6728314605f42558b7a329c5f5090c1",
            "value": 751504
          }
        },
        "0c63d7e48b154064a38b391964084a8b": {
          "model_module": "@jupyter-widgets/controls",
          "model_name": "HTMLModel",
          "model_module_version": "1.5.0",
          "state": {
            "_dom_classes": [],
            "_model_module": "@jupyter-widgets/controls",
            "_model_module_version": "1.5.0",
            "_model_name": "HTMLModel",
            "_view_count": null,
            "_view_module": "@jupyter-widgets/controls",
            "_view_module_version": "1.5.0",
            "_view_name": "HTMLView",
            "description": "",
            "description_tooltip": null,
            "layout": "IPY_MODEL_0ff2ad48aa6b4c8b9665f6ca12fdc280",
            "placeholder": "​",
            "style": "IPY_MODEL_d12d458f6eea4aa4bcb8be4f77c6aa34",
            "value": " 752k/752k [00:00&lt;00:00, 5.11MB/s]"
          }
        },
        "324df8d169264596a0cc9f0faab6ad05": {
          "model_module": "@jupyter-widgets/base",
          "model_name": "LayoutModel",
          "model_module_version": "1.2.0",
          "state": {
            "_model_module": "@jupyter-widgets/base",
            "_model_module_version": "1.2.0",
            "_model_name": "LayoutModel",
            "_view_count": null,
            "_view_module": "@jupyter-widgets/base",
            "_view_module_version": "1.2.0",
            "_view_name": "LayoutView",
            "align_content": null,
            "align_items": null,
            "align_self": null,
            "border": null,
            "bottom": null,
            "display": null,
            "flex": null,
            "flex_flow": null,
            "grid_area": null,
            "grid_auto_columns": null,
            "grid_auto_flow": null,
            "grid_auto_rows": null,
            "grid_column": null,
            "grid_gap": null,
            "grid_row": null,
            "grid_template_areas": null,
            "grid_template_columns": null,
            "grid_template_rows": null,
            "height": null,
            "justify_content": null,
            "justify_items": null,
            "left": null,
            "margin": null,
            "max_height": null,
            "max_width": null,
            "min_height": null,
            "min_width": null,
            "object_fit": null,
            "object_position": null,
            "order": null,
            "overflow": null,
            "overflow_x": null,
            "overflow_y": null,
            "padding": null,
            "right": null,
            "top": null,
            "visibility": null,
            "width": null
          }
        },
        "f6d094cfe1e8474e85b8bf1003927d14": {
          "model_module": "@jupyter-widgets/base",
          "model_name": "LayoutModel",
          "model_module_version": "1.2.0",
          "state": {
            "_model_module": "@jupyter-widgets/base",
            "_model_module_version": "1.2.0",
            "_model_name": "LayoutModel",
            "_view_count": null,
            "_view_module": "@jupyter-widgets/base",
            "_view_module_version": "1.2.0",
            "_view_name": "LayoutView",
            "align_content": null,
            "align_items": null,
            "align_self": null,
            "border": null,
            "bottom": null,
            "display": null,
            "flex": null,
            "flex_flow": null,
            "grid_area": null,
            "grid_auto_columns": null,
            "grid_auto_flow": null,
            "grid_auto_rows": null,
            "grid_column": null,
            "grid_gap": null,
            "grid_row": null,
            "grid_template_areas": null,
            "grid_template_columns": null,
            "grid_template_rows": null,
            "height": null,
            "justify_content": null,
            "justify_items": null,
            "left": null,
            "margin": null,
            "max_height": null,
            "max_width": null,
            "min_height": null,
            "min_width": null,
            "object_fit": null,
            "object_position": null,
            "order": null,
            "overflow": null,
            "overflow_x": null,
            "overflow_y": null,
            "padding": null,
            "right": null,
            "top": null,
            "visibility": null,
            "width": null
          }
        },
        "0316b8aff2284448b105349fbe0e3217": {
          "model_module": "@jupyter-widgets/controls",
          "model_name": "DescriptionStyleModel",
          "model_module_version": "1.5.0",
          "state": {
            "_model_module": "@jupyter-widgets/controls",
            "_model_module_version": "1.5.0",
            "_model_name": "DescriptionStyleModel",
            "_view_count": null,
            "_view_module": "@jupyter-widgets/base",
            "_view_module_version": "1.2.0",
            "_view_name": "StyleView",
            "description_width": ""
          }
        },
        "22af0b74291d4e5a9417adf7ae40e97c": {
          "model_module": "@jupyter-widgets/base",
          "model_name": "LayoutModel",
          "model_module_version": "1.2.0",
          "state": {
            "_model_module": "@jupyter-widgets/base",
            "_model_module_version": "1.2.0",
            "_model_name": "LayoutModel",
            "_view_count": null,
            "_view_module": "@jupyter-widgets/base",
            "_view_module_version": "1.2.0",
            "_view_name": "LayoutView",
            "align_content": null,
            "align_items": null,
            "align_self": null,
            "border": null,
            "bottom": null,
            "display": null,
            "flex": null,
            "flex_flow": null,
            "grid_area": null,
            "grid_auto_columns": null,
            "grid_auto_flow": null,
            "grid_auto_rows": null,
            "grid_column": null,
            "grid_gap": null,
            "grid_row": null,
            "grid_template_areas": null,
            "grid_template_columns": null,
            "grid_template_rows": null,
            "height": null,
            "justify_content": null,
            "justify_items": null,
            "left": null,
            "margin": null,
            "max_height": null,
            "max_width": null,
            "min_height": null,
            "min_width": null,
            "object_fit": null,
            "object_position": null,
            "order": null,
            "overflow": null,
            "overflow_x": null,
            "overflow_y": null,
            "padding": null,
            "right": null,
            "top": null,
            "visibility": null,
            "width": null
          }
        },
        "c6728314605f42558b7a329c5f5090c1": {
          "model_module": "@jupyter-widgets/controls",
          "model_name": "ProgressStyleModel",
          "model_module_version": "1.5.0",
          "state": {
            "_model_module": "@jupyter-widgets/controls",
            "_model_module_version": "1.5.0",
            "_model_name": "ProgressStyleModel",
            "_view_count": null,
            "_view_module": "@jupyter-widgets/base",
            "_view_module_version": "1.2.0",
            "_view_name": "StyleView",
            "bar_color": null,
            "description_width": ""
          }
        },
        "0ff2ad48aa6b4c8b9665f6ca12fdc280": {
          "model_module": "@jupyter-widgets/base",
          "model_name": "LayoutModel",
          "model_module_version": "1.2.0",
          "state": {
            "_model_module": "@jupyter-widgets/base",
            "_model_module_version": "1.2.0",
            "_model_name": "LayoutModel",
            "_view_count": null,
            "_view_module": "@jupyter-widgets/base",
            "_view_module_version": "1.2.0",
            "_view_name": "LayoutView",
            "align_content": null,
            "align_items": null,
            "align_self": null,
            "border": null,
            "bottom": null,
            "display": null,
            "flex": null,
            "flex_flow": null,
            "grid_area": null,
            "grid_auto_columns": null,
            "grid_auto_flow": null,
            "grid_auto_rows": null,
            "grid_column": null,
            "grid_gap": null,
            "grid_row": null,
            "grid_template_areas": null,
            "grid_template_columns": null,
            "grid_template_rows": null,
            "height": null,
            "justify_content": null,
            "justify_items": null,
            "left": null,
            "margin": null,
            "max_height": null,
            "max_width": null,
            "min_height": null,
            "min_width": null,
            "object_fit": null,
            "object_position": null,
            "order": null,
            "overflow": null,
            "overflow_x": null,
            "overflow_y": null,
            "padding": null,
            "right": null,
            "top": null,
            "visibility": null,
            "width": null
          }
        },
        "d12d458f6eea4aa4bcb8be4f77c6aa34": {
          "model_module": "@jupyter-widgets/controls",
          "model_name": "DescriptionStyleModel",
          "model_module_version": "1.5.0",
          "state": {
            "_model_module": "@jupyter-widgets/controls",
            "_model_module_version": "1.5.0",
            "_model_name": "DescriptionStyleModel",
            "_view_count": null,
            "_view_module": "@jupyter-widgets/base",
            "_view_module_version": "1.2.0",
            "_view_name": "StyleView",
            "description_width": ""
          }
        },
        "bed7c8b85dd9445fb954b0f1d97e8fc2": {
          "model_module": "@jupyter-widgets/controls",
          "model_name": "HBoxModel",
          "model_module_version": "1.5.0",
          "state": {
            "_dom_classes": [],
            "_model_module": "@jupyter-widgets/controls",
            "_model_module_version": "1.5.0",
            "_model_name": "HBoxModel",
            "_view_count": null,
            "_view_module": "@jupyter-widgets/controls",
            "_view_module_version": "1.5.0",
            "_view_name": "HBoxView",
            "box_style": "",
            "children": [
              "IPY_MODEL_0d0ca840cb154970a21c823415172d5d",
              "IPY_MODEL_26ffacee051845638140212bd68b6b47",
              "IPY_MODEL_cb0b9894cc744ea581bb7a31e0915cb8"
            ],
            "layout": "IPY_MODEL_af520a1ce35346d18701259ed6d8f468"
          }
        },
        "0d0ca840cb154970a21c823415172d5d": {
          "model_module": "@jupyter-widgets/controls",
          "model_name": "HTMLModel",
          "model_module_version": "1.5.0",
          "state": {
            "_dom_classes": [],
            "_model_module": "@jupyter-widgets/controls",
            "_model_module_version": "1.5.0",
            "_model_name": "HTMLModel",
            "_view_count": null,
            "_view_module": "@jupyter-widgets/controls",
            "_view_module_version": "1.5.0",
            "_view_name": "HTMLView",
            "description": "",
            "description_tooltip": null,
            "layout": "IPY_MODEL_1bac60a3105e437aaaecd55ad2396c1d",
            "placeholder": "​",
            "style": "IPY_MODEL_93c47c5533754a0b8797571b5e1c0979",
            "value": "Downloading (…)cial_tokens_map.json: 100%"
          }
        },
        "26ffacee051845638140212bd68b6b47": {
          "model_module": "@jupyter-widgets/controls",
          "model_name": "FloatProgressModel",
          "model_module_version": "1.5.0",
          "state": {
            "_dom_classes": [],
            "_model_module": "@jupyter-widgets/controls",
            "_model_module_version": "1.5.0",
            "_model_name": "FloatProgressModel",
            "_view_count": null,
            "_view_module": "@jupyter-widgets/controls",
            "_view_module_version": "1.5.0",
            "_view_name": "ProgressView",
            "bar_style": "success",
            "description": "",
            "description_tooltip": null,
            "layout": "IPY_MODEL_835d64a0fb764fbda42d988dd0089779",
            "max": 173,
            "min": 0,
            "orientation": "horizontal",
            "style": "IPY_MODEL_60c08c7976b9497a8ed5a7429e8436b2",
            "value": 173
          }
        },
        "cb0b9894cc744ea581bb7a31e0915cb8": {
          "model_module": "@jupyter-widgets/controls",
          "model_name": "HTMLModel",
          "model_module_version": "1.5.0",
          "state": {
            "_dom_classes": [],
            "_model_module": "@jupyter-widgets/controls",
            "_model_module_version": "1.5.0",
            "_model_name": "HTMLModel",
            "_view_count": null,
            "_view_module": "@jupyter-widgets/controls",
            "_view_module_version": "1.5.0",
            "_view_name": "HTMLView",
            "description": "",
            "description_tooltip": null,
            "layout": "IPY_MODEL_7b0c051b22fc487490be9c0527b4a091",
            "placeholder": "​",
            "style": "IPY_MODEL_bc6eff2f496f41a2aa0069a665d70d75",
            "value": " 173/173 [00:00&lt;00:00, 1.74kB/s]"
          }
        },
        "af520a1ce35346d18701259ed6d8f468": {
          "model_module": "@jupyter-widgets/base",
          "model_name": "LayoutModel",
          "model_module_version": "1.2.0",
          "state": {
            "_model_module": "@jupyter-widgets/base",
            "_model_module_version": "1.2.0",
            "_model_name": "LayoutModel",
            "_view_count": null,
            "_view_module": "@jupyter-widgets/base",
            "_view_module_version": "1.2.0",
            "_view_name": "LayoutView",
            "align_content": null,
            "align_items": null,
            "align_self": null,
            "border": null,
            "bottom": null,
            "display": null,
            "flex": null,
            "flex_flow": null,
            "grid_area": null,
            "grid_auto_columns": null,
            "grid_auto_flow": null,
            "grid_auto_rows": null,
            "grid_column": null,
            "grid_gap": null,
            "grid_row": null,
            "grid_template_areas": null,
            "grid_template_columns": null,
            "grid_template_rows": null,
            "height": null,
            "justify_content": null,
            "justify_items": null,
            "left": null,
            "margin": null,
            "max_height": null,
            "max_width": null,
            "min_height": null,
            "min_width": null,
            "object_fit": null,
            "object_position": null,
            "order": null,
            "overflow": null,
            "overflow_x": null,
            "overflow_y": null,
            "padding": null,
            "right": null,
            "top": null,
            "visibility": null,
            "width": null
          }
        },
        "1bac60a3105e437aaaecd55ad2396c1d": {
          "model_module": "@jupyter-widgets/base",
          "model_name": "LayoutModel",
          "model_module_version": "1.2.0",
          "state": {
            "_model_module": "@jupyter-widgets/base",
            "_model_module_version": "1.2.0",
            "_model_name": "LayoutModel",
            "_view_count": null,
            "_view_module": "@jupyter-widgets/base",
            "_view_module_version": "1.2.0",
            "_view_name": "LayoutView",
            "align_content": null,
            "align_items": null,
            "align_self": null,
            "border": null,
            "bottom": null,
            "display": null,
            "flex": null,
            "flex_flow": null,
            "grid_area": null,
            "grid_auto_columns": null,
            "grid_auto_flow": null,
            "grid_auto_rows": null,
            "grid_column": null,
            "grid_gap": null,
            "grid_row": null,
            "grid_template_areas": null,
            "grid_template_columns": null,
            "grid_template_rows": null,
            "height": null,
            "justify_content": null,
            "justify_items": null,
            "left": null,
            "margin": null,
            "max_height": null,
            "max_width": null,
            "min_height": null,
            "min_width": null,
            "object_fit": null,
            "object_position": null,
            "order": null,
            "overflow": null,
            "overflow_x": null,
            "overflow_y": null,
            "padding": null,
            "right": null,
            "top": null,
            "visibility": null,
            "width": null
          }
        },
        "93c47c5533754a0b8797571b5e1c0979": {
          "model_module": "@jupyter-widgets/controls",
          "model_name": "DescriptionStyleModel",
          "model_module_version": "1.5.0",
          "state": {
            "_model_module": "@jupyter-widgets/controls",
            "_model_module_version": "1.5.0",
            "_model_name": "DescriptionStyleModel",
            "_view_count": null,
            "_view_module": "@jupyter-widgets/base",
            "_view_module_version": "1.2.0",
            "_view_name": "StyleView",
            "description_width": ""
          }
        },
        "835d64a0fb764fbda42d988dd0089779": {
          "model_module": "@jupyter-widgets/base",
          "model_name": "LayoutModel",
          "model_module_version": "1.2.0",
          "state": {
            "_model_module": "@jupyter-widgets/base",
            "_model_module_version": "1.2.0",
            "_model_name": "LayoutModel",
            "_view_count": null,
            "_view_module": "@jupyter-widgets/base",
            "_view_module_version": "1.2.0",
            "_view_name": "LayoutView",
            "align_content": null,
            "align_items": null,
            "align_self": null,
            "border": null,
            "bottom": null,
            "display": null,
            "flex": null,
            "flex_flow": null,
            "grid_area": null,
            "grid_auto_columns": null,
            "grid_auto_flow": null,
            "grid_auto_rows": null,
            "grid_column": null,
            "grid_gap": null,
            "grid_row": null,
            "grid_template_areas": null,
            "grid_template_columns": null,
            "grid_template_rows": null,
            "height": null,
            "justify_content": null,
            "justify_items": null,
            "left": null,
            "margin": null,
            "max_height": null,
            "max_width": null,
            "min_height": null,
            "min_width": null,
            "object_fit": null,
            "object_position": null,
            "order": null,
            "overflow": null,
            "overflow_x": null,
            "overflow_y": null,
            "padding": null,
            "right": null,
            "top": null,
            "visibility": null,
            "width": null
          }
        },
        "60c08c7976b9497a8ed5a7429e8436b2": {
          "model_module": "@jupyter-widgets/controls",
          "model_name": "ProgressStyleModel",
          "model_module_version": "1.5.0",
          "state": {
            "_model_module": "@jupyter-widgets/controls",
            "_model_module_version": "1.5.0",
            "_model_name": "ProgressStyleModel",
            "_view_count": null,
            "_view_module": "@jupyter-widgets/base",
            "_view_module_version": "1.2.0",
            "_view_name": "StyleView",
            "bar_color": null,
            "description_width": ""
          }
        },
        "7b0c051b22fc487490be9c0527b4a091": {
          "model_module": "@jupyter-widgets/base",
          "model_name": "LayoutModel",
          "model_module_version": "1.2.0",
          "state": {
            "_model_module": "@jupyter-widgets/base",
            "_model_module_version": "1.2.0",
            "_model_name": "LayoutModel",
            "_view_count": null,
            "_view_module": "@jupyter-widgets/base",
            "_view_module_version": "1.2.0",
            "_view_name": "LayoutView",
            "align_content": null,
            "align_items": null,
            "align_self": null,
            "border": null,
            "bottom": null,
            "display": null,
            "flex": null,
            "flex_flow": null,
            "grid_area": null,
            "grid_auto_columns": null,
            "grid_auto_flow": null,
            "grid_auto_rows": null,
            "grid_column": null,
            "grid_gap": null,
            "grid_row": null,
            "grid_template_areas": null,
            "grid_template_columns": null,
            "grid_template_rows": null,
            "height": null,
            "justify_content": null,
            "justify_items": null,
            "left": null,
            "margin": null,
            "max_height": null,
            "max_width": null,
            "min_height": null,
            "min_width": null,
            "object_fit": null,
            "object_position": null,
            "order": null,
            "overflow": null,
            "overflow_x": null,
            "overflow_y": null,
            "padding": null,
            "right": null,
            "top": null,
            "visibility": null,
            "width": null
          }
        },
        "bc6eff2f496f41a2aa0069a665d70d75": {
          "model_module": "@jupyter-widgets/controls",
          "model_name": "DescriptionStyleModel",
          "model_module_version": "1.5.0",
          "state": {
            "_model_module": "@jupyter-widgets/controls",
            "_model_module_version": "1.5.0",
            "_model_name": "DescriptionStyleModel",
            "_view_count": null,
            "_view_module": "@jupyter-widgets/base",
            "_view_module_version": "1.2.0",
            "_view_name": "StyleView",
            "description_width": ""
          }
        }
      }
    }
  },
  "cells": [
    {
      "cell_type": "markdown",
      "metadata": {
        "id": "view-in-github",
        "colab_type": "text"
      },
      "source": [
        "<a href=\"https://colab.research.google.com/github/jx-dohwan/BERT-FP_MRS/blob/main/Post_Pretrain.ipynb\" target=\"_parent\"><img src=\"https://colab.research.google.com/assets/colab-badge.svg\" alt=\"Open In Colab\"/></a>"
      ]
    },
    {
      "cell_type": "markdown",
      "source": [
        "# Post-training"
      ],
      "metadata": {
        "id": "cVenUKAHi5-z"
      }
    },
    {
      "cell_type": "markdown",
      "source": [
        "## 라이브러리 설치"
      ],
      "metadata": {
        "id": "jH75PgrgjBGJ"
      }
    },
    {
      "cell_type": "code",
      "execution_count": 1,
      "metadata": {
        "colab": {
          "base_uri": "https://localhost:8080/"
        },
        "id": "gqX3WxLyi1H3",
        "outputId": "61ebd55c-7602-41ed-cd87-5d8679f9dbc1"
      },
      "outputs": [
        {
          "output_type": "stream",
          "name": "stdout",
          "text": [
            "Looking in indexes: https://pypi.org/simple, https://us-python.pkg.dev/colab-wheels/public/simple/\n",
            "Requirement already satisfied: torch in /usr/local/lib/python3.8/dist-packages (1.13.1+cu116)\n",
            "Requirement already satisfied: typing-extensions in /usr/local/lib/python3.8/dist-packages (from torch) (4.4.0)\n",
            "Looking in indexes: https://pypi.org/simple, https://us-python.pkg.dev/colab-wheels/public/simple/\n",
            "Collecting transformers==4.25.1\n",
            "  Downloading transformers-4.25.1-py3-none-any.whl (5.8 MB)\n",
            "\u001b[2K     \u001b[90m━━━━━━━━━━━━━━━━━━━━━━━━━━━━━━━━━━━━━━━━\u001b[0m \u001b[32m5.8/5.8 MB\u001b[0m \u001b[31m36.5 MB/s\u001b[0m eta \u001b[36m0:00:00\u001b[0m\n",
            "\u001b[?25hRequirement already satisfied: numpy>=1.17 in /usr/local/lib/python3.8/dist-packages (from transformers==4.25.1) (1.21.6)\n",
            "Requirement already satisfied: pyyaml>=5.1 in /usr/local/lib/python3.8/dist-packages (from transformers==4.25.1) (6.0)\n",
            "Collecting tokenizers!=0.11.3,<0.14,>=0.11.1\n",
            "  Downloading tokenizers-0.13.2-cp38-cp38-manylinux_2_17_x86_64.manylinux2014_x86_64.whl (7.6 MB)\n",
            "\u001b[2K     \u001b[90m━━━━━━━━━━━━━━━━━━━━━━━━━━━━━━━━━━━━━━━━\u001b[0m \u001b[32m7.6/7.6 MB\u001b[0m \u001b[31m47.0 MB/s\u001b[0m eta \u001b[36m0:00:00\u001b[0m\n",
            "\u001b[?25hRequirement already satisfied: regex!=2019.12.17 in /usr/local/lib/python3.8/dist-packages (from transformers==4.25.1) (2022.6.2)\n",
            "Collecting huggingface-hub<1.0,>=0.10.0\n",
            "  Downloading huggingface_hub-0.12.0-py3-none-any.whl (190 kB)\n",
            "\u001b[2K     \u001b[90m━━━━━━━━━━━━━━━━━━━━━━━━━━━━━━━━━━━━━━\u001b[0m \u001b[32m190.3/190.3 KB\u001b[0m \u001b[31m17.3 MB/s\u001b[0m eta \u001b[36m0:00:00\u001b[0m\n",
            "\u001b[?25hRequirement already satisfied: packaging>=20.0 in /usr/local/lib/python3.8/dist-packages (from transformers==4.25.1) (23.0)\n",
            "Requirement already satisfied: requests in /usr/local/lib/python3.8/dist-packages (from transformers==4.25.1) (2.25.1)\n",
            "Requirement already satisfied: filelock in /usr/local/lib/python3.8/dist-packages (from transformers==4.25.1) (3.9.0)\n",
            "Requirement already satisfied: tqdm>=4.27 in /usr/local/lib/python3.8/dist-packages (from transformers==4.25.1) (4.64.1)\n",
            "Requirement already satisfied: typing-extensions>=3.7.4.3 in /usr/local/lib/python3.8/dist-packages (from huggingface-hub<1.0,>=0.10.0->transformers==4.25.1) (4.4.0)\n",
            "Requirement already satisfied: urllib3<1.27,>=1.21.1 in /usr/local/lib/python3.8/dist-packages (from requests->transformers==4.25.1) (1.24.3)\n",
            "Requirement already satisfied: idna<3,>=2.5 in /usr/local/lib/python3.8/dist-packages (from requests->transformers==4.25.1) (2.10)\n",
            "Requirement already satisfied: certifi>=2017.4.17 in /usr/local/lib/python3.8/dist-packages (from requests->transformers==4.25.1) (2022.12.7)\n",
            "Requirement already satisfied: chardet<5,>=3.0.2 in /usr/local/lib/python3.8/dist-packages (from requests->transformers==4.25.1) (4.0.0)\n",
            "Installing collected packages: tokenizers, huggingface-hub, transformers\n",
            "Successfully installed huggingface-hub-0.12.0 tokenizers-0.13.2 transformers-4.25.1\n"
          ]
        }
      ],
      "source": [
        "!pip install torch\n",
        "!pip install transformers==4.25.1"
      ]
    },
    {
      "cell_type": "code",
      "source": [
        "!nvidia-smi"
      ],
      "metadata": {
        "colab": {
          "base_uri": "https://localhost:8080/"
        },
        "id": "y21vmEjKjMyc",
        "outputId": "4800b755-fbeb-40a4-d1dd-d6d8f670a8a4"
      },
      "execution_count": 2,
      "outputs": [
        {
          "output_type": "stream",
          "name": "stdout",
          "text": [
            "NVIDIA-SMI has failed because it couldn't communicate with the NVIDIA driver. Make sure that the latest NVIDIA driver is installed and running.\n",
            "\n"
          ]
        }
      ]
    },
    {
      "cell_type": "markdown",
      "source": [
        "## 데이터 다운로드"
      ],
      "metadata": {
        "id": "reklAI1YjXjy"
      }
    },
    {
      "cell_type": "markdown",
      "source": [
        "### 스마일 스타일 데이터세트(for 대화 및 스타일 트랜스퍼)"
      ],
      "metadata": {
        "id": "sVoUGEDzjZvB"
      }
    },
    {
      "cell_type": "code",
      "source": [
        "!git clone https://github.com/smilegate-ai/korean_smile_style_dataset\n",
        "# https://corpus.korean.go.kr/\n",
        "# https://aihub.or.kr/aihub-data/natural-language/about"
      ],
      "metadata": {
        "colab": {
          "base_uri": "https://localhost:8080/"
        },
        "id": "22U2-AHDjU_y",
        "outputId": "548d7529-252f-4efb-fa8d-b634b362374b"
      },
      "execution_count": 3,
      "outputs": [
        {
          "output_type": "stream",
          "name": "stdout",
          "text": [
            "Cloning into 'korean_smile_style_dataset'...\n",
            "remote: Enumerating objects: 81, done.\u001b[K\n",
            "remote: Counting objects: 100% (81/81), done.\u001b[K\n",
            "remote: Compressing objects: 100% (77/77), done.\u001b[K\n",
            "remote: Total 81 (delta 21), reused 0 (delta 0), pack-reused 0\u001b[K\n",
            "Unpacking objects: 100% (81/81), 2.57 MiB | 5.38 MiB/s, done.\n"
          ]
        }
      ]
    },
    {
      "cell_type": "code",
      "source": [
        "import pandas as pd\n",
        "df = pd.read_csv('/content/korean_smile_style_dataset/smilestyle_dataset.tsv', sep='\\t')\n",
        "df.to_csv('./korean_smile_style_dataset/smile.csv', index=False)"
      ],
      "metadata": {
        "id": "eXSSXMFxjunK"
      },
      "execution_count": 4,
      "outputs": []
    },
    {
      "cell_type": "code",
      "source": [
        "!head -3 './korean_smile_style_dataset/smile.csv'"
      ],
      "metadata": {
        "colab": {
          "base_uri": "https://localhost:8080/"
        },
        "id": "u0v7T4wxkJwc",
        "outputId": "b420d4e7-86d1-4793-d8c3-f7b8c9894e70"
      },
      "execution_count": 5,
      "outputs": [
        {
          "output_type": "stream",
          "name": "stdout",
          "text": [
            "formal,informal,android,azae,chat,choding,emoticon,enfp,gentle,halbae,halmae,joongding,king,naruto,seonbi,sosim,translator\n",
            "안녕하세요. 저는 고양이 6마리 키워요.,안녕! 나는 고양이 6마리 키워.,휴먼. 반갑다. 안드로이드는. 고양이. 6마리. 소유중.,아이고 안녕하십니까~ 나는 그냥 고양이 6마리 키우고 있는 사람이여,하잉ㅋㅋ 나 떼걸룩 6마리 키운다!,ㅎㅇ 나 주인님 6마리 모심 ㅋㅋ,안녕!! >< 나는 고양이😺를 ➏ 마리 키우고있어!! 0_0,안녕안녕~! 나 고양이 6마리나 키운다? 완전 대박이징~,\"안녕하십니까,, 저는 고양이 6마리 키웁니다.\",안녕하신가~... 난 지금 고양이를 6마리 키우고 있다네,하유 시벌것 괭이놈 6마리 키우는데 힘들어 죽겟네,안녕하냐 ㅡㅡ 나 씹냥이 6마리나 키운다 하;,반갑소. 짐은 고양이를 6마리나 키우오.,안녕하냐니깐! 난 고양이를 6마리 키우고있다니깐!,안녕하시오! 소인은 고양이를 6마리 키우고 있소!,안녕… 난 고양이 6마리 키워 ㅠㅠ,반가운. 나는 6마리의 고양이를 소지하고 있다.\n",
            "고양이를 6마리나요? 키우는거 안 힘드세요?,고양이를 6마리나? 키우는거 안 힘들어?,고양이. 6마리. 양육. 번거로운가.,아니 무슨 고양이를 6마리나? 거 키우는 거 안 힘든가?,엥? 6마리나? 안힘듬?ㅋㅋㅋㅋ,6마리? 에바아니냐 안 힘듦?,고양이를 6마리나?!! w(ﾟДﾟ)w 키우는거 안 힘듬?? (⊙_⊙;),고양이를 6마리나? 완전 대박~ 키우는 거 안 힘들어?!,\"고양이를 6마리나 키우십니까? 안 힘드신지,,\",고양이를 6마리나? 키우는거 힘들지 않는가?,니기럴 털만 날리는 거 키우기 안 힘들데?,아니 고양이를 6마리나? 안힘드냐?,고양이를 6마리나? 키우는게 수고스럽진 않소?,고양이를 6마리나? 키우는거 힘들지 않냐니깐?,고양이를 6마리나 키우고 있는 것이오? 힘들지 않소?,고양이..6마리나? ㅠ 키우는건 혹시 안힘들어..?,6마리의 고양이? 당신은 그들로부터 지치지 않습니까?\n"
          ]
        }
      ]
    },
    {
      "cell_type": "markdown",
      "source": [
        "## 데이터 가공하기"
      ],
      "metadata": {
        "id": "ZkmRR95TkZWL"
      }
    },
    {
      "cell_type": "code",
      "source": [
        "import csv\n",
        "\n",
        "data_path = './korean_smile_style_dataset/smile.csv'\n",
        "f = open(data_path, 'r')\n",
        "rdr = csv.reader(f)\n",
        "\n",
        "for line in rdr:\n",
        "    print(line)\n",
        "    break"
      ],
      "metadata": {
        "colab": {
          "base_uri": "https://localhost:8080/"
        },
        "id": "BpVJsdF6kOya",
        "outputId": "b5663c9e-1f22-4654-b0c9-1f6866609554"
      },
      "execution_count": 6,
      "outputs": [
        {
          "output_type": "stream",
          "name": "stdout",
          "text": [
            "['formal', 'informal', 'android', 'azae', 'chat', 'choding', 'emoticon', 'enfp', 'gentle', 'halbae', 'halmae', 'joongding', 'king', 'naruto', 'seonbi', 'sosim', 'translator']\n"
          ]
        }
      ]
    },
    {
      "cell_type": "code",
      "source": [
        "# 데이터 저장\n",
        "def split(session):\n",
        "    final_data = []\n",
        "    split_session = []\n",
        "    for line in session:\n",
        "        split_session.append(line)\n",
        "        final_data.append(split_session[:])\n",
        "    return final_data\n",
        "\n",
        "f = open(data_path, 'r')\n",
        "rdr = csv.reader(f)\n",
        "\n",
        "\"\"\" 세션 데이터 저장할 것\"\"\"\n",
        "session_dataset = []\n",
        "session = []\n",
        "\n",
        "\"\"\" 실제 데이터 저장 방식 \"\"\"\n",
        "for i, line in enumerate(rdr):\n",
        "    if i == 0:\n",
        "        header = line\n",
        "    else:\n",
        "        utt = line[0] #formal\n",
        "        if utt.strip() != '':\n",
        "            session.append(utt)\n",
        "        else:\n",
        "            \"\"\" 세션 데이터 저장 \"\"\"\n",
        "            session_dataset.append(session)\n",
        "            session = []\n",
        "\"\"\" 마지막 세션 저장 \"\"\"\n",
        "session_dataset.append(session)\n",
        "f.close()"
      ],
      "metadata": {
        "id": "oqqZYKXalM_D"
      },
      "execution_count": 7,
      "outputs": []
    },
    {
      "cell_type": "code",
      "source": [
        "session_dataset[0]"
      ],
      "metadata": {
        "colab": {
          "base_uri": "https://localhost:8080/"
        },
        "id": "MvmiiWL-mRxa",
        "outputId": "06e987a4-5768-4934-f76c-9329fe052f2a"
      },
      "execution_count": 8,
      "outputs": [
        {
          "output_type": "execute_result",
          "data": {
            "text/plain": [
              "['안녕하세요. 저는 고양이 6마리 키워요.',\n",
              " '고양이를 6마리나요? 키우는거 안 힘드세요?',\n",
              " '제가 워낙 고양이를 좋아해서 크게 힘들진 않아요.',\n",
              " '가장 나이가 많은 고양이가 어떻게 돼요?',\n",
              " '여섯 살입니다. 갈색 고양이에요.',\n",
              " '그럼 가장 어린 고양이가 어떻게 돼요?',\n",
              " '한 살입니다. 작년에 분양 받았어요.',\n",
              " '그럼 고양이들끼리 안 싸우나요?',\n",
              " '저희 일곱은 다같이 한 가족입니다. 싸우는 일은 없어요.']"
            ]
          },
          "metadata": {},
          "execution_count": 8
        }
      ]
    },
    {
      "cell_type": "code",
      "source": [
        "len(session_dataset)"
      ],
      "metadata": {
        "colab": {
          "base_uri": "https://localhost:8080/"
        },
        "id": "SSKUlUoZmUAC",
        "outputId": "a1436d89-5ccc-400c-d00d-9a4f56ee91f9"
      },
      "execution_count": 9,
      "outputs": [
        {
          "output_type": "execute_result",
          "data": {
            "text/plain": [
              "236"
            ]
          },
          "metadata": {},
          "execution_count": 9
        }
      ]
    },
    {
      "cell_type": "markdown",
      "source": [
        "## 모델을 학습하기 위한 loss "
      ],
      "metadata": {
        "id": "hHYDlQ8Omx7W"
      }
    },
    {
      "cell_type": "code",
      "source": [],
      "metadata": {
        "id": "UPrhA7rZmiRR"
      },
      "execution_count": 9,
      "outputs": []
    },
    {
      "cell_type": "markdown",
      "source": [
        "## MLM을 위한 입력"
      ],
      "metadata": {
        "id": "c-7PP6JUnrXd"
      }
    },
    {
      "cell_type": "code",
      "source": [
        " from transformers import AutoTokenizer\n",
        " tokenizer = AutoTokenizer.from_pretrained('klue/roberta-base')"
      ],
      "metadata": {
        "id": "X8BL0KIAnstl",
        "colab": {
          "base_uri": "https://localhost:8080/",
          "height": 145,
          "referenced_widgets": [
            "813d5a666a6e469395c48669c8fde2dd",
            "f3233d55c83a4addbde89f9b28a0f51d",
            "fb44e0ae23e24b1a8cb7d2f9e43cedf6",
            "659fa670069144d0a12145abcd3d24ed",
            "01cd82e70f024094ba33cfe9c8584f6b",
            "afbca8d94d5f4a8490a68b7f57dcedaf",
            "a1f315b0d5e84c0f92b9b7afcfef4325",
            "ab079997ae4e4b16b1fe92d98936b662",
            "50d39abcf10248bfa223494d4c9af43c",
            "a04cf09f27b44c4c8333b8174e0f83c5",
            "2ad0839603884b149df52fb7c920edec",
            "a73c132585404b2d9d12cea5e6081393",
            "5d8cf48c6b6f419cbc9f704debadb9bb",
            "44528bae9f6d4ffd9c8cd4d8b8940fcf",
            "ab8b194eeaa54481b64395a7bc7e7ec9",
            "c9b998c5c3d54434bff0f171d7c8858d",
            "0d9cbcf7ca7446fa946d2987c23ff227",
            "825fe0476d4f47d78820995016afbfb9",
            "3586b8d7292940d29df336ebebb1f76e",
            "39aaf982ddc64e1881433fed4d864498",
            "a9020b528ef8444ea1921999da590bf1",
            "f088f0447d8844cfbeeaafcb3dd572c7",
            "75c67cc09c1d4d67858d3cd1b8504157",
            "2aad52b845924fc6b8e2da59e891dbf6",
            "b33d07531fe54f0891f02ddbb8270466",
            "0c63d7e48b154064a38b391964084a8b",
            "324df8d169264596a0cc9f0faab6ad05",
            "f6d094cfe1e8474e85b8bf1003927d14",
            "0316b8aff2284448b105349fbe0e3217",
            "22af0b74291d4e5a9417adf7ae40e97c",
            "c6728314605f42558b7a329c5f5090c1",
            "0ff2ad48aa6b4c8b9665f6ca12fdc280",
            "d12d458f6eea4aa4bcb8be4f77c6aa34",
            "bed7c8b85dd9445fb954b0f1d97e8fc2",
            "0d0ca840cb154970a21c823415172d5d",
            "26ffacee051845638140212bd68b6b47",
            "cb0b9894cc744ea581bb7a31e0915cb8",
            "af520a1ce35346d18701259ed6d8f468",
            "1bac60a3105e437aaaecd55ad2396c1d",
            "93c47c5533754a0b8797571b5e1c0979",
            "835d64a0fb764fbda42d988dd0089779",
            "60c08c7976b9497a8ed5a7429e8436b2",
            "7b0c051b22fc487490be9c0527b4a091",
            "bc6eff2f496f41a2aa0069a665d70d75"
          ]
        },
        "outputId": "b9ade46e-cf5b-4257-ec09-e8ac3e6bab78"
      },
      "execution_count": 10,
      "outputs": [
        {
          "output_type": "display_data",
          "data": {
            "text/plain": [
              "Downloading (…)okenizer_config.json:   0%|          | 0.00/375 [00:00<?, ?B/s]"
            ],
            "application/vnd.jupyter.widget-view+json": {
              "version_major": 2,
              "version_minor": 0,
              "model_id": "813d5a666a6e469395c48669c8fde2dd"
            }
          },
          "metadata": {}
        },
        {
          "output_type": "display_data",
          "data": {
            "text/plain": [
              "Downloading (…)solve/main/vocab.txt:   0%|          | 0.00/248k [00:00<?, ?B/s]"
            ],
            "application/vnd.jupyter.widget-view+json": {
              "version_major": 2,
              "version_minor": 0,
              "model_id": "a73c132585404b2d9d12cea5e6081393"
            }
          },
          "metadata": {}
        },
        {
          "output_type": "display_data",
          "data": {
            "text/plain": [
              "Downloading (…)/main/tokenizer.json:   0%|          | 0.00/752k [00:00<?, ?B/s]"
            ],
            "application/vnd.jupyter.widget-view+json": {
              "version_major": 2,
              "version_minor": 0,
              "model_id": "75c67cc09c1d4d67858d3cd1b8504157"
            }
          },
          "metadata": {}
        },
        {
          "output_type": "display_data",
          "data": {
            "text/plain": [
              "Downloading (…)cial_tokens_map.json:   0%|          | 0.00/173 [00:00<?, ?B/s]"
            ],
            "application/vnd.jupyter.widget-view+json": {
              "version_major": 2,
              "version_minor": 0,
              "model_id": "bed7c8b85dd9445fb954b0f1d97e8fc2"
            }
          },
          "metadata": {}
        }
      ]
    },
    {
      "cell_type": "code",
      "source": [
        "tokenizer.special_tokens_map_extended"
      ],
      "metadata": {
        "colab": {
          "base_uri": "https://localhost:8080/"
        },
        "id": "TXlRX0T-sZX6",
        "outputId": "d97f76d3-ef1f-4f2f-f685-e2523b25fffe"
      },
      "execution_count": 11,
      "outputs": [
        {
          "output_type": "execute_result",
          "data": {
            "text/plain": [
              "{'bos_token': '[CLS]',\n",
              " 'eos_token': '[SEP]',\n",
              " 'unk_token': '[UNK]',\n",
              " 'sep_token': '[SEP]',\n",
              " 'pad_token': '[PAD]',\n",
              " 'cls_token': '[CLS]',\n",
              " 'mask_token': '[MASK]'}"
            ]
          },
          "metadata": {},
          "execution_count": 11
        }
      ]
    },
    {
      "cell_type": "code",
      "source": [
        "tokenizer.eos_token, tokenizer.sep_token, tokenizer.eos_token_id, tokenizer.sep_token_id"
      ],
      "metadata": {
        "id": "A2l8WIxwsgBt",
        "colab": {
          "base_uri": "https://localhost:8080/"
        },
        "outputId": "cc3bc08c-623d-4510-8fb0-54e4dc13f682"
      },
      "execution_count": 12,
      "outputs": [
        {
          "output_type": "execute_result",
          "data": {
            "text/plain": [
              "('[SEP]', '[SEP]', 2, 2)"
            ]
          },
          "metadata": {},
          "execution_count": 12
        }
      ]
    },
    {
      "cell_type": "code",
      "source": [
        "\"\"\"\n",
        "논문 입력 형태 [CLS] u1 [EOU] ... ut-1 [EOU] [SEP] ut [SEP]\n",
        "sep_token을 다른 토큰으로 변경하자\n",
        "-> 입력형태 : [CLS] u1 <SEP> ... ut-1 <SEP> [SEP] ut [SEP]\n",
        "\"\"\"\n",
        "\n",
        "special_tokens = {'sep_token' : '<SEP>'}\n",
        "tokenizer.add_special_tokens(special_tokens)"
      ],
      "metadata": {
        "colab": {
          "base_uri": "https://localhost:8080/"
        },
        "id": "cjHrpo9C-7MA",
        "outputId": "c9b411cf-c48d-4f4f-d365-70d89dedcefb"
      },
      "execution_count": 13,
      "outputs": [
        {
          "output_type": "execute_result",
          "data": {
            "text/plain": [
              "1"
            ]
          },
          "metadata": {},
          "execution_count": 13
        }
      ]
    },
    {
      "cell_type": "code",
      "source": [
        "tokenizer.eos_token, tokenizer.sep_token, tokenizer.eos_token_id, tokenizer.sep_token_id"
      ],
      "metadata": {
        "colab": {
          "base_uri": "https://localhost:8080/"
        },
        "id": "r-9fDfasE6SD",
        "outputId": "e3660c75-5795-4639-fc39-7d6b3b40bbd5"
      },
      "execution_count": 14,
      "outputs": [
        {
          "output_type": "execute_result",
          "data": {
            "text/plain": [
              "('[SEP]', '<SEP>', 2, 32000)"
            ]
          },
          "metadata": {},
          "execution_count": 14
        }
      ]
    },
    {
      "cell_type": "code",
      "source": [
        "tokenizer.mask_token, tokenizer.mask_token_id"
      ],
      "metadata": {
        "colab": {
          "base_uri": "https://localhost:8080/"
        },
        "id": "gTheubcnE8_z",
        "outputId": "28c668c4-277c-40f4-eed9-a0c45c428b69"
      },
      "execution_count": 15,
      "outputs": [
        {
          "output_type": "execute_result",
          "data": {
            "text/plain": [
              "('[MASK]', 4)"
            ]
          },
          "metadata": {},
          "execution_count": 15
        }
      ]
    },
    {
      "cell_type": "code",
      "source": [
        "import random\n",
        "\n",
        "session = session_dataset[0]\n",
        "mask_ratio = 0.15\n",
        "corrupt_tokens = []\n",
        "output_tokens = []\n",
        "\n",
        "for i, utt in enumerate(session):\n",
        "    original_token = tokenizer.encode(utt, add_special_tokens=False)\n",
        "\n",
        "    mask_num = int(len(original_token)*mask_ratio)\n",
        "    mask_positions = random.sample([x for x in range(len(original_token))], mask_num)\n",
        "    corrupt_token = []\n",
        "    for pos in range(len(original_token)):\n",
        "        if pos in mask_positions:\n",
        "            corrupt_token.append(tokenizer.mask_token_id)\n",
        "        else:\n",
        "            corrupt_token.append(original_token[pos])\n",
        "            \n",
        "    if i == len(session)-1:\n",
        "        output_tokens += original_token\n",
        "        corrupt_tokens += corrupt_token\n",
        "    else:\n",
        "        output_tokens += original_token + [tokenizer.sep_token_id]\n",
        "        corrupt_tokens += corrupt_token + [tokenizer.sep_token_id]"
      ],
      "metadata": {
        "id": "fMa1ms4LFYbC"
      },
      "execution_count": 16,
      "outputs": []
    },
    {
      "cell_type": "code",
      "source": [
        "print(tokenizer.decode(output_tokens))\n",
        "print('###')\n",
        "print(tokenizer.decode(corrupt_tokens))"
      ],
      "metadata": {
        "colab": {
          "base_uri": "https://localhost:8080/"
        },
        "id": "XWf2e4hpHBPF",
        "outputId": "8c5b0383-fbad-4c23-8fbf-6e91dc838448"
      },
      "execution_count": 17,
      "outputs": [
        {
          "output_type": "stream",
          "name": "stdout",
          "text": [
            "안녕하세요. 저는 고양이 6마리 키워요. <SEP> 고양이를 6마리나요? 키우는거 안 힘드세요? <SEP> 제가 워낙 고양이를 좋아해서 크게 힘들진 않아요. <SEP> 가장 나이가 많은 고양이가 어떻게 돼요? <SEP> 여섯 살입니다. 갈색 고양이에요. <SEP> 그럼 가장 어린 고양이가 어떻게 돼요? <SEP> 한 살입니다. 작년에 분양 받았어요. <SEP> 그럼 고양이들끼리 안 싸우나요? <SEP> 저희 일곱은 다같이 한 가족입니다. 싸우는 일은 없어요.\n",
            "###\n",
            "안녕하 [MASK]. 저는 고양이 6마리 키워요. <SEP> 고양이를 6마리나 [MASK]? 키우는거 안 [MASK]세요? <SEP> 제 [MASK] 워낙 고양이를 좋아해서 크게 힘들진 [MASK]아요. <SEP> 가장 나이 [MASK] 많은 고양이가 어떻게 돼요? <SEP> 여섯 [MASK]입니다. 갈색 고양이에요. <SEP> 그럼 가장 어린 [MASK]가 어떻게 돼요? <SEP> 한 살입니다. 작년에 분양 받았 [MASK]. <SEP> 그럼 [MASK]들끼리 안 싸우나요? <SEP> 저희 일곱은 다같이 한 가족입니다. 싸우 [MASK] [MASK]은 없어요.\n"
          ]
        }
      ]
    },
    {
      "cell_type": "markdown",
      "source": [
        "## URC를 위한 입력 토큰"
      ],
      "metadata": {
        "id": "zJalfojJWb0f"
      }
    },
    {
      "cell_type": "markdown",
      "source": [
        "### short session 구성"
      ],
      "metadata": {
        "id": "PoNbqAKyXbgG"
      }
    },
    {
      "cell_type": "code",
      "source": [
        "k =4 # 논문 참조 (3개는 context, 1개는 response)\n",
        "short_session_dataset = []\n",
        "for session in session_dataset:\n",
        "      for i in range(len(session)-k+1):\n",
        "          short_session_dataset.append(session[i:i+k])\n",
        "print(len(short_session_dataset))"
      ],
      "metadata": {
        "id": "XsGInLYjHMrL",
        "colab": {
          "base_uri": "https://localhost:8080/"
        },
        "outputId": "3f148c93-c7b5-418b-8b69-7a5ff2ebaa56"
      },
      "execution_count": 18,
      "outputs": [
        {
          "output_type": "stream",
          "name": "stdout",
          "text": [
            "2762\n"
          ]
        }
      ]
    },
    {
      "cell_type": "code",
      "source": [
        "short_session_dataset[0]"
      ],
      "metadata": {
        "colab": {
          "base_uri": "https://localhost:8080/"
        },
        "id": "k0Iy-L4MXVaU",
        "outputId": "4549b101-bd18-488e-a9b1-284816e011fc"
      },
      "execution_count": 19,
      "outputs": [
        {
          "output_type": "execute_result",
          "data": {
            "text/plain": [
              "['안녕하세요. 저는 고양이 6마리 키워요.',\n",
              " '고양이를 6마리나요? 키우는거 안 힘드세요?',\n",
              " '제가 워낙 고양이를 좋아해서 크게 힘들진 않아요.',\n",
              " '가장 나이가 많은 고양이가 어떻게 돼요?']"
            ]
          },
          "metadata": {},
          "execution_count": 19
        }
      ]
    },
    {
      "cell_type": "markdown",
      "source": [
        "### URC 입력 만들기"
      ],
      "metadata": {
        "id": "Xv4kUnBSXd7E"
      }
    },
    {
      "cell_type": "code",
      "source": [
        "# 모든 발화가 negativ response candidate\n",
        "import random\n",
        "\n",
        "all_utts = set()\n",
        "for session in session_dataset:\n",
        "    for utt in session:\n",
        "        all_utts.add(utt)\n",
        "all_utts = list(all_utts)\n",
        "print(len(all_utts), all_utts[0])"
      ],
      "metadata": {
        "colab": {
          "base_uri": "https://localhost:8080/"
        },
        "id": "RuUwmvHKW-Lu",
        "outputId": "f88ede91-bcd6-461f-d718-7d176725b328"
      },
      "execution_count": 20,
      "outputs": [
        {
          "output_type": "stream",
          "name": "stdout",
          "text": [
            "3430 저번 주에 산 루빅 큐브는 약간 후회합니다.\n"
          ]
        }
      ]
    },
    {
      "cell_type": "code",
      "source": [
        "session = short_session_dataset[0]\n",
        "urc_tokens = []\n",
        "context_utts = []\n",
        "for i in range(len(session)):\n",
        "    utt = session[i]    \n",
        "    original_token = tokenizer.encode(utt, add_special_tokens=False)\n",
        "    if i == len(session)-1:\n",
        "        # urc_tokens += [tokenizer.eos_token_id]\n",
        "        \"\"\" 기존 response 입력 \"\"\" # 마지막 발화\n",
        "        positive_tokens = urc_tokens + original_token \n",
        "        \"\"\" random negative respons 입력 \"\"\" # random으로 선택해서 넣어준다.\n",
        "        while True:\n",
        "            random_neg_response = random.choice(all_utts)\n",
        "            if random_neg_response not in context_utts:\n",
        "                break\n",
        "        random_neg_response_token = tokenizer.encode(random_neg_response, add_special_tokens=False)\n",
        "        random_tokens = urc_tokens + random_neg_response_token\n",
        "        \"\"\" context negative response 입력 \"\"\" #context_utts에서 랜덤으로 하나 뽑아준다.\n",
        "        context_neg_response = random.choice(context_utts)\n",
        "        context_neg_response_token = tokenizer.encode(context_neg_response, add_special_tokens=False)\n",
        "        context_neg_tokens = urc_tokens + context_neg_response_token\n",
        "    else:\n",
        "        urc_tokens += original_token + [tokenizer.sep_token_id]\n",
        "    context_utts.append(utt)"
      ],
      "metadata": {
        "id": "M3_E8aMeXt1C"
      },
      "execution_count": 25,
      "outputs": []
    },
    {
      "cell_type": "code",
      "source": [
        "print(tokenizer.decode(positive_tokens)) # 0\n",
        "print('#####')\n",
        "print(tokenizer.decode(random_tokens)) # 1\n",
        "print('#####')\n",
        "print(tokenizer.decode(context_neg_tokens)) # 2"
      ],
      "metadata": {
        "colab": {
          "base_uri": "https://localhost:8080/"
        },
        "id": "Dxbg58i0Y88O",
        "outputId": "87b5f0c6-7544-438b-e63b-2a41bced8c77"
      },
      "execution_count": 26,
      "outputs": [
        {
          "output_type": "stream",
          "name": "stdout",
          "text": [
            "안녕하세요. 저는 고양이 6마리 키워요. <SEP> 고양이를 6마리나요? 키우는거 안 힘드세요? <SEP> 제가 워낙 고양이를 좋아해서 크게 힘들진 않아요. <SEP> 가장 나이가 많은 고양이가 어떻게 돼요?\n",
            "#####\n",
            "안녕하세요. 저는 고양이 6마리 키워요. <SEP> 고양이를 6마리나요? 키우는거 안 힘드세요? <SEP> 제가 워낙 고양이를 좋아해서 크게 힘들진 않아요. <SEP> 그러긴 하지만, 베이컨 말고 다른 고기를 넣거나, 아예 안 넣으셔도 됩니다.\n",
            "#####\n",
            "안녕하세요. 저는 고양이 6마리 키워요. <SEP> 고양이를 6마리나요? 키우는거 안 힘드세요? <SEP> 제가 워낙 고양이를 좋아해서 크게 힘들진 않아요. <SEP> 고양이를 6마리나요? 키우는거 안 힘드세요?\n"
          ]
        }
      ]
    },
    {
      "cell_type": "markdown",
      "source": [
        "## 데이터 로드 만들기"
      ],
      "metadata": {
        "id": "rYQDZPx3bSCF"
      }
    },
    {
      "cell_type": "code",
      "source": [
        "import csv\n",
        "import random\n",
        "from torch.utils.data import Dataset\n",
        "from transformers import AutoTokenizer\n",
        "\n",
        "class post_loader(Dataset):\n",
        "    def __init__(self, data_path):\n",
        "        self.tokenizer = AutoTokenizer.from_pretrained('klue/roberta-base')\n",
        "        special_tokens = {'sep_token': '<SEP>'}\n",
        "        self.tokenizer.add_special_tokens(special_tokens)\n",
        "\n",
        "        f = open(data_path, 'r')\n",
        "        rdr = csv.reader(f)\n",
        "\n",
        "        \"\"\" 세션 데이터 저장할 것\"\"\"\n",
        "        session_dataset = []\n",
        "        session = []\n",
        "\n",
        "        \"\"\" 실제 데이터 저장 방식 \"\"\"\n",
        "        for i, line in enumerate(rdr):\n",
        "            if i == 0:\n",
        "                header = line\n",
        "            else:\n",
        "                utt = line[0] #formal\n",
        "                if utt.strip() != '':\n",
        "                    session.append(utt)\n",
        "                else:\n",
        "                    \"\"\" 세션 데이터 저장 \"\"\"\n",
        "                    session_dataset.append(session)\n",
        "                    session = []\n",
        "        \"\"\" 마지막 세션 저장 \"\"\"\n",
        "        session_dataset.append(session)\n",
        "        f.close()\n",
        "\n",
        "        \"\"\" short session context \"\"\"\n",
        "        self.short_session_dataset = []\n",
        "        for session in session_dataset:\n",
        "              for i in range(len(session)-k+1):\n",
        "                  self.short_session_dataset.append(session[i:i+k])\n",
        "\n",
        "        \"\"\" 모든 발화 저장 \"\"\"\n",
        "        self.all_utts = set()\n",
        "        for session in session_dataset:\n",
        "            for utt in session:\n",
        "                self.all_utts.add(utt)\n",
        "        self.all_utts = list(self.all_utts)\n",
        "\n",
        "\n",
        "    def __len__(self):\n",
        "        return len(self.short_session_dataset)\n",
        "\n",
        "    def __getitem__(self, idx): \n",
        "        session = self.short_session_dataset[idx]\n",
        "        \"\"\"MLM입력\"\"\"\n",
        "        mask_ratio = 0.15\n",
        "        self.corrupt_tokens = []\n",
        "        self.output_tokens = []\n",
        "\n",
        "        for i, utt in enumerate(session):\n",
        "            original_token = self.tokenizer.encode(utt, add_special_tokens=False)\n",
        "\n",
        "            mask_num = int(len(original_token)*mask_ratio)\n",
        "            mask_positions = random.sample([x for x in range(len(original_token))], mask_num)\n",
        "            corrupt_token = []\n",
        "            for pos in range(len(original_token)):\n",
        "                if pos in mask_positions:\n",
        "                    corrupt_token.append(self.tokenizer.mask_token_id)\n",
        "                else:\n",
        "                    corrupt_token.append(original_token[pos])\n",
        "                    \n",
        "            if i == len(session)-1:\n",
        "                self.output_tokens += original_token\n",
        "                self.corrupt_tokens += corrupt_token\n",
        "            else:\n",
        "                self.output_tokens += original_token + [self.tokenizer.sep_token_id]\n",
        "                self.corrupt_tokens += corrupt_token + [self.tokenizer.sep_token_id]\n",
        "\n",
        "\n",
        "        \"\"\" label for loss \"\"\"\n",
        "        self.corrupt_mask_positions = []\n",
        "        for pos in range(len(self.corrupt_tokens)):\n",
        "            if self.corrupt_tokens[pos] == self.tokenizer.mask_token_id:\n",
        "                self.corrupt_mask_positions.append(pos)\n",
        "\n",
        "        \"\"\" URC 입력 \"\"\"\n",
        "        urc_tokens = []\n",
        "        context_utts = []\n",
        "        for i in range(len(session)):\n",
        "            utt = session[i]    \n",
        "            original_token = self.tokenizer.encode(utt, add_special_tokens=False)\n",
        "            if i == len(session)-1:\n",
        "                urc_tokens += [self.tokenizer.eos_token_id]\n",
        "                \"\"\" 기존 response 입력 \"\"\" # 마지막 발화\n",
        "                self.positive_tokens = [self.tokenizer.cls_token_id] + urc_tokens + original_token # cls token 추가 \n",
        "                \"\"\" random negative respons 입력 \"\"\" # random으로 선택해서 넣어준다.\n",
        "                while True:\n",
        "                    random_neg_response = random.choice(all_utts)\n",
        "                    if random_neg_response not in context_utts:\n",
        "                        break\n",
        "                random_neg_response_token = tokenizer.encode(random_neg_response, add_special_tokens=False)\n",
        "                random_tokens = urc_tokens + random_neg_response_token\n",
        "                \"\"\" context negative response 입력 \"\"\" #context_utts에서 랜덤으로 하나 뽑아준다.\n",
        "                context_neg_response = random.choice(context_utts)\n",
        "                context_neg_response_token = tokenizer.encode(context_neg_response, add_special_tokens=False)\n",
        "                context_neg_tokens = urc_tokens + context_neg_response_token\n",
        "            else:\n",
        "                urc_tokens += original_token + [tokenizer.sep_token_id]\n",
        "            context_utts.append(utt)\n",
        "\n",
        "                \n"
      ],
      "metadata": {
        "id": "ZdaOm5LXa9Ow"
      },
      "execution_count": null,
      "outputs": []
    }
  ]
}